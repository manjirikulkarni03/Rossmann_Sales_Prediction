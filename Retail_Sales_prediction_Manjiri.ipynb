{
  "nbformat": 4,
  "nbformat_minor": 0,
  "metadata": {
    "colab": {
      "private_outputs": true,
      "provenance": [],
      "collapsed_sections": [
        "yQaldy8SH6Dl",
        "mDgbUHAGgjLW",
        "mqtLGGnvxJIR",
        "r7T-q-Fg5lLH",
        "p3z7ntI_O9Nq",
        "2fO49BByrjPF",
        "NzsSigdzxcVQ",
        "ttEO4E339YNU",
        "51ABtV_59YNV",
        "Ngf-Oxcw9YNV",
        "xfxs6IUL-Ftx",
        "n88AcaZf_MyC",
        "LTCxqIGj_MyD",
        "TlgNpj-C_MyD",
        "qj8NkR31KMrR",
        "8xUi_doS9gkp",
        "gfPfcHHh9gkq",
        "IHt7zeVv9gkr",
        "ZPrKcB-YX8u7",
        "xHqazOjX9ibV",
        "dfYaL-_Q9ibW",
        "wTg5rBh-9ibW",
        "PvRcWmYT9kpj",
        "co0viltN9kpk",
        "LTFHjxCT9kpk",
        "2BcWmX6X9lmo",
        "z4XSdbm09lmo",
        "bnfviIHk9lmp",
        "A_-l0tuqMDAa",
        "knwWoXm89nCc",
        "XpeGd7lv9nCd",
        "zP_2w-ok9nCd",
        "jEbSHOg-NlS6",
        "wEHiaYtL9out",
        "DfNfVXD49out",
        "K3bni5wZ9ouu",
        "G4J2LF_uNwkT",
        "jOoiu2Vt9pnD",
        "_RuezODA9pnE",
        "rnXB5wAG9pnF",
        "KVniuyyoN1pT",
        "axGuPNzL9qSX",
        "jrEKVqdp9qSY",
        "QMGNCKL99qSY",
        "SmGL1RMWN5nz",
        "YRTUVPJG9rEH",
        "5QykKAgV9rEI",
        "5rLAAgCT9rEI",
        "pJx8NhQ1N9Wq",
        "rK9GhTEC9rwr",
        "YKl_kFh89rws",
        "IrcnaWDb9rws",
        "__YbND0KOA0R",
        "37Inlwy49sde",
        "Ay9-rgQ-9sdf",
        "ttQwgfDa9sdf",
        "gOEw_sjYOF2Z",
        "nUkakYR79tiC",
        "U8BdCLad9tiD",
        "2zaBphNm9tiD",
        "rqCN-zvK9v_a",
        "yynWEvPH9v_a",
        "jZC8Ifpl9v_b",
        "cPjgYJ3cOP5E",
        "cHZUVJJC9xIK",
        "ZiLjVt9N9xIK",
        "Ar1frQH39xIK",
        "LsdK-sIqOXj9",
        "apVAPQXm9yrY",
        "yRlN2-pN9yrY",
        "km5ZRAml9yrY",
        "BXWMYpvWOe9A",
        "9d-OTKHn9zd6",
        "-LTOVgZK9zd6",
        "wd05EYcv9zd6",
        "oub_NbbmyCs5",
        "BtrRS27qyCs5",
        "xksGwSxtyCs5",
        "0wOQAZs5pc--",
        "Yfr_Vlr8HBkt",
        "tEA2Xm5dHt1r",
        "Ou-I18pAyIpj",
        "fF3858GYyt-u",
        "hwyV_J3ipUZe",
        "dEUvejAfpUZe",
        "Fd15vwWVpUZf",
        "bn_IUdTipZyH",
        "49K5P_iCpZyH",
        "Nff-vKELpZyI",
        "kLW572S8pZyI",
        "dWbDXHzopZyI",
        "-Kee-DAl2viO"
      ],
      "include_colab_link": true
    },
    "kernelspec": {
      "name": "python3",
      "display_name": "Python 3"
    },
    "language_info": {
      "name": "python"
    }
  },
  "cells": [
    {
      "cell_type": "markdown",
      "metadata": {
        "id": "view-in-github",
        "colab_type": "text"
      },
      "source": [
        "<a href=\"https://colab.research.google.com/github/manjirikulkarni03/Rossmann_Sales_Prediction/blob/main/Retail_Sales_prediction_Manjiri.ipynb\" target=\"_parent\"><img src=\"https://colab.research.google.com/assets/colab-badge.svg\" alt=\"Open In Colab\"/></a>"
      ]
    },
    {
      "cell_type": "markdown",
      "metadata": {
        "id": "vncDsAP0Gaoa"
      },
      "source": [
        "# **Project Name**    - Sales Prediction : Predicting sales of a major store chain Rossmann\n",
        "\n"
      ]
    },
    {
      "cell_type": "markdown",
      "metadata": {
        "id": "beRrZCGUAJYm"
      },
      "source": [
        "##### **Project Type**    - Regression\n",
        "##### **Contribution**    - Team\n",
        "##### **Team Member 1 - Prasad Wagh**\n",
        "##### **Team Member 2 -Manjiri Kulkarni**\n",
        "##### **Team Member 3 -Ajay Pandey**\n",
        "##### **Team Member 4 -Shahrukh Ahmad**\n",
        "##### **Team Member 5 -Ashi Saxena**"
      ]
    },
    {
      "cell_type": "markdown",
      "metadata": {
        "id": "FJNUwmbgGyua"
      },
      "source": [
        "# **Project Summary -**"
      ]
    },
    {
      "cell_type": "markdown",
      "metadata": {
        "id": "F6v_1wHtG2nS"
      },
      "source": [
        "**Rossman Sales Prediction** data contains historical sales data for a retail store chain. The data includes information about the store such as Competitior’s Detail, holiday’s, number of the customers, sale transaction's date and amount of sale on each day. We were tasked **to forecast the \"Sales\"** for the test set.\n",
        "\n",
        "After understanding the data and getting variables, we first gathered and **cleaned the data, handled the null values** and finally for getting better results we **merged** two datasets after that we have also typecasted the needed features into required format by **type casting** in order to visualize them properly. We performed indepth **EDA** and plotted different types of graphs by separating them into univariate, bivariate and multivariate categories as a result, We came accross some meaningful insights that helped us to make future decisions of ML model pipeline. Then further on, using **feature engineering** and data preprocessing  we have extracted new features like PromoDuration and CompetitionDuration with the help of some features which are not directly impacting to Sales. We also tried to get some impacting features by removing **multicollinearity** within the independent variables with the help of **various inflation factor(VIF)**. Under the umbrella of feature engineering we have detected and treated the outliers with the help of **IQR technique** and capped all the outliers of continous features in 25-75 percentile. Also, we noticed that some of the features were categorical in nature and ML model can not understand the language of alphabets(strings).So, we have encoded them into numericals using **One-Hot Encoding technique** as they were unordered in nature. \n",
        "\n",
        "In order to get normally distributed data we have applied various **transformation techniques** such as Logarithmic Transformation, Exponential Transformation, Square root Transformation and some others as well and plotted the quantie-quantile plot to visualize how far our data points are from the normal distribution.To scale the data We used the sklearn library **StandardScaler**.\n",
        "\n",
        "Now as we are ready with our final features we **splitted** it into training and testing sets. Next, we choose some **machine learning algorithms** and use the training data to train the model. Finally, we evaluated the model's performance on the testing data to see how well it is able to predict the sales for the real time data. For this task we used many machine learning algorithms, such as **linear regression, decision trees, random forests, LightGBM and XGboost**. For the less complex models like **Linear Regression**, we could achieve the **r2 score of 0.75** and **accuracy i.e 100-MAPE of 93%** even after applying regularisation techniques such as Lasso,Ridge and Elstic Net. In order to capture **more variance** and train our model more aptly, we decided to go for **more complex models** one by one. After training our datasets on decision trees, random forests, LightGBM and XGboost, we could gather the **r2 score of 0.94** with the best **accuracy of 97% using XGboost** with mean absolute percentage error of only 2%. Also we got the mean of residuals as 0.0 which is indicating towards perfectly normally distributed residuals which is one of the good characteristics of good residual plot. From the above experiments and identifications, we have choosen the **XGboost** as our **final optimal model** among all 5 models for deployment as it is predicting the highest accuracy with the least error.\n",
        "\n",
        "Overall, while building a machine learning model on Rossman Sales Prediction Data, we applied combination of **data processing, machine learning techniques, and model evaluation skills.** It was a challenging task and we faced some failures as well but with the right approach and knowledge, we successfully created a model that can accurately predict sales upto six weeks in advance!\n",
        "\n"
      ]
    },
    {
      "cell_type": "markdown",
      "metadata": {
        "id": "w6K7xa23Elo4"
      },
      "source": [
        "# **GitHub Link -**"
      ]
    },
    {
      "cell_type": "markdown",
      "metadata": {
        "id": "h1o69JH3Eqqn"
      },
      "source": [
        "Provide your GitHub Link here."
      ]
    },
    {
      "cell_type": "markdown",
      "metadata": {
        "id": "yQaldy8SH6Dl"
      },
      "source": [
        "# **Problem Statement**\n"
      ]
    },
    {
      "cell_type": "markdown",
      "metadata": {
        "id": "DpeJGUA3kjGy"
      },
      "source": [
        "Rossmann operates over 3,000 drug stores in 7 European countries. Currently, Rossmann store managers are tasked with predicting their daily sales for up to six weeks in advance. Store sales are influenced by many factors, including promotions, competition, school and state holidays, seasonality, and locality. With thousands of individual managers predicting sales based on their unique circumstances, the accuracy of results can be quite varied.\n",
        "You are provided with historical sales data for 1,115 Rossmann stores. The task is to forecast the \"Sales\" column for the test set. Note that some stores in the dataset were temporarily closed for refurbishment."
      ]
    },
    {
      "cell_type": "markdown",
      "source": [
        "![image.png](data:image/png;base64,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)"
      ],
      "metadata": {
        "id": "MULGwb79_K_9"
      }
    },
    {
      "cell_type": "markdown",
      "metadata": {
        "id": "mDgbUHAGgjLW"
      },
      "source": [
        "# **General Guidelines** : -  "
      ]
    },
    {
      "cell_type": "markdown",
      "metadata": {
        "id": "ZrxVaUj-hHfC"
      },
      "source": [
        "1.   Well-structured, formatted, and commented code is required. \n",
        "2.   Exception Handling, Production Grade Code & Deployment Ready Code will be a plus. Those students will be awarded some additional credits. \n",
        "     \n",
        "     The additional credits will have advantages over other students during Star Student selection.\n",
        "       \n",
        "             [ Note: - Deployment Ready Code is defined as, the whole .ipynb notebook should be executable in one go\n",
        "                       without a single error logged. ]\n",
        "\n",
        "3.   Each and every logic should have proper comments.\n",
        "4. You may add as many number of charts you want. Make Sure for each and every chart the following format should be answered.\n",
        "        \n",
        "\n",
        "```\n",
        "# Chart visualization code\n",
        "```\n",
        "            \n",
        "\n",
        "*   Why did you pick the specific chart?\n",
        "*   What is/are the insight(s) found from the chart?\n",
        "* Will the gained insights help creating a positive business impact? \n",
        "Are there any insights that lead to negative growth? Justify with specific reason.\n",
        "\n",
        "5. You have to create at least 15 logical & meaningful charts having important insights.\n",
        "\n",
        "\n",
        "[ Hints : - Do the Vizualization in  a structured way while following \"UBM\" Rule. \n",
        "\n",
        "U - Univariate Analysis,\n",
        "\n",
        "B - Bivariate Analysis (Numerical - Categorical, Numerical - Numerical, Categorical - Categorical)\n",
        "\n",
        "M - Multivariate Analysis\n",
        " ]\n",
        "\n",
        "\n",
        "\n",
        "\n",
        "\n",
        "6. You may add more ml algorithms for model creation. Make sure for each and every algorithm, the following format should be answered.\n",
        "\n",
        "\n",
        "*   Explain the ML Model used and it's performance using Evaluation metric Score Chart.\n",
        "\n",
        "\n",
        "*   Cross- Validation & Hyperparameter Tuning\n",
        "\n",
        "*   Have you seen any improvement? Note down the improvement with updates Evaluation metric Score Chart.\n",
        "\n",
        "*   Explain each evaluation metric's indication towards business and the business impact pf the ML model used.\n",
        "\n",
        "\n",
        "\n",
        "\n",
        "\n",
        "\n",
        "\n",
        "\n",
        "\n",
        "\n",
        "\n",
        "\n",
        "\n",
        "\n",
        "\n",
        "\n",
        "\n",
        "\n"
      ]
    },
    {
      "cell_type": "markdown",
      "metadata": {
        "id": "O_i_v8NEhb9l"
      },
      "source": [
        "# ***Let's Begin !***"
      ]
    },
    {
      "cell_type": "markdown",
      "metadata": {
        "id": "id3oRuhCw2uW"
      },
      "source": [
        "## ***1. Know Your Data***"
      ]
    },
    {
      "cell_type": "markdown",
      "metadata": {
        "id": "cATrm8YHw2uW"
      },
      "source": [
        "### Import Libraries"
      ]
    },
    {
      "cell_type": "code",
      "execution_count": null,
      "metadata": {
        "id": "-qHcM51cw2uW"
      },
      "outputs": [],
      "source": [
        "# Import Libraries\n",
        "import numpy as np\n",
        "import pandas as pd\n",
        "import matplotlib.pyplot as plt\n",
        "%matplotlib inline\n",
        "import seaborn as sns\n",
        "from datetime import datetime\n",
        "\n",
        "# Adding this to ignore future warnings\n",
        "import warnings\n",
        "warnings.filterwarnings(\"ignore\")\n",
        "\n",
        "# Importing libraries for visualizing decison tree\n",
        "from sklearn.tree import DecisionTreeClassifier, export_graphviz\n",
        "from sklearn import tree\n",
        "from IPython.display import SVG\n",
        "from graphviz import Source\n",
        "from IPython.display import display\n",
        "\n",
        "# importing missingo library which helps us to visualize the missing values\n",
        "import missingno as msno\n",
        "\n",
        "# code to see the execution time in mili seconds\n",
        "!pip install ipython-autotime\n",
        "%load_ext autotime"
      ]
    },
    {
      "cell_type": "markdown",
      "metadata": {
        "id": "54kDRYszw2uX"
      },
      "source": [
        "### Dataset Loading"
      ]
    },
    {
      "cell_type": "code",
      "execution_count": null,
      "metadata": {
        "id": "uCld-gzcjqdA"
      },
      "outputs": [],
      "source": [
        "from google.colab import drive\n",
        "drive.mount('/content/drive')"
      ]
    },
    {
      "cell_type": "code",
      "execution_count": null,
      "metadata": {
        "id": "GAVI4tcgw2uX"
      },
      "outputs": [],
      "source": [
        "# Load Dataset\n",
        "\n",
        "df_rossmann= pd.read_csv(\"/content/drive/MyDrive/Data & Resources/Rossmann Stores Data.csv\")\n",
        "df_store= pd.read_csv(\"/content/drive/MyDrive/Data & Resources/store.csv\")"
      ]
    },
    {
      "cell_type": "markdown",
      "metadata": {
        "id": "XGi210kGw2uX"
      },
      "source": [
        "### Dataset First View"
      ]
    },
    {
      "cell_type": "code",
      "execution_count": null,
      "metadata": {
        "id": "LEQlHjDDw2uX"
      },
      "outputs": [],
      "source": [
        "# Dataset First Look of rossmann dataset\n",
        "df_rossmann.head()"
      ]
    },
    {
      "cell_type": "code",
      "execution_count": null,
      "metadata": {
        "id": "nJjnpQjNkvDa"
      },
      "outputs": [],
      "source": [
        "# Dataset First Look of store dataset\n",
        "df_store.head()"
      ]
    },
    {
      "cell_type": "markdown",
      "metadata": {
        "id": "CxeYxZQ2w2uY"
      },
      "source": [
        "### Dataset Rows & Columns count"
      ]
    },
    {
      "cell_type": "code",
      "execution_count": null,
      "metadata": {
        "id": "JUVcRqpFw2uY"
      },
      "outputs": [],
      "source": [
        "# Dataset Rows & Columns count\n",
        "print(f\"Rossmann dataset: Rows={df_rossmann.shape[0]}, Columns={df_rossmann.shape[1]}\") \n",
        "print(f\"Store dataset: Rows={df_store.shape[0]}, Columns={df_store.shape[1]}\") "
      ]
    },
    {
      "cell_type": "markdown",
      "metadata": {
        "id": "13Qk_AJgw2uY"
      },
      "source": [
        "### Dataset Information"
      ]
    },
    {
      "cell_type": "code",
      "execution_count": null,
      "metadata": {
        "id": "e9hRXRi6meOf"
      },
      "outputs": [],
      "source": [
        "# Rossmann Dataset Info\n",
        "df_rossmann.info()"
      ]
    },
    {
      "cell_type": "code",
      "execution_count": null,
      "metadata": {
        "id": "Vgz0L-6SnY12"
      },
      "outputs": [],
      "source": [
        "# Store Dataset Info\n",
        "df_store.info()"
      ]
    },
    {
      "cell_type": "markdown",
      "metadata": {
        "id": "ODaXyvW2w2uZ"
      },
      "source": [
        "#### Duplicate Values"
      ]
    },
    {
      "cell_type": "code",
      "execution_count": null,
      "metadata": {
        "id": "1sLdpKYkmox0"
      },
      "outputs": [],
      "source": [
        "# Dataset Duplicate Value Count\n",
        "print(f\"Number of duplicated rows in Rossmann dataset: {df_rossmann.duplicated().sum()}\")\n",
        "print(f\"Number of duplicated rows in Store dataset: {df_store.duplicated().sum()}\")"
      ]
    },
    {
      "cell_type": "markdown",
      "metadata": {
        "id": "0igBJLeQ7Njd"
      },
      "source": [
        "We do not have any duplicated rows in both the dataset and that is very good for us."
      ]
    },
    {
      "cell_type": "markdown",
      "metadata": {
        "id": "fFeesttDw2uZ"
      },
      "source": [
        "#### Missing Values/Null Values"
      ]
    },
    {
      "cell_type": "code",
      "execution_count": null,
      "metadata": {
        "id": "GgHWkxvamxVg"
      },
      "outputs": [],
      "source": [
        "# Missing Values/Null Values Count\n",
        "print(\"-\"*50)\n",
        "print(f\"Null values count in Rossmann dataset:\\n{df_rossmann.isna().sum()}\\n\")\n",
        "print(\"-\"*50)\n",
        "print(f\"Null values count in Store dataset:\\n{df_store.isna().sum()}\")\n",
        "print(\"-\"*50)\n",
        "print(f\"Infinite values count in Rossmann dataset:\\n{df_rossmann.isin([np.inf, -np.inf]).sum()}\\n\")\n",
        "print(\"-\"*50)\n",
        "print(f\"Infinite values count in Store dataset:\\n{df_store.isin([np.inf, -np.inf]).sum()}\")\n",
        "print(\"-\"*50)"
      ]
    },
    {
      "cell_type": "markdown",
      "metadata": {
        "id": "shzhPzjAJcV9"
      },
      "source": [
        "We don't have null or infinite values Rossmann's dataset but have some null values in Store dataset and we have to deal with it in future."
      ]
    },
    {
      "cell_type": "code",
      "execution_count": null,
      "metadata": {
        "id": "lcRAVBJHw2uc"
      },
      "outputs": [],
      "source": [
        "# Visualizing the missing values in Rossmann dataset\n",
        "msno.bar(df_rossmann,figsize=(10,5), color=\"tab:green\")"
      ]
    },
    {
      "cell_type": "code",
      "execution_count": null,
      "metadata": {
        "id": "N3qLBUaeMbbV"
      },
      "outputs": [],
      "source": [
        "# Visualizing the missing values in Store dataset\n",
        "msno.bar(df_store,figsize=(10,5),color=\"tomato\")"
      ]
    },
    {
      "cell_type": "markdown",
      "metadata": {
        "id": "WqnHH9aAw2uc"
      },
      "source": [
        "### What did you know about your dataset?"
      ]
    },
    {
      "cell_type": "markdown",
      "metadata": {
        "id": "IDLuAdzkw2uc"
      },
      "source": [
        "Till now we get to know the following points about our dataset:\n",
        "1. **'Rossmann dataset'** is having **1017209 rows and 9 columns** and does not have any null value.\n",
        "2. **'Stores dataset'** is having **1115 rows and 10 columns**. It contains null values in total six features viz. CompetitionDistance,CompetitionOpenSinceMonth, CompetitionOpenSinceYear, Promo2SinceWeek,Promo2SinceYear and PromoInterval. \n",
        "3. There are **no duplicate** values present in both the datasets.\n",
        "4. There are total 4 **categorical features** in 'Rossmann' dataset namely Open, Promo, StateHoliday and SchoolHoliday and 'Stores' contain categorical features namely StoreType, Assortment, Promo2, PromoInterval.\n",
        "\n",
        "\n"
      ]
    },
    {
      "cell_type": "markdown",
      "metadata": {
        "id": "mqtLGGnvxJIR"
      },
      "source": [
        "## ***2. Understanding Your Variables***"
      ]
    },
    {
      "cell_type": "code",
      "execution_count": null,
      "metadata": {
        "id": "j7xfkqrt5Ag5"
      },
      "outputs": [],
      "source": [
        "# Dataset Columns\n",
        "print(f\"Column names of Rossmann dataset is:\\n{df_rossmann.columns.tolist()}\")\n",
        "print(f\"Column names of Store dataset is:\\n{df_store.columns.tolist()}\")"
      ]
    },
    {
      "cell_type": "code",
      "execution_count": null,
      "metadata": {
        "id": "DnOaZdaE5Q5t"
      },
      "outputs": [],
      "source": [
        "#Rossmann Dataset Describe\n",
        "df_rossmann.describe(include=\"all\")"
      ]
    },
    {
      "cell_type": "code",
      "execution_count": null,
      "metadata": {
        "id": "m5guS2Egp5Is"
      },
      "outputs": [],
      "source": [
        "# Store dataset describe\n",
        "df_store.describe(include=\"all\")"
      ]
    },
    {
      "cell_type": "markdown",
      "metadata": {
        "id": "L-cb8fRxxJIT"
      },
      "source": [
        "### Variables Description "
      ]
    },
    {
      "cell_type": "markdown",
      "metadata": {
        "id": "1x7UHkeHxJIT"
      },
      "source": [
        "**Rossmann Stores Data.csv** - historical data including Sales\n",
        "\n",
        "**Store.csv** - supplemental information about the stores\n",
        "\n",
        "**Data fields**\n",
        "\n",
        "Most of the fields are self-explanatory. The following are descriptions for those that aren't.\n",
        "\n",
        "**Store** - a unique Id for each store\n",
        "\n",
        "**Sales** - the turnover for any given day (this is what you are predicting)\n",
        "\n",
        "**Customers** - the number of customers on a given day\n",
        "\n",
        "**Open** - an indicator for whether the store was open: 0 = closed, 1 = open\n",
        "\n",
        "**StateHoliday** - indicates a state holiday.\n",
        "\n",
        "**SchoolHoliday** - indicates if the (Store, Date) was affected by the closure of public schools\n",
        "\n",
        "**StoreType** - differentiates between 4 different store models: a, b, c, d\n",
        "\n",
        "**Assortment** - describes an assortment level: a = basic, b = extra, c = extended\n",
        "\n",
        "**CompetitionDistance** - distance in meters to the nearest competitor store\n",
        "\n",
        "**CompetitionOpenSince[Month/Year]** - gives the approximate year and month of the time the nearest competitor was opened\n",
        "\n",
        "**Promo** - indicates whether a store is running a promo on that day\n",
        "\n",
        "**Promo2** - Promo2 is a continuing and consecutive promotion for some stores: 0 = store is not participating, 1 = store is participating\n",
        "\n",
        "**Promo2Since[Year/Week]** - describes the year and calendar week when the store started participating in Promo2\n",
        "\n",
        "**PromoInterval** - describes the consecutive intervals Promo2 is started, naming the months the promotion is started a new. E.g. \"Feb,May,Aug,Nov\" means each round starts in February, May, August, November of any given year for that store."
      ]
    },
    {
      "cell_type": "markdown",
      "metadata": {
        "id": "AxxtIOQXxJIT"
      },
      "source": [
        "### Check Unique Values for each variable."
      ]
    },
    {
      "cell_type": "code",
      "execution_count": null,
      "metadata": {
        "id": "zms12Yq5n-jE"
      },
      "outputs": [],
      "source": [
        "# Check Unique Values for each variable.\n",
        "for i in df_rossmann.columns.tolist():\n",
        "  print(\"The Unique Values of', i, 'are:\", df_rossmann[i].unique())"
      ]
    },
    {
      "cell_type": "code",
      "execution_count": null,
      "metadata": {
        "id": "daYWniiMr4iJ"
      },
      "outputs": [],
      "source": [
        "# Check Unique Values for each variable.\n",
        "for j in df_store.columns.tolist():\n",
        "  print(\"The Unique Values of', j, 'are:\", df_store[j].unique())"
      ]
    },
    {
      "cell_type": "code",
      "source": [],
      "metadata": {
        "id": "cPFTkSV3xcEi"
      },
      "execution_count": null,
      "outputs": []
    },
    {
      "cell_type": "markdown",
      "metadata": {
        "id": "noaCz9dIxcVG"
      },
      "source": [
        "## 3. ***Data Wrangling***"
      ]
    },
    {
      "cell_type": "markdown",
      "metadata": {
        "id": "zE85lk6D0ovp"
      },
      "source": [
        "####1. Null values treatment"
      ]
    },
    {
      "cell_type": "markdown",
      "metadata": {
        "id": "XH3N5txl5UEU"
      },
      "source": [
        " ##### a). Handling null values from **CompetitionDistance** feature."
      ]
    },
    {
      "cell_type": "code",
      "execution_count": null,
      "metadata": {
        "id": "QVipWsay01KO"
      },
      "outputs": [],
      "source": [
        "# fetching the observations which contains null values in CompetitionDistance feature\n",
        "df_store[df_store[\"CompetitionDistance\"].isnull()]"
      ]
    },
    {
      "cell_type": "code",
      "execution_count": null,
      "metadata": {
        "id": "LePPa_fb1AMk"
      },
      "outputs": [],
      "source": [
        "# plotting seaborn box plot to check the outliers in CompetitionDistance features\n",
        "plt.figure(figsize=(15,5))\n",
        "sns.boxplot(x= df_store[\"CompetitionDistance\"])"
      ]
    },
    {
      "cell_type": "markdown",
      "metadata": {
        "id": "FZY2JHWN1KhQ"
      },
      "source": [
        "In order to fill the null values of CompetitionDistance we have 4 options:\n",
        "1. Zero(0) >> Not effective as the corresponding values for CompetitionSinceMonth and CompetitionSinceYear are not zero.\n",
        "2. Mean >> Replacing null values with mean will create blunders as it contains outliers and mean is influenced with outliers.\n",
        "3. Median >> To get good results replacing with median can be a better choice.\n",
        "4. Mode >> Mode can also help to fill the null values in our case.\n",
        "\n",
        "Since, we have two options(Mode and Median) we are going with the median."
      ]
    },
    {
      "cell_type": "code",
      "execution_count": null,
      "metadata": {
        "id": "CZ84EkV01R-l"
      },
      "outputs": [],
      "source": [
        "# filling null values\n",
        "df_store[\"CompetitionDistance\"].fillna(df_store[\"CompetitionDistance\"].median(), inplace=True)"
      ]
    },
    {
      "cell_type": "code",
      "execution_count": null,
      "metadata": {
        "id": "w_8wdZU91cUT"
      },
      "outputs": [],
      "source": [
        "# rechecking if we have any further null values in CompetitionDistance feature\n",
        "df_store[df_store[\"CompetitionDistance\"].isnull()].sum()"
      ]
    },
    {
      "cell_type": "code",
      "execution_count": null,
      "metadata": {
        "id": "Os474yggcYbb"
      },
      "outputs": [],
      "source": [
        "# rechecking if we have any null values\n",
        "df_store.info()"
      ]
    },
    {
      "cell_type": "markdown",
      "metadata": {
        "id": "LLy4zF9L1oat"
      },
      "source": [
        "Hurray!!  We do not have any further null values in CompetitionDistance feature."
      ]
    },
    {
      "cell_type": "markdown",
      "metadata": {
        "id": "r7T-q-Fg5lLH"
      },
      "source": [
        "##### b). Handling null values from **CompetitionOpenSinceMonth and CompetitionOpenSinceYear** feature."
      ]
    },
    {
      "cell_type": "code",
      "execution_count": null,
      "metadata": {
        "id": "dPUglWpB51Yc"
      },
      "outputs": [],
      "source": [
        "# fetching the observations which contains null values in CompetitionOpenSinceMonth and CompetitionOpenSinceYear feature\n",
        "df_store[df_store[\"CompetitionOpenSinceMonth\"].isnull()]"
      ]
    },
    {
      "cell_type": "code",
      "execution_count": null,
      "metadata": {
        "id": "slbJNskd70BD"
      },
      "outputs": [],
      "source": [
        "# plotting seaborn box plot to check the outliers in CompetitionOpenSinceMonth and CompetitionOpenSinceYear features\n",
        "plt.figure(figsize=(15,5))\n",
        "sns.boxplot(df_store[\"CompetitionOpenSinceMonth\"])"
      ]
    },
    {
      "cell_type": "code",
      "execution_count": null,
      "metadata": {
        "id": "b1Dx1c4QCn0H"
      },
      "outputs": [],
      "source": [
        "# plotting seaborn box plot to check the outliers in CompetitionOpenSinceMonth and CompetitionOpenSinceYear features\n",
        "plt.figure(figsize=(15,5))\n",
        "sns.boxplot(df_store[\"CompetitionOpenSinceYear\"])"
      ]
    },
    {
      "cell_type": "markdown",
      "metadata": {
        "id": "Wofo21mdb1xt"
      },
      "source": [
        "Filling null values of CompetitionOpenSinceMonth and CompetitionOpenSinceYear with Mode."
      ]
    },
    {
      "cell_type": "code",
      "execution_count": null,
      "metadata": {
        "id": "yGJ83HELLQ-N"
      },
      "outputs": [],
      "source": [
        "# filling null values of CompetitionOpenSinceMonth\n",
        "df_store[\"CompetitionOpenSinceMonth\"].fillna(df_store[\"CompetitionOpenSinceMonth\"].mode()[0], inplace=True)"
      ]
    },
    {
      "cell_type": "code",
      "execution_count": null,
      "metadata": {
        "id": "-lfR0rOHNgAK"
      },
      "outputs": [],
      "source": [
        "# filling null values of CompetitionOpenSinceYear\n",
        "df_store[\"CompetitionOpenSinceYear\"].fillna(df_store[\"CompetitionOpenSinceYear\"].mode()[0], inplace=True)"
      ]
    },
    {
      "cell_type": "code",
      "execution_count": null,
      "metadata": {
        "id": "2F74I_KwNzRp"
      },
      "outputs": [],
      "source": [
        "# rechecking if we have any null values in CompetitionOpenSinceMonth and CompetitionOpenSinceYear\n",
        "df_store.info()"
      ]
    },
    {
      "cell_type": "markdown",
      "metadata": {
        "id": "p3z7ntI_O9Nq"
      },
      "source": [
        "##### c). Handling null values from **Promo2SinceWeek, Promo2SinceYear and PromoInterval** feature."
      ]
    },
    {
      "cell_type": "markdown",
      "metadata": {
        "id": "SYbr8QvxwE-x"
      },
      "source": [
        "Since corresponding value where Promo2 is 0 for features Promo2SinceWeek, Promo2SinceYear and PromoInterval having null values. So, we are replacing null values with 0."
      ]
    },
    {
      "cell_type": "code",
      "execution_count": null,
      "metadata": {
        "id": "kSGbHNL-PLng"
      },
      "outputs": [],
      "source": [
        "# Replacing all the null values of Promo2SinceWeek, Promo2SinceYear and PromoInterval with 0. \n",
        "df_store[\"Promo2SinceWeek\"].fillna(0, inplace=True)\n",
        "df_store[\"Promo2SinceYear\"].fillna(0, inplace=True)\n",
        "df_store[\"PromoInterval\"].fillna(0, inplace=True)"
      ]
    },
    {
      "cell_type": "code",
      "execution_count": null,
      "metadata": {
        "id": "lIDcI-nbyufB"
      },
      "outputs": [],
      "source": [
        "# rechecking if our features contains more null values\n",
        "df_store.info()"
      ]
    },
    {
      "cell_type": "markdown",
      "metadata": {
        "id": "sbO9aYn69dmh"
      },
      "source": [
        "Congratulations we have achieved our first milestone by cleaning up all the null/missing values from both the datasets."
      ]
    },
    {
      "cell_type": "markdown",
      "metadata": {
        "id": "2fO49BByrjPF"
      },
      "source": [
        "#### 2. Merging datasets"
      ]
    },
    {
      "cell_type": "code",
      "execution_count": null,
      "metadata": {
        "id": "FV4CIjZjCW39"
      },
      "outputs": [],
      "source": [
        "# checking shape of dataset using left join\n",
        "df_left= pd.merge(df_rossmann, df_store, on=\"Store\", how= \"left\")\n",
        "print(df_left.shape)\n",
        "print(f\"Total number of null values obtained from left join: {df_left.isna().sum().sum()}\")\n",
        "\n",
        "# checking shape of dataset using right join\n",
        "df_right= pd.merge(df_rossmann, df_store, on=\"Store\", how= \"right\")\n",
        "print(df_right.shape)\n",
        "print(f\"Total number of null values obtained from right join: {df_right.isna().sum().sum()}\")\n",
        "\n",
        "\n",
        "# checking shape of dataset using inner join\n",
        "df_inner= pd.merge(df_rossmann, df_store, on=\"Store\", how= \"inner\")\n",
        "print(df_inner.shape)\n",
        "print(f\"Total number of null values obtained from inner join: {df_inner.isna().sum().sum()}\")\n",
        "\n",
        "# checking shape of dataset using outer join\n",
        "df_outer= pd.merge(df_rossmann, df_store, on=\"Store\", how= \"outer\")\n",
        "print(df_outer.shape)\n",
        "print(f\"Total number of null values obtained from outer join: {df_outer.isna().sum().sum()}\")"
      ]
    },
    {
      "cell_type": "markdown",
      "metadata": {
        "id": "P6dSfA0IFD0O"
      },
      "source": [
        "Since, we are obtaining the same shape and 0 null values from all the joins therefore we can use any of the join and it won't affact the results.\n",
        "\n",
        "We are following the inner join for our further analysis."
      ]
    },
    {
      "cell_type": "code",
      "execution_count": null,
      "metadata": {
        "id": "wHnaiO1MzYXf"
      },
      "outputs": [],
      "source": [
        "#using inner join for our further analysis\n",
        "df= pd.merge(df_rossmann, df_store, on=\"Store\", how= \"inner\")\n",
        "print(df.shape)"
      ]
    },
    {
      "cell_type": "code",
      "execution_count": null,
      "metadata": {
        "id": "eeTHW9zcCok0"
      },
      "outputs": [],
      "source": [
        "#checking info of our final merged dataset\n",
        "df.info()"
      ]
    },
    {
      "cell_type": "markdown",
      "metadata": {
        "id": "_GKLYLoV4IkG"
      },
      "source": [
        "#### 3. Typecasting"
      ]
    },
    {
      "cell_type": "code",
      "execution_count": null,
      "metadata": {
        "id": "AixJQtINKuLC"
      },
      "outputs": [],
      "source": [
        "# Checking dtypes of all the variables of the dataframe\n",
        "df.info()"
      ]
    },
    {
      "cell_type": "code",
      "execution_count": null,
      "metadata": {
        "id": "SXummRfXtqXf"
      },
      "outputs": [],
      "source": [
        "# changing dtype into required format from both the datasets\n",
        "df[\"Date\"]= pd.to_datetime(df[\"Date\"],format=\"%Y/%m/%d\")\n",
        "df[\"CompetitionDistance\"]= df[\"CompetitionDistance\"].astype(int)\n",
        "df[\"CompetitionOpenSinceMonth\"]= df[\"CompetitionOpenSinceMonth\"].astype(int)\n",
        "df[\"CompetitionOpenSinceYear\"]= df[\"CompetitionOpenSinceYear\"].astype(int)\n",
        "df[\"Promo2SinceWeek\"]= df[\"Promo2SinceWeek\"].astype(int)\n",
        "df[\"Promo2SinceYear\"]= df[\"Promo2SinceYear\"].astype(int)"
      ]
    },
    {
      "cell_type": "code",
      "execution_count": null,
      "metadata": {
        "id": "Jbah_FW7LI3n"
      },
      "outputs": [],
      "source": [
        "# Verifying the dtypes\n",
        "df.info()"
      ]
    },
    {
      "cell_type": "markdown",
      "metadata": {
        "id": "NzsSigdzxcVQ"
      },
      "source": [
        "### What all manipulations have you done and insights you found?"
      ]
    },
    {
      "cell_type": "markdown",
      "metadata": {
        "id": "RfnSL__NxcVQ"
      },
      "source": [
        "In data wrangling we have divided it into three sections:\n",
        "\n",
        "\n",
        "1.   **Null values treatment**: In this section we have treated all the null values from both the datasets. We did the following replacements:\n",
        "\n",
        "\n",
        "> a. Replaced null values of CompetitionDistance with MEDIAN.\n",
        "\n",
        "> b. Replaced null values of CompetitionOpenSinceMonth and with MODE.\n",
        "\n",
        "> c. Replaced null values of CompetitionOpenSinceYear and with MODE.\n",
        "\n",
        "> d. Replaced null values of Promo2SinceWeek and with 0. \n",
        "\n",
        "> e. Replaced null values of Promo2SinceYear and with 0.\n",
        "\n",
        "> f. Replaced null values of PromoInterval and with 0.\n",
        "\n",
        "\n",
        "2.   **Merging datasets**: We don't want to compromise with quality and quantity of our dataset in order to get the best accuracy in ML model implementation. So, we were wondering to use the best join for the good results and we got to know with our R&D that every join is giving the same shape of our merged dataset with 0 null values. So, we have decided to go with the inner join.\n",
        "\n",
        "3.   **Typecasting**: In typecasting section we have typecasted the following features in order to visualize it properly and can feed them as input of ML model:\n",
        "\n",
        "\n",
        "> a. Typecasted the Date feature to Datetime format.\n",
        "\n",
        "> b. Typecasted the CompetitionDistance, CompetitionOpenSinceMonth, CompetitionOpenSinceYear, Promo2SinceWeek, Promo2SinceYear feature to Integer.\n",
        "\n",
        "\n",
        "\n",
        "\n",
        "\n",
        "\n",
        "\n",
        "\n",
        "\n",
        "\n"
      ]
    },
    {
      "cell_type": "markdown",
      "metadata": {
        "id": "9w9Ak1FbU5sM"
      },
      "source": [
        "## ***4. Data Vizualization, Storytelling & Experimenting with charts : Understand the relationships between variables***"
      ]
    },
    {
      "cell_type": "markdown",
      "metadata": {
        "id": "l5DtCI4BU5sN"
      },
      "source": [
        "As some stores in the dataset were temporarily closed due to refurbishment and they won't provide us any information , so we will not consider those store which were closed . We will remove those rows where stores were closed ."
      ]
    },
    {
      "cell_type": "code",
      "execution_count": null,
      "metadata": {
        "id": "die2EC8GU5sN"
      },
      "outputs": [],
      "source": [
        "# Considering those rows where stores are open and sales are not zero. \n",
        "df = df[(df['Open']==1) & (df['Sales']!=0)]            \n",
        "\n",
        "# Now since every store in our dataset are opened , we don't need 'Open' column and we will drop this column\n",
        "df.drop(['Open'],axis=1,inplace=True)"
      ]
    },
    {
      "cell_type": "code",
      "execution_count": null,
      "metadata": {
        "id": "64k2eURbdEmV"
      },
      "outputs": [],
      "source": [
        "df.info()"
      ]
    },
    {
      "cell_type": "markdown",
      "metadata": {
        "id": "aqY49YJpdZt-"
      },
      "source": [
        "Now we will do data visualization in an structured way following ' UBM ' rule\n",
        "\n",
        "*   Univariate Analysis\n",
        "*   Bivariate Analysis\n",
        "\n",
        "*   Multivariate Analysis"
      ]
    },
    {
      "cell_type": "markdown",
      "metadata": {
        "id": "R_TnkoB576eC"
      },
      "source": [
        "###**Univariate Analysis**"
      ]
    },
    {
      "cell_type": "markdown",
      "metadata": {
        "id": "mVpp6PMe70Ko"
      },
      "source": [
        "####**Chart-1: Checking frequency distribution of continous features-Sales, CompetitionDistance, Customers:**"
      ]
    },
    {
      "cell_type": "code",
      "execution_count": null,
      "metadata": {
        "id": "0NeI7B7Wlq-C"
      },
      "outputs": [],
      "source": [
        "#Checking Frequency distribution for continous features:\n",
        "plt.figure(figsize=(20,10))\n",
        "\n",
        "#First plot(Sales vs Frequency)\n",
        "plt.subplot(2,2,1)\n",
        "plt.xlabel(\"Sales\")\n",
        "plt.ylabel(\"Frequency\")\n",
        "sns.kdeplot(df[\"Sales\"], color=\"Green\", shade = True)  #kernel density estimate (KDE) plot\n",
        "plt.title('Density distribution of Sales',size = 15)\n",
        "\n",
        "#Second plot(CompetitionDistance vs Frequency)\n",
        "plt.subplot(2,2,2)\n",
        "plt.xlabel(\"CompetitionDistance\")\n",
        "plt.ylabel(\"Frequency\")\n",
        "sns.kdeplot(df[\"CompetitionDistance\"], color=\"Green\", shade = True) #kernel density estimate (KDE) plot\n",
        "plt.title('Density distribution of CompetitionDistance',size = 15)\n",
        "\n",
        "#Third plot(Customers vs Frequency)\n",
        "plt.subplot(2,2,3)\n",
        "plt.xlabel(\"Customers\")\n",
        "plt.ylabel(\"Frequency\")\n",
        "sns.kdeplot(df[\"Customers\"], color=\"Green\", shade = True) #kernel density estimate (KDE) plot\n",
        "plt.title('Density distribution of Customers',size = 15)\n"
      ]
    },
    {
      "cell_type": "markdown",
      "metadata": {
        "id": "ttEO4E339YNU"
      },
      "source": [
        "##### 1. Why did you pick the specific chart?"
      ]
    },
    {
      "cell_type": "markdown",
      "metadata": {
        "id": "XQbvQrKs9YNV"
      },
      "source": [
        "We picked this chart as it shows whether the observations are high or low and also whether they are concentrated in one area or spread out across the entire scale for continous features only."
      ]
    },
    {
      "cell_type": "markdown",
      "metadata": {
        "id": "51ABtV_59YNV"
      },
      "source": [
        "##### 2. What is/are the insight(s) found from the chart?"
      ]
    },
    {
      "cell_type": "markdown",
      "metadata": {
        "id": "OMYlN3369YNV"
      },
      "source": [
        "1. Avarage Sales value is under 1000 and graph is rightly skewed, which shows most of the stores are open where the middle class resides.\n",
        "\n",
        "2. We can clearly observe that most of the stores have their competition within \n",
        "   5Km range which indicates mostly competiting stores are located nearby to   each other.\n",
        "\n",
        "3. Avarage number of customer visiting stores is 1000."
      ]
    },
    {
      "cell_type": "markdown",
      "metadata": {
        "id": "Ngf-Oxcw9YNV"
      },
      "source": [
        "##### 3. Will the gained insights help creating a positive business impact? \n",
        "Are there any insights that lead to negative growth? Justify with specific reason."
      ]
    },
    {
      "cell_type": "markdown",
      "metadata": {
        "id": "8EGuQaNM9YNW"
      },
      "source": [
        "1. As we can see most of the sales are under 1000, to expand their business and sales they should **open their stores in posh area** or where the upper class lives.\n",
        "\n",
        "2. We plotted frequency distribution graph for sales, customer and competition distance with the help of which we came to know that many competiting stores are densly located. so, business should **plan different strategies** to sustain in the competitive market."
      ]
    },
    {
      "cell_type": "markdown",
      "metadata": {
        "id": "xfxs6IUL-Ftx"
      },
      "source": [
        "####**Chart-2: Checking frequency distribution of continous features-SchoolHoliday, Promo, Promo2:**"
      ]
    },
    {
      "cell_type": "code",
      "execution_count": null,
      "metadata": {
        "id": "gfJ3SMk38Mcf"
      },
      "outputs": [],
      "source": [
        "#Lets check distribution for Some discrete features(SchoolHoliday,Promo,Promo2):\n",
        "labels = 'Not SchoolHoliday' , 'SchoolHoliday'\n",
        "sizes = df.SchoolHoliday.value_counts()\n",
        "colors = ['pink', 'yellow']\n",
        "explode = (0.2, 0.0)\n",
        "plt.pie(sizes, explode=explode, labels=labels, colors=colors,\n",
        "        autopct='%1.1f%%', shadow=True)\n",
        "plt.axis('equal')\n",
        "plt.title(\"Percentage of School Holiday\",fontsize=20)\n",
        "plt.legend( labels, loc=\"best\")\n",
        "plt.plot()\n",
        "fig=plt.gcf()\n",
        "fig.set_size_inches(4,4)\n",
        "plt.show()\n",
        "\n",
        "labels = 'Promo' , 'Not Promo'\n",
        "sizes = df.Promo.value_counts()\n",
        "colors = ['pink', 'yellow']\n",
        "explode = (0.2, 0.0)\n",
        "plt.pie(sizes, explode=explode, labels=labels, colors=colors,\n",
        "        autopct='%1.1f%%', shadow=True)\n",
        "plt.axis('equal')\n",
        "plt.title(\"Percentage of promoted stores\",fontsize=20)\n",
        "plt.legend( labels, loc=\"best\")\n",
        "plt.plot()\n",
        "fig=plt.gcf()\n",
        "fig.set_size_inches(4,4)\n",
        "plt.show()\n",
        "\n",
        "labels = 'Promo2' , 'Not Promo2'\n",
        "sizes = df.Promo2.value_counts()\n",
        "colors = ['pink', 'yellow']\n",
        "explode = (0.2, 0.0)\n",
        "plt.pie(sizes, explode=explode, labels=labels, colors=colors,\n",
        "        autopct='%1.1f%%', shadow=True)\n",
        "plt.axis('equal')\n",
        "plt.title(\"Percentage of stores who are into continuous promotion\",fontsize=20)\n",
        "plt.legend( labels, loc=\"best\")\n",
        "plt.plot()\n",
        "fig=plt.gcf()\n",
        "fig.set_size_inches(4,4)\n",
        "plt.show()"
      ]
    },
    {
      "cell_type": "markdown",
      "metadata": {
        "id": "n88AcaZf_MyC"
      },
      "source": [
        "##### 1. Why did you pick the specific chart?"
      ]
    },
    {
      "cell_type": "markdown",
      "metadata": {
        "id": "0B3UL_tr_MyD"
      },
      "source": [
        "We choose the pie chart as it represents the contribution of each part of the data to a whole where the arc size of each slice is directly proportional to the contribution of that part. "
      ]
    },
    {
      "cell_type": "markdown",
      "metadata": {
        "id": "LTCxqIGj_MyD"
      },
      "source": [
        "##### 2. What is/are the insight(s) found from the chart?"
      ]
    },
    {
      "cell_type": "markdown",
      "metadata": {
        "id": "vf6HBiX__MyD"
      },
      "source": [
        "1.From first pie chart We can say that market will observe approx 20% of school Holidays.\n",
        "\n",
        "2.We see that 44.6% of stores are into promotions and 55.4% of stores are not into promotions .The reason that more stores are not into promotions may be they don't have the enough budget or they may not see enough need for promotions.\n",
        "\n",
        "3.From Third chart we can infer that there is almost equal percentage of stores getting promoted and the one which are not getting promoted."
      ]
    },
    {
      "cell_type": "markdown",
      "metadata": {
        "id": "TlgNpj-C_MyD"
      },
      "source": [
        "##### 3. Will the gained insights help creating a positive business impact? \n",
        "Are there any insights that lead to negative growth? Justify with specific reason."
      ]
    },
    {
      "cell_type": "markdown",
      "metadata": {
        "id": "bNepAll3_MyD"
      },
      "source": [
        "1. From above pie chart we understood that percentage of stores getting promoted is more than non promoting stores but sales are positively correlated to promo meaning **if stores are getting promoted sale is increasing**. So, business should try promoting the stores to increase the revenue.\n",
        "2. Later we will see if their is any impact of School holiday on sale on sale."
      ]
    },
    {
      "cell_type": "markdown",
      "metadata": {
        "id": "qj8NkR31KMrR"
      },
      "source": [
        "####**Chart-3: Checking frequency distribution of Storetype, Assortment, Stateholiday and Promointervals:**"
      ]
    },
    {
      "cell_type": "code",
      "execution_count": null,
      "metadata": {
        "id": "x4ytEC423KKZ"
      },
      "outputs": [],
      "source": [
        "# Store type and assortment \n",
        "plt.figure(figsize=(13,10))\n",
        "\n",
        "plt.subplot(2,2,1)\n",
        "ax=sns.countplot(df['StoreType'],palette='Set2',edgecolor='black')\n",
        "for p in ax.patches:\n",
        "   ax.annotate('{:.1f}%'.format(100 * p.get_height()/float(len(df['StoreType']))), (p.get_x()+0.25, p.get_height()+0.01))\n",
        "\n",
        "plt.subplot(2,2,2)\n",
        "ax=sns.countplot(df['Assortment'],palette='Set2',edgecolor='black')\n",
        "for p in ax.patches:\n",
        "   ax.annotate('{:.1f}%'.format(100 * p.get_height()/float(len(df['Assortment']))), (p.get_x()+0.25, p.get_height()+0.01))\n",
        "\n",
        "plt.subplot(2,2,3)\n",
        "ax=sns.countplot(df['StateHoliday'],palette='Set2',edgecolor='black')\n",
        "for p in ax.patches:\n",
        "   ax.annotate('{:.1f}%'.format(100 * p.get_height()/float(len(df['Assortment']))), (p.get_x()+0.25, p.get_height()+0.01))\n",
        "\n",
        "plt.subplot(2,2,4)\n",
        "ax=sns.countplot(df['PromoInterval'],palette='Set2',edgecolor='black')\n",
        "for p in ax.patches:\n",
        "   ax.annotate('{:.1f}%'.format(100 * p.get_height()/float(len(df['Assortment']))), (p.get_x()+0.25, p.get_height()+0.01))\n",
        "\n",
        "plt.show()"
      ]
    },
    {
      "cell_type": "markdown",
      "metadata": {
        "id": "8xUi_doS9gkp"
      },
      "source": [
        "##### 1. Why did you pick the specific chart?"
      ]
    },
    {
      "cell_type": "markdown",
      "metadata": {
        "id": "6HVU9mW19gkq"
      },
      "source": [
        "We plotted above graph to know the distribution of different type of stores,assortment,state holiday and promointerval in the dataset."
      ]
    },
    {
      "cell_type": "markdown",
      "metadata": {
        "id": "gfPfcHHh9gkq"
      },
      "source": [
        "##### 2. What is/are the insight(s) found from the chart?"
      ]
    },
    {
      "cell_type": "markdown",
      "metadata": {
        "id": "_4hjI-e89gkq"
      },
      "source": [
        "1. Store **Type \"a\"** is most common and **Store Type \"b\"** is rare in the dataset . \n",
        "\n",
        "2. **Most of the stores have assortment \"a\" and assortment \"b\" is very rare** .\n",
        "Since there is significant diffference in the number of occurrence of different store types and assortments , it could indicate that certain store types and assortments are more successful or profitable than others .It could also suggest that **certain store types and assortments are more suited to certain types of stores or locations.**\n",
        "\n",
        "3. We can infer that many stores are planning to get prmoted in first quarter of promointerval while number of stores getting promoted in successive quartes is **decreasing gradually**."
      ]
    },
    {
      "cell_type": "markdown",
      "metadata": {
        "id": "IHt7zeVv9gkr"
      },
      "source": [
        "##### 3. Will the gained insights help creating a positive business impact? \n",
        "Are there any insights that lead to negative growth? Justify with specific reason."
      ]
    },
    {
      "cell_type": "markdown",
      "metadata": {
        "id": "HwNzkpE59gkr"
      },
      "source": [
        "<!-- Since store type 'a','c' and 'd' are generating similar sales and lower than store type 'b', they can follow the business strategies, marketing tactics of store type 'b'. -->\n",
        "\n",
        "As we can see that store type_a , assortment_a is highest and storetype_b , assortment_b is lowest in number. So it's quite intersting to see weather these assortments and stores will also get the **heighest sale in bivariate analysis also!!!**"
      ]
    },
    {
      "cell_type": "markdown",
      "metadata": {
        "id": "ZPrKcB-YX8u7"
      },
      "source": [
        "####**Chart-4: Checking frequency distribution of Promo2:**"
      ]
    },
    {
      "cell_type": "code",
      "execution_count": null,
      "metadata": {
        "id": "s3w7JJ1K1B9g"
      },
      "outputs": [],
      "source": [
        "# Promo 2 since weeks\n",
        "plt.figure(figsize=(20,8))\n",
        "\n",
        "ax=sns.countplot(df['Promo2SinceWeek'],palette='Set2',edgecolor='black')\n",
        "for p in ax.patches:\n",
        "   ax.annotate('{:.1f}'.format(p.get_height()), (p.get_x()+0.25, p.get_height()+0.01))\n",
        "\n",
        "plt.show()"
      ]
    },
    {
      "cell_type": "markdown",
      "metadata": {
        "id": "xHqazOjX9ibV"
      },
      "source": [
        "##### 1. Why did you pick the specific chart?"
      ]
    },
    {
      "cell_type": "markdown",
      "metadata": {
        "id": "qpcBBjAi9ibW"
      },
      "source": [
        "To see since how many weeks the stores have been praticipating in Promo2 ."
      ]
    },
    {
      "cell_type": "markdown",
      "metadata": {
        "id": "dfYaL-_Q9ibW"
      },
      "source": [
        "##### 2. What is/are the insight(s) found from the chart?"
      ]
    },
    {
      "cell_type": "markdown",
      "metadata": {
        "id": "ksHG6sW49ibW"
      },
      "source": [
        "\n",
        "In this countplot, we can see that 0 has the greatest count . 0 indicates the stores are not participating in promo2  and rest all count indicate the numbers of count of stores , since how many week they have been participating in promo 2.One possibility that stores are not continuing participating in the promo might be **customers are less responsive to a second promotion**, as they may have already taken advantage of a similar promotion earlier. Another possibility is that the store may not have invested enough in promoting the promotion to customers, resulting in lower awareness and fewer sales."
      ]
    },
    {
      "cell_type": "markdown",
      "metadata": {
        "id": "wTg5rBh-9ibW"
      },
      "source": [
        "##### 3. Will the gained insights help creating a positive business impact? \n",
        "Are there any insights that lead to negative growth? Justify with specific reason."
      ]
    },
    {
      "cell_type": "markdown",
      "metadata": {
        "id": "IooTm7ZP9ibW"
      },
      "source": [
        "From above graph we can infer that many stores are not continuing participating in the promo which indicates the **promotions are not meeting the required targets.**"
      ]
    },
    {
      "cell_type": "markdown",
      "metadata": {
        "id": "iJKglDfGlQXV"
      },
      "source": [
        "###**Bivariate Analysis**"
      ]
    },
    {
      "cell_type": "markdown",
      "metadata": {
        "id": "g_vsHadCNFyi"
      },
      "source": [
        "#### **Chart-1: Sales vs DayOfWeek**"
      ]
    },
    {
      "cell_type": "code",
      "execution_count": null,
      "metadata": {
        "id": "aiDzQgdj_quE"
      },
      "outputs": [],
      "source": [
        "# Sales Vs DayOfWeek\n",
        "plt.figure(figsize=(13,7))\n",
        "plots=sns.barplot(x=df['DayOfWeek'],y=df['Sales'],edgecolor='black')\n",
        "for bar in plots.patches:\n",
        "    plots.annotate(format(bar.get_height(), '.2f'),\n",
        "                   (bar.get_x() + bar.get_width() / 2,\n",
        "                    bar.get_height()), ha='center', va='center',\n",
        "                   size=15, xytext=(0, 8),\n",
        "                   textcoords='offset points')\n",
        "plt.show()"
      ]
    },
    {
      "cell_type": "markdown",
      "metadata": {
        "id": "PvRcWmYT9kpj"
      },
      "source": [
        "##### 1. Why did you pick the specific chart?"
      ]
    },
    {
      "cell_type": "markdown",
      "metadata": {
        "id": "OdTAYCLE9kpk"
      },
      "source": [
        "We used **bar plots** because they are a useful tool for visualizing and understanding **categorical data**, and can be an effective way to communicate information to the wide audience."
      ]
    },
    {
      "cell_type": "markdown",
      "metadata": {
        "id": "co0viltN9kpk"
      },
      "source": [
        "##### 2. What is/are the insight(s) found from the chart?"
      ]
    },
    {
      "cell_type": "markdown",
      "metadata": {
        "id": "xTrxS7jX9kpk"
      },
      "source": [
        "Day 1 and day 7 witness the highest sale indicating they are probably days falling on the weekend. Day 2 to day 6 generate medium to low sales indicating they are probably weekdays where customer footfall is low."
      ]
    },
    {
      "cell_type": "markdown",
      "metadata": {
        "id": "LTFHjxCT9kpk"
      },
      "source": [
        "##### 3. Will the gained insights help creating a positive business impact? \n",
        "Are there any insights that lead to negative growth? Justify with specific reason."
      ]
    },
    {
      "cell_type": "markdown",
      "metadata": {
        "id": "UBrchfjx9kpk"
      },
      "source": [
        "1. Day 1 and 7 have good number of sales so we can **hire more staff specially for these days** and delivery boys for more revenue.\n",
        "2. Since only 2 days are witnessing good sales, store can **target remaining 5 days in a week to milk more revenue**. It can run exciting offers and attract more customers on weekdays to generate more revenue."
      ]
    },
    {
      "cell_type": "markdown",
      "metadata": {
        "id": "_dcBSrgSLuja"
      },
      "source": [
        "#### **Chart-2: Sales vs Year**"
      ]
    },
    {
      "cell_type": "code",
      "execution_count": null,
      "metadata": {
        "id": "q9Yi0afIBJk5"
      },
      "outputs": [],
      "source": [
        "# Sales vs Year\n",
        "plt.figure(figsize=(7,7))\n",
        "plots=sns.barplot(x=df[\"Date\"].dt.year,y=df['Sales'],edgecolor='black')\n",
        "for bar in plots.patches:\n",
        "    plots.annotate(format(bar.get_height(), '.2f'),\n",
        "                   (bar.get_x() + bar.get_width() / 2,\n",
        "                    bar.get_height()), ha='center', va='center',\n",
        "                   size=15, xytext=(0, 8),\n",
        "                   textcoords='offset points')\n",
        "\n",
        "plt.show()"
      ]
    },
    {
      "cell_type": "markdown",
      "metadata": {
        "id": "2BcWmX6X9lmo"
      },
      "source": [
        "##### 1. Why did you pick the specific chart?"
      ]
    },
    {
      "cell_type": "markdown",
      "metadata": {
        "id": "c7dXc-qg9lmo"
      },
      "source": [
        "We used this plot to visualize the distribution of sales in 2013, 2014 and 2015. Count plots can help us understand how the values of a variable are distributed within the dataset. \n"
      ]
    },
    {
      "cell_type": "markdown",
      "metadata": {
        "id": "z4XSdbm09lmo"
      },
      "source": [
        "##### 2. What is/are the insight(s) found from the chart?"
      ]
    },
    {
      "cell_type": "markdown",
      "metadata": {
        "id": "hDhGBUoT9lmp"
      },
      "source": [
        "For any business, year-on-year sales growth is a good parameter to access the store growth. Here we can observe that even though sales are increasing year-on-year, **sales growth is not even 10%**. So the owners need to put extra efforts to increase the yearly sales.\n",
        "\n"
      ]
    },
    {
      "cell_type": "markdown",
      "metadata": {
        "id": "bnfviIHk9lmp"
      },
      "source": [
        "##### 3. Will the gained insights help creating a positive business impact? \n",
        "Are there any insights that lead to negative growth? Justify with specific reason."
      ]
    },
    {
      "cell_type": "markdown",
      "metadata": {
        "id": "5KNBFzBN9lmp"
      },
      "source": [
        "Yes. The insights from this graph are actually very important for the owners. Since the growth is not at very commendable pace, they need to **target more customers and bring some changes in the operations.**"
      ]
    },
    {
      "cell_type": "markdown",
      "metadata": {
        "id": "A_-l0tuqMDAa"
      },
      "source": [
        "#### **Chart-3: Sales vs Month**"
      ]
    },
    {
      "cell_type": "code",
      "execution_count": null,
      "metadata": {
        "id": "L5LdIVVfDbWB"
      },
      "outputs": [],
      "source": [
        "# Month vs sales\n",
        "plt.figure(figsize=(18,7))\n",
        "plots=sns.barplot(x=df['Date'].dt.month,y=df['Sales'],edgecolor='black')\n",
        "for bar in plots.patches:\n",
        "    plots.annotate(format(bar.get_height(), '.2f'),\n",
        "                   (bar.get_x() + bar.get_width() / 2,\n",
        "                    bar.get_height()), ha='center', va='center',\n",
        "                   size=15, xytext=(0, 8),\n",
        "                   textcoords='offset points')\n",
        "plt.xlabel(\"Month\")\n",
        "\n",
        "plt.show()"
      ]
    },
    {
      "cell_type": "markdown",
      "metadata": {
        "id": "knwWoXm89nCc"
      },
      "source": [
        "##### 1. Why did you pick the specific chart?"
      ]
    },
    {
      "cell_type": "markdown",
      "metadata": {
        "id": "SruAeTe09nCc"
      },
      "source": [
        "To know the patterns or trends in the data, such as a **peak in activity or sales during a particular month of the year.**"
      ]
    },
    {
      "cell_type": "markdown",
      "metadata": {
        "id": "XpeGd7lv9nCd"
      },
      "source": [
        "##### 2. What is/are the insight(s) found from the chart?"
      ]
    },
    {
      "cell_type": "markdown",
      "metadata": {
        "id": "1gueImTL9nCd"
      },
      "source": [
        "The countplot highlights that **December being a festive month** attracts more sale than the rest of the months. Also, November has slightly more sales than other months. This could be due to the **'Black Friday'** sale which is very popular across the globe. As Rossmann Stores deals in health and beauty products, it can be guessed that November and December sales are due to the celebratory nature of people who love to buy beauty/health products leading to the sudden increase in sales."
      ]
    },
    {
      "cell_type": "markdown",
      "metadata": {
        "id": "zP_2w-ok9nCd"
      },
      "source": [
        "##### 3. Will the gained insights help creating a positive business impact? \n",
        "Are there any insights that lead to negative growth? Justify with specific reason."
      ]
    },
    {
      "cell_type": "markdown",
      "metadata": {
        "id": "HAF0NeXq9nCd"
      },
      "source": [
        "Yes, definitely these insights create a positive business impact as business owners will try to **keep more goods to cater with the business needs** and also they can increase the revenue by keeping **stores open even on weekends or holidays** as customers are aiming to buy more in this period of month."
      ]
    },
    {
      "cell_type": "markdown",
      "metadata": {
        "id": "jEbSHOg-NlS6"
      },
      "source": [
        "#### **Chart-4: Sales vs Customer**"
      ]
    },
    {
      "cell_type": "code",
      "execution_count": null,
      "metadata": {
        "id": "F3RKQtieLWsa"
      },
      "outputs": [],
      "source": [
        "# Sale Vs Customer\n",
        "plt.figure(figsize=(7,7))\n",
        "sns.scatterplot(df['Customers'],df['Sales'])"
      ]
    },
    {
      "cell_type": "markdown",
      "metadata": {
        "id": "wEHiaYtL9out"
      },
      "source": [
        "##### 1. Why did you pick the specific chart?"
      ]
    },
    {
      "cell_type": "markdown",
      "metadata": {
        "id": "IEDhJ9hk9out"
      },
      "source": [
        "We chose scatter plot because we wanted to plot the relationship between the number of customers visiting the store and the total sales.They are useful for identifying outliers in the data, as well as to determine the correlation between two variables,and to verify the linear trend of our dataset."
      ]
    },
    {
      "cell_type": "markdown",
      "metadata": {
        "id": "DfNfVXD49out"
      },
      "source": [
        "##### 2. What is/are the insight(s) found from the chart?"
      ]
    },
    {
      "cell_type": "markdown",
      "metadata": {
        "id": "5IcdXmI29out"
      },
      "source": [
        "This above scatterplot show a **positive correlation between 'Sales' and 'Customers'**. As the number of customers increases, the sales also tend to increase. We understood from the above trend that our data shows linear trend between these two variables - customers and sales."
      ]
    },
    {
      "cell_type": "markdown",
      "metadata": {
        "id": "K3bni5wZ9ouu"
      },
      "source": [
        "##### 3. Will the gained insights help creating a positive business impact? \n",
        "Are there any insights that lead to negative growth? Justify with specific reason."
      ]
    },
    {
      "cell_type": "markdown",
      "metadata": {
        "id": "oj_9wVqS9ouu"
      },
      "source": [
        "Customers and sales are directly proportional to each other and are highly correlated. It can help businesses to promote their strategies using **marketing campaigns, advertisements** to attract more customers ultimately shooting up the sales."
      ]
    },
    {
      "cell_type": "markdown",
      "metadata": {
        "id": "G4J2LF_uNwkT"
      },
      "source": [
        "#### **Chart-5: Sales vs Promo**"
      ]
    },
    {
      "cell_type": "code",
      "execution_count": null,
      "metadata": {
        "id": "fzLuky_cNi0f"
      },
      "outputs": [],
      "source": [
        "# Sales vs Promo\n",
        "plt.figure(figsize=(7,7))\n",
        "plots=sns.barplot(x=df['Promo'],y=df['Sales'],edgecolor='black')\n",
        "for bar in plots.patches:\n",
        "    plots.annotate(format(bar.get_height(), '.2f'),\n",
        "                   (bar.get_x() + bar.get_width() / 2,\n",
        "                    bar.get_height()), ha='center', va='center',\n",
        "                   size=15, xytext=(0, 8),\n",
        "                   textcoords='offset points')\n",
        "plt.show()"
      ]
    },
    {
      "cell_type": "markdown",
      "metadata": {
        "id": "jOoiu2Vt9pnD"
      },
      "source": [
        "##### 1. Why did you pick the specific chart?"
      ]
    },
    {
      "cell_type": "markdown",
      "metadata": {
        "id": "Y-N9gJkE9pnE"
      },
      "source": [
        "To know the count of how many sales were made at stores that were running promotions and how many were made at stores that were not running promotions. We used bar plots because they are a useful tool for visualizing and understanding categorical data, and can be an effective way to communicate information to the wide audience."
      ]
    },
    {
      "cell_type": "markdown",
      "metadata": {
        "id": "_RuezODA9pnE"
      },
      "source": [
        "##### 2. What is/are the insight(s) found from the chart?"
      ]
    },
    {
      "cell_type": "markdown",
      "metadata": {
        "id": "W5HMmNku9pnE"
      },
      "source": [
        "From the above plot we see the **effectiveness of promotions on increasing sales**. So we can infer that as the stores are getting promoted, sales are increasing on large basis showing positive correlation between promo and sales."
      ]
    },
    {
      "cell_type": "markdown",
      "metadata": {
        "id": "rnXB5wAG9pnF"
      },
      "source": [
        "##### 3. Will the gained insights help creating a positive business impact? \n",
        "Are there any insights that lead to negative growth? Justify with specific reason."
      ]
    },
    {
      "cell_type": "markdown",
      "metadata": {
        "id": "uMH6wAGZ9pnF"
      },
      "source": [
        "Business owners should try to **promote the stores** to sustain in the market eventually resulting increment in the sales amount."
      ]
    },
    {
      "cell_type": "markdown",
      "metadata": {
        "id": "KVniuyyoN1pT"
      },
      "source": [
        "#### **Chart-6: Sales vs StateHoliday**"
      ]
    },
    {
      "cell_type": "code",
      "execution_count": null,
      "metadata": {
        "id": "F3fBcaWpPeOa"
      },
      "outputs": [],
      "source": [
        "# Sales vs StateHoliday\n",
        "plt.figure(figsize=(7,7))\n",
        "plots=sns.barplot(x=df['StateHoliday'],y=df['Sales'],edgecolor='black')\n",
        "for bar in plots.patches:\n",
        "    plots.annotate(format(bar.get_height(), '.2f'),\n",
        "                   (bar.get_x() + bar.get_width() / 2,\n",
        "                    bar.get_height()), ha='center', va='center',\n",
        "                   size=15, xytext=(0, 8),\n",
        "                   textcoords='offset points')\n",
        "plt.show()"
      ]
    },
    {
      "cell_type": "markdown",
      "metadata": {
        "id": "axGuPNzL9qSX"
      },
      "source": [
        "##### 1. Why did you pick the specific chart?"
      ]
    },
    {
      "cell_type": "markdown",
      "metadata": {
        "id": "91T0iKm09qSY"
      },
      "source": [
        "To know the number of sales for various State Holidays ."
      ]
    },
    {
      "cell_type": "markdown",
      "metadata": {
        "id": "jrEKVqdp9qSY"
      },
      "source": [
        "##### 2. What is/are the insight(s) found from the chart?"
      ]
    },
    {
      "cell_type": "markdown",
      "metadata": {
        "id": "1eNSd_NN9qSY"
      },
      "source": [
        "From the above plot, we observe that sales are highest for state holiday 'B' followed by state holiday 'C'. One interesting insight here is **sales are comparitively low during normal days**(i.e with no state holiday).The factors that contribute to higher sales on these holidays could be increased consumer spending, special promotions or events.\n"
      ]
    },
    {
      "cell_type": "markdown",
      "metadata": {
        "id": "QMGNCKL99qSY"
      },
      "source": [
        "##### 3. Will the gained insights help creating a positive business impact? \n",
        "Are there any insights that lead to negative growth? Justify with specific reason."
      ]
    },
    {
      "cell_type": "markdown",
      "metadata": {
        "id": "XEc8qa3H9qSY"
      },
      "source": [
        "The business can create special offers or bundle products to increase the sales during the religious festivals."
      ]
    },
    {
      "cell_type": "markdown",
      "metadata": {
        "id": "SmGL1RMWN5nz"
      },
      "source": [
        "#### **Chart-7: Sales vs SchoolHoliday**"
      ]
    },
    {
      "cell_type": "code",
      "execution_count": null,
      "metadata": {
        "id": "73R-QI74N4EP"
      },
      "outputs": [],
      "source": [
        "# Sales vs SchoolHoliday\n",
        "\n",
        "plt.figure(figsize=(7,7))\n",
        "\n",
        "plots=sns.barplot(x=df['SchoolHoliday'],y=df['Sales'],edgecolor='black')\n",
        "for bar in plots.patches:\n",
        "    plots.annotate(format(bar.get_height(), '.2f'),\n",
        "                   (bar.get_x() + bar.get_width() / 2,\n",
        "                    bar.get_height()), ha='center', va='center',\n",
        "                   size=15, xytext=(0, 8),\n",
        "                   textcoords='offset points')    \n",
        "plt.show()"
      ]
    },
    {
      "cell_type": "markdown",
      "metadata": {
        "id": "YRTUVPJG9rEH"
      },
      "source": [
        "##### 1. Why did you pick the specific chart?"
      ]
    },
    {
      "cell_type": "markdown",
      "metadata": {
        "id": "TZXxOf2h9rEI"
      },
      "source": [
        "To know the count of how many sales were made at stores on school holiday and on non-school holiday ."
      ]
    },
    {
      "cell_type": "markdown",
      "metadata": {
        "id": "5QykKAgV9rEI"
      },
      "source": [
        "##### 2. What is/are the insight(s) found from the chart?"
      ]
    },
    {
      "cell_type": "markdown",
      "metadata": {
        "id": "BQoHtn2G9rEI"
      },
      "source": [
        "We can see there is **not much difference in sales**. However,sales is more on school holidays . It is possible that school holidays are more likely to be associated with families going on vacation or parents taking time off work to spend with their children, which could lead to increase in consumer spendings. "
      ]
    },
    {
      "cell_type": "markdown",
      "metadata": {
        "id": "5rLAAgCT9rEI"
      },
      "source": [
        "##### 3. Will the gained insights help creating a positive business impact? \n",
        "Are there any insights that lead to negative growth? Justify with specific reason."
      ]
    },
    {
      "cell_type": "markdown",
      "metadata": {
        "id": "2HZroToIwoHT"
      },
      "source": [
        "As we can see from the graph, it is not making much difference whether there is school holiday or not. Still, businesses can target school holidays and run more promotional offers."
      ]
    },
    {
      "cell_type": "markdown",
      "metadata": {
        "id": "pJx8NhQ1N9Wq"
      },
      "source": [
        "#### **Chart-8: Sales vs StoreType**"
      ]
    },
    {
      "cell_type": "code",
      "execution_count": null,
      "metadata": {
        "id": "cTzZa-2mQDVT"
      },
      "outputs": [],
      "source": [
        "# Sales vs StoreType\n",
        "plt.figure(figsize=(7,7))\n",
        "plots=sns.barplot(x=df['StoreType'],y=df['Sales'],edgecolor='black')\n",
        "for bar in plots.patches:\n",
        "    plots.annotate(format(bar.get_height(), '.2f'),\n",
        "                   (bar.get_x() + bar.get_width() / 2,\n",
        "                    bar.get_height()), ha='center', va='center',\n",
        "                   size=15, xytext=(0, 8),\n",
        "                   textcoords='offset points')\n",
        "plt.show()"
      ]
    },
    {
      "cell_type": "markdown",
      "metadata": {
        "id": "rK9GhTEC9rwr"
      },
      "source": [
        "##### 1. Why did you pick the specific chart?"
      ]
    },
    {
      "cell_type": "markdown",
      "metadata": {
        "id": "cVxVyL1P9rwr"
      },
      "source": [
        "To know which kind of store is able to generate maximum profit."
      ]
    },
    {
      "cell_type": "markdown",
      "metadata": {
        "id": "YKl_kFh89rws"
      },
      "source": [
        "##### 2. What is/are the insight(s) found from the chart?"
      ]
    },
    {
      "cell_type": "markdown",
      "metadata": {
        "id": "Uv9e4Msr9rws"
      },
      "source": [
        "1. Sales for the store type b is the highest . **Store type B might be located in a more affluent or high-traffic area**, which would increase the number of potential customers. Store type B may have a more favorable layout, which makes it more attractive to customers and makes it easier for them to find the products they want, resulting in more sales.\n",
        "\n",
        "2. Earlier we have drawn the univeriate graph of Store type to know which type of store are more in numbers, and we found that store type a,c,d are more but this is not the case with the sales even though **storetype_b are less still they are making more profit**.\n",
        "\n",
        "3. It might be the case that store type_b contain **costly**, **luxerious items**."
      ]
    },
    {
      "cell_type": "markdown",
      "metadata": {
        "id": "IrcnaWDb9rws"
      },
      "source": [
        "##### 3. Will the gained insights help creating a positive business impact? \n",
        "Are there any insights that lead to negative growth? Justify with specific reason."
      ]
    },
    {
      "cell_type": "markdown",
      "metadata": {
        "id": "mhA0m4ck9rws"
      },
      "source": [
        "1. Since store type 'a','c' and 'd' are generating similar sales and lower than store type 'b', they can follow the business strategies, **marketing tactics of store type 'b'.**\n",
        "\n",
        "2. Company should **open stores of type_b** to gain more profit."
      ]
    },
    {
      "cell_type": "markdown",
      "metadata": {
        "id": "__YbND0KOA0R"
      },
      "source": [
        "#### **Chart-9: Sales vs Assortment**"
      ]
    },
    {
      "cell_type": "code",
      "execution_count": null,
      "metadata": {
        "id": "ypyJHCKCQam7"
      },
      "outputs": [],
      "source": [
        "# Sales vs Assortment\n",
        "plt.figure(figsize=(7,7))\n",
        "plots=sns.barplot(x=df['Assortment'],y=df['Sales'],edgecolor='black')\n",
        "for bar in plots.patches:\n",
        "    plots.annotate(format(bar.get_height(), '.2f'),\n",
        "                   (bar.get_x() + bar.get_width() / 2,\n",
        "                    bar.get_height()), ha='center', va='center',\n",
        "                   size=15, xytext=(0, 8),\n",
        "                   textcoords='offset points')\n",
        "plt.show()"
      ]
    },
    {
      "cell_type": "markdown",
      "metadata": {
        "id": "37Inlwy49sde"
      },
      "source": [
        "##### 1. Why did you pick the specific chart?"
      ]
    },
    {
      "cell_type": "markdown",
      "metadata": {
        "id": "__kRZVzS9sdf"
      },
      "source": [
        "To know the Sales for various Assortments or which assortment is beneficial for more profit."
      ]
    },
    {
      "cell_type": "markdown",
      "metadata": {
        "id": "Ay9-rgQ-9sdf"
      },
      "source": [
        "##### 2. What is/are the insight(s) found from the chart?"
      ]
    },
    {
      "cell_type": "markdown",
      "metadata": {
        "id": "xlYXqQb99sdf"
      },
      "source": [
        "1. Earlier we have seen that **assortment_B are less in numbers compared to a,b,c** but with the help of Bivariate graph we can see that assortment_B caters the maximum amount of sales.\n",
        "\n",
        "2. Sales are highest for the assortment b . This assortment may have a good mix of **products that are in high demand or that are unique to the store**, which would result in more sales.\n"
      ]
    },
    {
      "cell_type": "markdown",
      "metadata": {
        "id": "ttQwgfDa9sdf"
      },
      "source": [
        "##### 3. Will the gained insights help creating a positive business impact? \n",
        "Are there any insights that lead to negative growth? Justify with specific reason."
      ]
    },
    {
      "cell_type": "markdown",
      "metadata": {
        "id": "RdmAJe9m9sdf"
      },
      "source": [
        "Since sales are highest for assortment 'b', Rossman owners can **target more on this specific combination** and reduce the dependency on assortment 'a' and assortment 'c'. **This could surely be a cost effective move**."
      ]
    },
    {
      "cell_type": "markdown",
      "metadata": {
        "id": "gOEw_sjYOF2Z"
      },
      "source": [
        "#### **Chart-10: Sales vs CompetitionDistance**"
      ]
    },
    {
      "cell_type": "code",
      "execution_count": null,
      "metadata": {
        "id": "bUBbMmDMQ3r5"
      },
      "outputs": [],
      "source": [
        "# Sales Vs CompetitionDistance\n",
        "plt.figure(figsize=(7,7))\n",
        "sns.scatterplot(df['CompetitionDistance'],df['Sales'])"
      ]
    },
    {
      "cell_type": "markdown",
      "metadata": {
        "id": "nUkakYR79tiC"
      },
      "source": [
        "##### 1. Why did you pick the specific chart?"
      ]
    },
    {
      "cell_type": "markdown",
      "metadata": {
        "id": "YaJzuOj49tiC"
      },
      "source": [
        "To know the relationship between the sales and competition distance."
      ]
    },
    {
      "cell_type": "markdown",
      "metadata": {
        "id": "U8BdCLad9tiD"
      },
      "source": [
        "##### 2. What is/are the insight(s) found from the chart?"
      ]
    },
    {
      "cell_type": "markdown",
      "metadata": {
        "id": "ZyCaLIjd9tiD"
      },
      "source": [
        "From the above scatter plot it can be observed that mostly the competitor stores weren't that far from each other and the stores densely located near each other saw more sales."
      ]
    },
    {
      "cell_type": "markdown",
      "metadata": {
        "id": "2zaBphNm9tiD"
      },
      "source": [
        "##### 3. Will the gained insights help creating a positive business impact? \n",
        "Are there any insights that lead to negative growth? Justify with specific reason."
      ]
    },
    {
      "cell_type": "markdown",
      "metadata": {
        "id": "e0w7Cr7HJyEQ"
      },
      "source": [
        "As we can see sales are more for densely located stores.So, stores can continue providing exciting offers and services to attract customers to compete the market. "
      ]
    },
    {
      "cell_type": "markdown",
      "metadata": {
        "id": "mwP9fe0pONIV"
      },
      "source": [
        "#### **Chart-11: Sales vs CompetitionOpenSinceYear**"
      ]
    },
    {
      "cell_type": "code",
      "execution_count": null,
      "metadata": {
        "id": "2IKLaDgAgYv3"
      },
      "outputs": [],
      "source": [
        "# Sale Vs CompetitionOpenSinceYear\n",
        "plt.figure(figsize=(15,6))\n",
        "sns.pointplot(x= 'CompetitionOpenSinceYear', y= 'Sales', data=df)\n",
        "plt.title('Plot between Sales and Competition Open Since year')"
      ]
    },
    {
      "cell_type": "markdown",
      "metadata": {
        "id": "rqCN-zvK9v_a"
      },
      "source": [
        "##### 1. Why did you pick the specific chart?"
      ]
    },
    {
      "cell_type": "markdown",
      "metadata": {
        "id": "Ffecgiwy9v_a"
      },
      "source": [
        "To know the average sales for each year since a competitor opened near the store ."
      ]
    },
    {
      "cell_type": "markdown",
      "metadata": {
        "id": "yynWEvPH9v_a"
      },
      "source": [
        "##### 2. What is/are the insight(s) found from the chart?"
      ]
    },
    {
      "cell_type": "markdown",
      "metadata": {
        "id": "maBKivBB9v_b"
      },
      "source": [
        "From the Plot we can tell that Sales are high during the year 1900, as there are very few store were operated of Rossmann so there is less competition and sales are high. But as year pass on number of stores increased that means competition also increased and this leads to decline in the sales."
      ]
    },
    {
      "cell_type": "markdown",
      "metadata": {
        "id": "jZC8Ifpl9v_b"
      },
      "source": [
        "##### 3. Will the gained insights help creating a positive business impact? \n",
        "Are there any insights that lead to negative growth? Justify with specific reason."
      ]
    },
    {
      "cell_type": "markdown",
      "metadata": {
        "id": "BtF0gaNH9v_b"
      },
      "source": [
        "Since almost every subsequent year reports sudden drop/rise in the sales, owners need to work on their stockings and marketing tactics. The basic reason for this sudden change could be explored more deeply and a plausible solution to it can be reached."
      ]
    },
    {
      "cell_type": "markdown",
      "metadata": {
        "id": "cPjgYJ3cOP5E"
      },
      "source": [
        "#### **Chart-12: Sales vs Promo2**"
      ]
    },
    {
      "cell_type": "code",
      "execution_count": null,
      "metadata": {
        "id": "fwBMR4iiUBRm"
      },
      "outputs": [],
      "source": [
        "# Sales vs Promo2\n",
        "\n",
        "plt.figure(figsize=(7,7))\n",
        "\n",
        "plots=sns.barplot(x=df['Promo2'],y=df['Sales'],edgecolor='black')\n",
        "for bar in plots.patches:\n",
        "    plots.annotate(format(bar.get_height(), '.2f'),\n",
        "                   (bar.get_x() + bar.get_width() / 2,\n",
        "                    bar.get_height()), ha='center', va='center',\n",
        "                   size=15, xytext=(0, 8),\n",
        "                   textcoords='offset points')    \n",
        "plt.show()"
      ]
    },
    {
      "cell_type": "markdown",
      "metadata": {
        "id": "cHZUVJJC9xIK"
      },
      "source": [
        "##### 1. Why did you pick the specific chart?"
      ]
    },
    {
      "cell_type": "markdown",
      "metadata": {
        "id": "WK3Cue5-9xIK"
      },
      "source": [
        "To know the count of sales with presence and absence of promo2."
      ]
    },
    {
      "cell_type": "markdown",
      "metadata": {
        "id": "ZiLjVt9N9xIK"
      },
      "source": [
        "##### 2. What is/are the insight(s) found from the chart?"
      ]
    },
    {
      "cell_type": "markdown",
      "metadata": {
        "id": "Om8VT-Wp9xIK"
      },
      "source": [
        "The barplot shows that customers are slightly less responsive to the stores(i.e sales) that are running consecutive promotions. One possibility could be customers might have already taken advantage of a similar promotion earlier. Another reason could be store might not have invested enough in promoting the promotion to customers, resulting in lower awareness and fewer sales. Also, if the store is running same promotion again and again, it could have resulted into lower customer footfal and ultimately leadind to fewer sales."
      ]
    },
    {
      "cell_type": "markdown",
      "metadata": {
        "id": "Ar1frQH39xIK"
      },
      "source": [
        "##### 3. Will the gained insights help creating a positive business impact? \n",
        "Are there any insights that lead to negative growth? Justify with specific reason."
      ]
    },
    {
      "cell_type": "markdown",
      "metadata": {
        "id": "S2RY3BHz9xIK"
      },
      "source": [
        "Yes. The insights are indeed helpful as they are highlighting one of the most important thing about consecutive promotions. Clearly, such promotions are not enough to convert customers into buyers. The store needs to come up with more innovative and more rewardful solutions."
      ]
    },
    {
      "cell_type": "markdown",
      "metadata": {
        "id": "LsdK-sIqOXj9"
      },
      "source": [
        "#### **Chart-13: Sales vs Promo2SinceYear**"
      ]
    },
    {
      "cell_type": "code",
      "execution_count": null,
      "metadata": {
        "id": "lzE9TsHrU5oL"
      },
      "outputs": [],
      "source": [
        "# Sales vs Promo2SinceYear\n",
        "\n",
        "plt.figure(figsize=(10,7))\n",
        "\n",
        "plots=sns.barplot(x=df['Promo2SinceYear'],y=df['Sales'],edgecolor='black')\n",
        "for bar in plots.patches:\n",
        "    plots.annotate(format(bar.get_height(), '.2f'),\n",
        "                   (bar.get_x() + bar.get_width() / 2,\n",
        "                    bar.get_height()), ha='center', va='center',\n",
        "                   size=15, xytext=(0, 8),\n",
        "                   textcoords='offset points')    \n",
        "plt.show()"
      ]
    },
    {
      "cell_type": "markdown",
      "metadata": {
        "id": "apVAPQXm9yrY"
      },
      "source": [
        "##### 1. Why did you pick the specific chart?"
      ]
    },
    {
      "cell_type": "markdown",
      "metadata": {
        "id": "xh-lg0e39yrY"
      },
      "source": [
        "To know the sale count for various years since the promo2 started."
      ]
    },
    {
      "cell_type": "markdown",
      "metadata": {
        "id": "yRlN2-pN9yrY"
      },
      "source": [
        "##### 2. What is/are the insight(s) found from the chart?"
      ]
    },
    {
      "cell_type": "markdown",
      "metadata": {
        "id": "m9MViO5i9yrY"
      },
      "source": [
        "This barplot explains that sales were still the highest when the store wasn't running any consecutive promotional events. But in 2014, the sales were really shoot up and they are recorded as 2nd highest. Good quality products, better deals, shutdown of competitions etc could be the reasons."
      ]
    },
    {
      "cell_type": "markdown",
      "metadata": {
        "id": "km5ZRAml9yrY"
      },
      "source": [
        "##### 3. Will the gained insights help creating a positive business impact? \n",
        "Are there any insights that lead to negative growth? Justify with specific reason."
      ]
    },
    {
      "cell_type": "markdown",
      "metadata": {
        "id": "YRC4EaRv9yrZ"
      },
      "source": [
        "Yes. The insights are indeed helpful as they are highlighting one of the most important thing about consecutive promotions. Clearly, such promotions are not enough to convert customers into buyers. The store needs to come up with more innovative and more rewardful solutions."
      ]
    },
    {
      "cell_type": "markdown",
      "metadata": {
        "id": "BXWMYpvWOe9A"
      },
      "source": [
        "#### **Chart-14:  Sales vs PromoInterval**"
      ]
    },
    {
      "cell_type": "code",
      "execution_count": null,
      "metadata": {
        "id": "cAnUOOaSVZs2"
      },
      "outputs": [],
      "source": [
        "# Sales vs PromoInterval\n",
        "\n",
        "plt.figure(figsize=(7,7))\n",
        "\n",
        "plots=sns.barplot(x=df['PromoInterval'],y=df['Sales'],edgecolor='black')\n",
        "for bar in plots.patches:\n",
        "    plots.annotate(format(bar.get_height(), '.2f'),\n",
        "                   (bar.get_x() + bar.get_width() / 2,\n",
        "                    bar.get_height()), ha='center', va='center',\n",
        "                   size=15, xytext=(0, 8),\n",
        "                   textcoords='offset points')    \n",
        "plt.show()"
      ]
    },
    {
      "cell_type": "markdown",
      "metadata": {
        "id": "9d-OTKHn9zd6"
      },
      "source": [
        "##### 1. Why did you pick the specific chart?"
      ]
    },
    {
      "cell_type": "markdown",
      "metadata": {
        "id": "8aLtUZOL9zd6"
      },
      "source": [
        "To know the count of sale for various promo interval ."
      ]
    },
    {
      "cell_type": "markdown",
      "metadata": {
        "id": "-LTOVgZK9zd6"
      },
      "source": [
        "##### 2. What is/are the insight(s) found from the chart?"
      ]
    },
    {
      "cell_type": "markdown",
      "metadata": {
        "id": "y-_skTNp9zd6"
      },
      "source": [
        "This barplot explains that sales were still the highest when the store wasn't running any consecutive promotional events. Here, we can see the promo interval Jan, Apr, Jul, Oct records the 2nd highest sales as it marks the festive season. However, the other intervals are recording sales that are close to the 1st interval."
      ]
    },
    {
      "cell_type": "markdown",
      "metadata": {
        "id": "wd05EYcv9zd6"
      },
      "source": [
        "##### 3. Will the gained insights help creating a positive business impact? \n",
        "Are there any insights that lead to negative growth? Justify with specific reason."
      ]
    },
    {
      "cell_type": "markdown",
      "metadata": {
        "id": "DQmNuOTC9zd6"
      },
      "source": [
        "Business needs to design the pattern of the promotion as sales are decreasing gradually from begining with first quarter of promo interval."
      ]
    },
    {
      "cell_type": "markdown",
      "metadata": {
        "id": "8RC0iTeHsYQE"
      },
      "source": [
        "### **Multivariate Analysis**"
      ]
    },
    {
      "cell_type": "markdown",
      "metadata": {
        "id": "zRtFcm4LOu5a"
      },
      "source": [
        "#### **Chart-1 Pair Plot**"
      ]
    },
    {
      "cell_type": "code",
      "execution_count": null,
      "metadata": {
        "id": "8vuOI8W9vSzR"
      },
      "outputs": [],
      "source": [
        "# # Pair Plot visualization code\n",
        "sns.pairplot(df)"
      ]
    },
    {
      "cell_type": "markdown",
      "metadata": {
        "id": "oub_NbbmyCs5"
      },
      "source": [
        "##### 1. Why did you pick the specific chart?"
      ]
    },
    {
      "cell_type": "markdown",
      "metadata": {
        "id": "_1s1zHMGyKYT"
      },
      "source": [
        "It can give multiple visual aids in a single frame and various insights related to the data can be gained in one single look."
      ]
    },
    {
      "cell_type": "markdown",
      "metadata": {
        "id": "BtrRS27qyCs5"
      },
      "source": [
        "##### 2. What is/are the insight(s) found from the chart?"
      ]
    },
    {
      "cell_type": "markdown",
      "metadata": {
        "id": "wYPHiofNyQvK"
      },
      "source": [
        "Pairplot helped us to visualize the relationship between sales and other variables, such as customers, Promotions, competition, and school holidays Columns. This helped us to identify which variables might be useful for predicting sales and inform the design for our machine learning model."
      ]
    },
    {
      "cell_type": "markdown",
      "metadata": {
        "id": "xksGwSxtyCs5"
      },
      "source": [
        "##### 3. Will the gained insights help creating a positive business impact? \n",
        "Are there any insights that lead to negative growth? Justify with specific reason."
      ]
    },
    {
      "cell_type": "markdown",
      "metadata": {
        "id": "FKoSd9CgyUlc"
      },
      "source": [
        "Yes.By plotting pairplt we got to know which features are impacting more on sales aiming for maximum sales."
      ]
    },
    {
      "cell_type": "markdown",
      "metadata": {
        "id": "0wOQAZs5pc--"
      },
      "source": [
        "#### **Chart-2 Correlation Heatmap**"
      ]
    },
    {
      "cell_type": "code",
      "execution_count": null,
      "metadata": {
        "id": "7v_ESjsspbW7"
      },
      "outputs": [],
      "source": [
        "plt.figure(figsize = (15,10))\n",
        "sns.heatmap(df.corr(),annot= True,cmap=sns.color_palette('Pastel1'),square=True)\n",
        "plt.title('Correlation Heatmap for Playstore data and User review data', size=20)"
      ]
    },
    {
      "cell_type": "markdown",
      "metadata": {
        "id": "g-ATYxFrGrvw"
      },
      "source": [
        "## ***5. Hypothesis Testing***"
      ]
    },
    {
      "cell_type": "markdown",
      "metadata": {
        "id": "Yfr_Vlr8HBkt"
      },
      "source": [
        "### Based on your chart experiments, define three hypothetical statements from the dataset. In the next three questions, perform hypothesis testing to obtain final conclusion about the statements through your code and statistical testing."
      ]
    },
    {
      "cell_type": "markdown",
      "metadata": {
        "id": "-7MS06SUHkB-"
      },
      "source": [
        "1- Null Hypothesis - There is no relation between Customers and Sales\n",
        "\n",
        "Alternate Hypothesis - There is a relationship between Customers and sales\n",
        "\n",
        "2- Null Hypothesis - There is no relation between DayOfWeek and Sales\n",
        "\n",
        "Alternate Hypothesis - There is a relation between DayOfWeek and Sales\n",
        "\n",
        "3- Null Hypothesis - There is no relation between SchoolHoliday and Sales\n",
        "\n",
        "Alternate Hypothesis - There is a relation between SchoolHoliday and Sales"
      ]
    },
    {
      "cell_type": "markdown",
      "metadata": {
        "id": "8yEUt7NnHlrM"
      },
      "source": [
        "### Hypothetical Statement - 1"
      ]
    },
    {
      "cell_type": "markdown",
      "metadata": {
        "id": "tEA2Xm5dHt1r"
      },
      "source": [
        "#### 1. State Your research hypothesis as a null hypothesis and alternate hypothesis."
      ]
    },
    {
      "cell_type": "markdown",
      "metadata": {
        "id": "HI9ZP0laH0D-"
      },
      "source": [
        "Null Hypothesis - There is no relation between Customers and Sales\n",
        "\n",
        "Alternate Hypothesis - There is a relationship between Customers and sales"
      ]
    },
    {
      "cell_type": "markdown",
      "metadata": {
        "id": "I79__PHVH19G"
      },
      "source": [
        "#### 2. Perform an appropriate statistical test."
      ]
    },
    {
      "cell_type": "code",
      "execution_count": null,
      "metadata": {
        "id": "UKN4372vF0xF"
      },
      "outputs": [],
      "source": [
        "# Perform Statistical Test to obtain P-Value\n",
        "from scipy.stats import pearsonr\n",
        "first_sample = df[\"Customers\"].head(60)\n",
        "second_sample = df[\"Sales\"].head(60)\n",
        "\n",
        "stat, p = pearsonr(first_sample, second_sample)\n",
        "print('stat=%.3f, p = %.2f'%(stat, p))\n",
        "if p> 0.05:\n",
        "  print('Accept Null Hypothesis')\n",
        "else:\n",
        "  print('Rejected Null Hypothesis')"
      ]
    },
    {
      "cell_type": "markdown",
      "metadata": {
        "id": "Ou-I18pAyIpj"
      },
      "source": [
        "##### Which statistical test have you done to obtain P-Value?"
      ]
    },
    {
      "cell_type": "markdown",
      "metadata": {
        "id": "s2U0kk00ygSB"
      },
      "source": [
        "We have used Pearson Correlation test to obtain P-Value along with Pearson Correlation coefficient value.It is a measure of linear correlation between two sets of data. "
      ]
    },
    {
      "cell_type": "markdown",
      "metadata": {
        "id": "fF3858GYyt-u"
      },
      "source": [
        "##### Why did you choose the specific statistical test?"
      ]
    },
    {
      "cell_type": "markdown",
      "metadata": {
        "id": "HO4K0gP5y3B4"
      },
      "source": [
        "We want to check the relationship between two features if they are positively or negatively correlated.P-value and Pearson Correlation coefficient will always have a value between -1 and 1.Here we can see that after applying test on Customers and sales features we got Correlation coefficient as 0.939 which implies that theses two features are having strong positive correlation between them."
      ]
    },
    {
      "cell_type": "markdown",
      "metadata": {
        "id": "4_0_7-oCpUZd"
      },
      "source": [
        "### Hypothetical Statement - 2"
      ]
    },
    {
      "cell_type": "markdown",
      "metadata": {
        "id": "hwyV_J3ipUZe"
      },
      "source": [
        "#### 1. State Your research hypothesis as a null hypothesis and alternate hypothesis."
      ]
    },
    {
      "cell_type": "markdown",
      "metadata": {
        "id": "FnpLGJ-4pUZe"
      },
      "source": [
        "Null Hypothesis - There is no relation between DayOfWeek and Sales\n",
        "\n",
        "Alternate Hypothesis - There is a relationship between DayOfWeek and sales"
      ]
    },
    {
      "cell_type": "markdown",
      "metadata": {
        "id": "3yB-zSqbpUZe"
      },
      "source": [
        "#### 2. Perform an appropriate statistical test."
      ]
    },
    {
      "cell_type": "code",
      "execution_count": null,
      "metadata": {
        "id": "F2d6QqxGG5GH"
      },
      "outputs": [],
      "source": [
        "# Perform Statistical Test to obtain P-Value\n",
        "from scipy.stats import pearsonr\n",
        "first_sample = df[\"DayOfWeek\"].head(60)\n",
        "second_sample = df[\"Sales\"].head(60)\n",
        "\n",
        "stat, p = pearsonr(first_sample, second_sample)\n",
        "print('stat=%.3f, p = %.2f'%(stat, p))\n",
        "if p> 0.05:\n",
        "  print('Accept Null Hypothesis')\n",
        "else:\n",
        "  print('Rejected Null Hypothesis')"
      ]
    },
    {
      "cell_type": "markdown",
      "metadata": {
        "id": "dEUvejAfpUZe"
      },
      "source": [
        "##### Which statistical test have you done to obtain P-Value?"
      ]
    },
    {
      "cell_type": "markdown",
      "metadata": {
        "id": "oLDrPz7HpUZf"
      },
      "source": [
        "We have used Pearson Correlation test to obtain P-Value along with Pearson Correlation coefficient value.It is a measure of linear correlation between two sets of data. "
      ]
    },
    {
      "cell_type": "markdown",
      "metadata": {
        "id": "Fd15vwWVpUZf"
      },
      "source": [
        "##### Why did you choose the specific statistical test?"
      ]
    },
    {
      "cell_type": "markdown",
      "metadata": {
        "id": "4xOGYyiBpUZf"
      },
      "source": [
        "We want to check the relationship between two features if they are positively or negatively correlated.P-value and Pearson Correlation coefficient will always have a value between -1 and 1.Here we can see that after applying test on DayOfWeek and sales features we got Correlation coefficient as -0.221 which implies that theses two features are having weak negative correlation between them."
      ]
    },
    {
      "cell_type": "markdown",
      "metadata": {
        "id": "bn_IUdTipZyH"
      },
      "source": [
        "### Hypothetical Statement - 3"
      ]
    },
    {
      "cell_type": "markdown",
      "metadata": {
        "id": "49K5P_iCpZyH"
      },
      "source": [
        "#### 1. State Your research hypothesis as a null hypothesis and alternate hypothesis."
      ]
    },
    {
      "cell_type": "markdown",
      "metadata": {
        "id": "7gWI5rT9pZyH"
      },
      "source": [
        "Null Hypothesis - There is no relation between SchoolHoliday and Sales\n",
        "\n",
        "Alternate Hypothesis - There is a relationship between SchoolHoliday and sales"
      ]
    },
    {
      "cell_type": "markdown",
      "metadata": {
        "id": "Nff-vKELpZyI"
      },
      "source": [
        "#### 2. Perform an appropriate statistical test."
      ]
    },
    {
      "cell_type": "code",
      "execution_count": null,
      "metadata": {
        "id": "3aWUvIhMZq2g"
      },
      "outputs": [],
      "source": [
        "# Perform Statistical Test to obtain P-Value\n",
        "from scipy.stats import pearsonr\n",
        "first_sample = df[\"SchoolHoliday\"].head(60)\n",
        "second_sample = df[\"Sales\"].head(60)\n",
        "\n",
        "stat, p = pearsonr(first_sample, second_sample)\n",
        "print('stat=%.3f, p = %.2f'%(stat, p))\n",
        "if p> 0.05:\n",
        "  print('Accept Null Hypothesis')\n",
        "else:\n",
        "  print('Rejected Null Hypothesis')"
      ]
    },
    {
      "cell_type": "markdown",
      "metadata": {
        "id": "kLW572S8pZyI"
      },
      "source": [
        "##### Which statistical test have you done to obtain P-Value?"
      ]
    },
    {
      "cell_type": "markdown",
      "metadata": {
        "id": "ytWJ8v15pZyI"
      },
      "source": [
        "We have used Pearson Correlation test to obtain P-Value along with Pearson Correlation coefficient value.It is a measure of linear correlation between two sets of data. "
      ]
    },
    {
      "cell_type": "markdown",
      "metadata": {
        "id": "dWbDXHzopZyI"
      },
      "source": [
        "##### Why did you choose the specific statistical test?"
      ]
    },
    {
      "cell_type": "markdown",
      "metadata": {
        "id": "M99G98V6pZyI"
      },
      "source": [
        "We want to check the relationship between two features if they are positively or negatively correlated.P-value and Pearson Correlation coefficient will always have a value between -1 and 1.Here we can see that after applying test on Customers and sales features we got Correlation coefficient as 0.334 which implies that theses two features are having weak positive correlation between them."
      ]
    },
    {
      "cell_type": "code",
      "execution_count": null,
      "metadata": {
        "id": "XVc6RYBfoCkY"
      },
      "outputs": [],
      "source": []
    },
    {
      "cell_type": "code",
      "source": [],
      "metadata": {
        "id": "MQqA_o9fxpD8"
      },
      "execution_count": null,
      "outputs": []
    },
    {
      "cell_type": "markdown",
      "metadata": {
        "id": "-efLTBJ7xpcK"
      },
      "source": [
        "## ***6. Feature Engineering & Data Pre-processing***"
      ]
    },
    {
      "cell_type": "markdown",
      "metadata": {
        "id": "SMZ4a_wbxpcK"
      },
      "source": [
        "### 1. Handling Missing Values"
      ]
    },
    {
      "cell_type": "code",
      "execution_count": null,
      "metadata": {
        "id": "T1D39eGCxpcL"
      },
      "outputs": [],
      "source": [
        "# Handling Missing Values & Missing Value Imputation\n",
        "df.isna().sum()"
      ]
    },
    {
      "cell_type": "markdown",
      "metadata": {
        "id": "2WJP2fz-Gbe3"
      },
      "source": [
        "As we have already treated null values so we do not have any more missing/null/duplicate values in our dataset and our dataset is good to go."
      ]
    },
    {
      "cell_type": "markdown",
      "metadata": {
        "id": "tvuNtUsqxpcL"
      },
      "source": [
        "#### What all missing value imputation techniques have you used and why did you use those techniques?"
      ]
    },
    {
      "cell_type": "markdown",
      "metadata": {
        "id": "ZBof7La-xpcL"
      },
      "source": [
        "We have checked the outliers by plotting the box plot and then replaced the null values of various variables with mean, median,mode and 0 accordingly."
      ]
    },
    {
      "cell_type": "markdown",
      "metadata": {
        "id": "RB2t61vjxpcL"
      },
      "source": [
        "### 2. Handling Outliers"
      ]
    },
    {
      "cell_type": "code",
      "execution_count": null,
      "metadata": {
        "id": "Uwd0jN4rO7J1"
      },
      "outputs": [],
      "source": [
        "df.info()"
      ]
    },
    {
      "cell_type": "code",
      "execution_count": null,
      "metadata": {
        "id": "62kCi1btOr5R"
      },
      "outputs": [],
      "source": [
        "# assigning continous variable features in new variables so that it makes sense while visulatizing through box plots\n",
        "continous_value_feature= [\"DayOfWeek\", \"Sales\", \"Customers\", \"CompetitionDistance\", \"CompetitionOpenSinceMonth\", \"CompetitionOpenSinceYear\", \"Promo2SinceWeek\", \"Promo2SinceYear\"]\n",
        "numeric_features= ['Store', 'DayOfWeek', 'Sales', 'Customers', 'Open', 'Promo', 'StateHoliday', 'SchoolHoliday', 'CompetitionDistance', 'CompetitionOpenSinceMonth', 'CompetitionOpenSinceYear', 'Promo2', 'Promo2SinceWeek','Promo2SinceYear']\n",
        "categorical_features= [\"Date\", \"StoreType\", \"Assortment\", \"PromoInterval\"]\n",
        "print(\"Numeric_features: \",numeric_features)\n",
        "print(\"Categorical_features: \",categorical_features)\n",
        "print(\"Continous_value_feature: \",continous_value_feature)"
      ]
    },
    {
      "cell_type": "code",
      "execution_count": null,
      "metadata": {
        "id": "Z6cL-3CqNfD5"
      },
      "outputs": [],
      "source": [
        "# checking outliers with the help of box plot for continous features\n",
        "plt.figure(figsize=(30,15))\n",
        "for n,column in enumerate(continous_value_feature):\n",
        "  plt.subplot(5, 4, n+1)\n",
        "  sns.boxplot(df[column])\n",
        "  plt.title(f'{column.title()}',weight='bold')\n",
        "  plt.tight_layout()"
      ]
    },
    {
      "cell_type": "markdown",
      "metadata": {
        "id": "5yn0ZpXZW4dn"
      },
      "source": [
        "From the above box plots we can see clearly the features \"Sales\", \"Customers\", \"CompetitionDistance\", \"CompetitionOpenSinceMonth\" and \"CompetitionOpenSinceYear\" contains several outliers and rest of the features are fine as they are categorical in nature.\n",
        "\n",
        "Let's define a code to detect the number of outliers and percentage of outliers present in each of the feature in order to handle them accordingly."
      ]
    },
    {
      "cell_type": "code",
      "execution_count": null,
      "metadata": {
        "id": "Ro572AN3fTqD"
      },
      "outputs": [],
      "source": [
        "# defining the code for outlier detection and percentage using IQR.\n",
        "def detect_outliers(data):\n",
        "    outliers = []\n",
        "    data = sorted(data)\n",
        "    q1 = np.percentile(data, 25)\n",
        "    q2 = np.percentile(data, 50)\n",
        "    q3 = np.percentile(data, 75)\n",
        "    print(f\"q1:{q1}, q2:{q2}, q3:{q3}\")\n",
        "\n",
        "    IQR = q3-q1\n",
        "    lwr_bound = q1-(1.5*IQR)\n",
        "    upr_bound = q3+(1.5*IQR)\n",
        "    print(f\"Lower bound: {lwr_bound}, Upper bound: {upr_bound}, IQR: {IQR}\")\n",
        "\n",
        "    for i in data: \n",
        "        if (i<lwr_bound or i>upr_bound):\n",
        "            outliers.append(i)\n",
        "    len_outliers= len(outliers)\n",
        "    print(f\"Total number of outliers are: {len_outliers}\")\n",
        "\n",
        "    print(f\"Total percentage of outlier is: {round(len_outliers*100/len(data),2)} %\")"
      ]
    },
    {
      "cell_type": "code",
      "execution_count": null,
      "metadata": {
        "id": "3o4q_e3ogOJj"
      },
      "outputs": [],
      "source": [
        "# Determining IQR, Lower and Upper bound and number out outliers present in each of the continous numerical feature\n",
        "for feature in continous_value_feature:\n",
        "  print(feature,\":\")\n",
        "  detect_outliers(df[feature])\n",
        "  print(\"\\n\")"
      ]
    },
    {
      "cell_type": "markdown",
      "metadata": {
        "id": "v6meFKQSu8ON"
      },
      "source": [
        "Below mentioned continous features with the percentage of outliers:\n",
        "\n",
        "1. \"Sales\" - 2.62%\n",
        "2. \"Customers\" - 3.75%\n",
        "3. \"CompetitionDistance\" - 9.75%\n",
        "4. \"CompetitionOpenSinceMonth\" - 1.22%\n",
        "5. \"CompetitionOpenSinceYear\" - 2.71%\n",
        "\n",
        "Let's define a function for the outlier treatment using IQR technique and cap the outliers in 25-75 percentile."
      ]
    },
    {
      "cell_type": "code",
      "execution_count": null,
      "metadata": {
        "id": "1dVjeORhccha"
      },
      "outputs": [],
      "source": [
        "# Defining the function that treats outliers with the IQR technique\n",
        "def treat_outliers_iqr(data):\n",
        "    # Calculate the first and third quartiles\n",
        "    q1, q3 = np.percentile(data, [25, 75])\n",
        "    \n",
        "    # Calculate the interquartile range (IQR)\n",
        "    iqr = q3 - q1\n",
        "    \n",
        "    # Identify the outliers\n",
        "    lower_bound = q1 - (1.5 * iqr)\n",
        "    upper_bound = q3 + (1.5 * iqr)\n",
        "    outliers = [x for x in data if x < lower_bound or x > upper_bound]\n",
        "    \n",
        "    # Treat the outliers (e.g., replace with the nearest quartile value)\n",
        "    treated_data = [q1 if x < lower_bound else q3 if x > upper_bound else x for x in data]\n",
        "    treated_data_int = [int(absolute) for absolute in treated_data]\n",
        "    \n",
        "    return treated_data_int"
      ]
    },
    {
      "cell_type": "code",
      "execution_count": null,
      "metadata": {
        "id": "De5kvfdYhJYg"
      },
      "outputs": [],
      "source": [
        "#Passing all the feature one by one from the list of continous_value_feature in our above defined function for outlier treatment\n",
        "for feature in continous_value_feature:\n",
        "  df[feature]= treat_outliers_iqr(df[feature])"
      ]
    },
    {
      "cell_type": "code",
      "execution_count": null,
      "metadata": {
        "id": "JFP5mviPkD_p"
      },
      "outputs": [],
      "source": [
        "#Replotting the box plots and rechecking the percentage of outliers still available(if any) in the list of continous_value_feature.\n",
        "plt.figure(figsize=(30,15))\n",
        "for n,column in enumerate(continous_value_feature):\n",
        "  plt.subplot(5, 4, n+1)\n",
        "  sns.boxplot(df[column])\n",
        "  plt.title(f'{column.title()}',weight='bold')\n",
        "  plt.tight_layout()"
      ]
    },
    {
      "cell_type": "code",
      "execution_count": null,
      "metadata": {
        "id": "49YRoP5TkTMX"
      },
      "outputs": [],
      "source": [
        "# Rechecking the total number of outliers and its percentage present in our dataset.\n",
        "for feature in continous_value_feature:\n",
        "  print(feature,\":\")\n",
        "  detect_outliers(df[feature])\n",
        "  print(\"\\n\")"
      ]
    },
    {
      "cell_type": "markdown",
      "metadata": {
        "id": "Hh86r-nVxpcP"
      },
      "source": [
        "### 3. Categorical Encoding"
      ]
    },
    {
      "cell_type": "code",
      "execution_count": null,
      "metadata": {
        "id": "sVZq67xYj_Gj"
      },
      "outputs": [],
      "source": [
        "# checking the features having dtype as object\n",
        "df.info()"
      ]
    },
    {
      "cell_type": "markdown",
      "metadata": {
        "id": "dpMJUWSXkzfb"
      },
      "source": [
        "Clearly we have \"StoreType\", \"Assortment\", \"PromoInterval\" as \"object\". To feed them as an input of our Machine Learning algorithm, we need to use some encoding technique to make dtype of these column as \"integer\"."
      ]
    },
    {
      "cell_type": "code",
      "execution_count": null,
      "metadata": {
        "id": "C3yN24gekTLZ"
      },
      "outputs": [],
      "source": [
        "# creating the variable that contains list of \"object\" dtypes\n",
        "obj= [\"StateHoliday\", \"StoreType\", \"Assortment\", \"PromoInterval\"]"
      ]
    },
    {
      "cell_type": "code",
      "execution_count": null,
      "metadata": {
        "id": "LyTMoE5akEFi"
      },
      "outputs": [],
      "source": [
        "# checking the unique counts of object dype column which is essential to determine the type of encoding to use in various column\n",
        "for unique in obj:\n",
        "  print(f\"{unique}: \")\n",
        "  print(f\"The unique values are: {df[unique].unique()}\")\n",
        "  print(f\"Total number of unique values are: {df[unique].nunique()}\")\n",
        "  print(\"\\n\")"
      ]
    },
    {
      "cell_type": "markdown",
      "metadata": {
        "id": "WfWsGRD2spmB"
      },
      "source": [
        "From the above output we can see that the feature \"StateHoliday\" contains \"0\" as string and 0 as int at various observations. So let's convert \"0\"(str) to 0(int)."
      ]
    },
    {
      "cell_type": "code",
      "execution_count": null,
      "metadata": {
        "id": "JxmEH14VtKeY"
      },
      "outputs": [],
      "source": [
        "# replacing \"0\" to 0 and a=b=c=1 for our simplicity as they resembles that there is holiday\n",
        "df[\"StateHoliday\"].replace({\"0\":0, \"a\":1, \"b\":1, \"c\":1}, inplace=True)"
      ]
    },
    {
      "cell_type": "code",
      "execution_count": null,
      "metadata": {
        "id": "YgeRdDlDu2yj"
      },
      "outputs": [],
      "source": [
        "# rechecking the unique counts of object dype column which is essential to determine the type of encoding to be use in various column\n",
        "for unique in obj:\n",
        "  print(f\"{unique}: \")\n",
        "  print(f\"The unique values are: {df[unique].unique()}\")\n",
        "  print(f\"Total number of unique values are: {df[unique].nunique()}\")\n",
        "  print(\"\\n\")"
      ]
    },
    {
      "cell_type": "markdown",
      "metadata": {
        "id": "zhBA_F7mvBS5"
      },
      "source": [
        "Since we have several encoding techniques but the major ones are:\n",
        "1. Ordinal encoding: Used when the features are ordinal in nature and have some rank between them.\n",
        "2. Nominal encoding: Used when the features have equal weightage and are nominal in nature.\n",
        "\n",
        "As our all the categorical columns are nominal in nature(do not have any rank or order) so will use One-Hot Encoding (Type of Nominal encoding) in our senario:"
      ]
    },
    {
      "cell_type": "code",
      "execution_count": null,
      "metadata": {
        "id": "YfYcXVpayf39"
      },
      "outputs": [],
      "source": [
        "#Lets create a copy of dataframe to avoid blunders with our original dataframe\n",
        "df_new=df.copy() "
      ]
    },
    {
      "cell_type": "code",
      "execution_count": null,
      "metadata": {
        "id": "dAYd9j4IxpcR"
      },
      "outputs": [],
      "source": [
        "# Encode your categorical columns by dropping the first category\n",
        "# df_new= pd.get_dummies(df, dtype=int)"
      ]
    },
    {
      "cell_type": "markdown",
      "metadata": {
        "id": "ljknvUthTDhy"
      },
      "source": [
        "We can use the above code to create binary dummy variable using ONE-HOT ENCODING for each of the feature but we will face the issue of \"multicollinearity\" or \"dummy variable trap\" as the information given by the one feature can be explained by the other features and this results in the high \"VIF\". So its better to drop the redundant feature (one category among all other category) here only.\n",
        "\n",
        "We can do this easily by passing the argument \"drop_first = True\" in get_dummies without doing it manually, thanks to python code development team to make our tasks easier."
      ]
    },
    {
      "cell_type": "code",
      "execution_count": null,
      "metadata": {
        "id": "NNsDLayhUu5l"
      },
      "outputs": [],
      "source": [
        "# Encode your categorical columns by dropping the first category\n",
        "df_new= pd.get_dummies(df, dtype=int, drop_first=True)"
      ]
    },
    {
      "cell_type": "code",
      "execution_count": null,
      "metadata": {
        "id": "tf6TgIxhTlKN"
      },
      "outputs": [],
      "source": [
        "# code to see all the features\n",
        "pd.set_option('display.max_columns', None)"
      ]
    },
    {
      "cell_type": "code",
      "execution_count": null,
      "metadata": {
        "id": "TMBdLhifTrkp"
      },
      "outputs": [],
      "source": [
        "# Let's see first five observations of our dataset\n",
        "df_new.head()"
      ]
    },
    {
      "cell_type": "code",
      "execution_count": null,
      "metadata": {
        "id": "HW97hIkIWcrL"
      },
      "outputs": [],
      "source": [
        "# Verifying the dtype\n",
        "df_new.info()"
      ]
    },
    {
      "cell_type": "markdown",
      "metadata": {
        "id": "YX4f20EmxpcS"
      },
      "source": [
        "#### What all categorical encoding techniques have you used & why did you use those techniques?"
      ]
    },
    {
      "cell_type": "markdown",
      "metadata": {
        "id": "YUA6HDvyxpcS"
      },
      "source": [
        "a. We have used one-hot encoding technique to change our categorical features of object type into int type by creating their dummies so that it becomes compatible to feed it into various ML algorithms in future.\n",
        "\n",
        "b. Since, we have 3 to 4 unique orderless categories in all the categorical features (which is less in number). So, it is good to use Nominal encoding technique than ordinal."
      ]
    },
    {
      "cell_type": "markdown",
      "metadata": {
        "id": "vGRSVf6axpcV"
      },
      "source": [
        "### 4. Textual Data Preprocessing \n",
        "(It's mandatory for textual dataset i.e., NLP, Sentiment Analysis, Text Clustering etc.)\n",
        "##### We don't have textual data in any of the feature so it is not needed for our project"
      ]
    },
    {
      "cell_type": "markdown",
      "metadata": {
        "id": "UHGnYJx8xpcW"
      },
      "source": [
        "#### 1. Expand Contraction"
      ]
    },
    {
      "cell_type": "code",
      "execution_count": null,
      "metadata": {
        "id": "CarxxItPxpcW"
      },
      "outputs": [],
      "source": [
        "# Expand Contraction\n",
        "## We don't have textual data in any of the feature so it is not needed for our project"
      ]
    },
    {
      "cell_type": "markdown",
      "metadata": {
        "id": "Zc89jZBTxpcW"
      },
      "source": [
        "#### 2. Lower Casing"
      ]
    },
    {
      "cell_type": "code",
      "execution_count": null,
      "metadata": {
        "id": "Nn6qVHY8xpcW"
      },
      "outputs": [],
      "source": [
        "# Lower Casing\n",
        "## We don't have textual data in any of the feature so it is not needed for our project"
      ]
    },
    {
      "cell_type": "markdown",
      "metadata": {
        "id": "1PgB86c3xpcW"
      },
      "source": [
        "#### 3. Removing Punctuations"
      ]
    },
    {
      "cell_type": "code",
      "execution_count": null,
      "metadata": {
        "id": "COdivasnxpcW"
      },
      "outputs": [],
      "source": [
        "# Remove Punctuations\n",
        "## We don't have textual data in any of the feature so it is not needed for our project"
      ]
    },
    {
      "cell_type": "markdown",
      "metadata": {
        "id": "fJdRA8cDxpcW"
      },
      "source": [
        "#### 4. Removing URLs & Removing words and digits contain digits."
      ]
    },
    {
      "cell_type": "code",
      "execution_count": null,
      "metadata": {
        "id": "EpwYqXBnxpcW"
      },
      "outputs": [],
      "source": [
        "# Remove URLs & Remove words and digits contain digits\n",
        "## We don't have textual data in any of the feature so it is not needed for our project"
      ]
    },
    {
      "cell_type": "markdown",
      "metadata": {
        "id": "fuENhqJbxpcX"
      },
      "source": [
        "#### 5. Removing Stopwords & Removing White spaces"
      ]
    },
    {
      "cell_type": "code",
      "execution_count": null,
      "metadata": {
        "id": "AcULK-8RxpcX"
      },
      "outputs": [],
      "source": [
        "# Remove Stopwords\n",
        "## We don't have textual data in any of the feature so it is not needed for our project"
      ]
    },
    {
      "cell_type": "code",
      "execution_count": null,
      "metadata": {
        "id": "Kzi7pj_oxpcX"
      },
      "outputs": [],
      "source": [
        "# Remove White spaces\n",
        "## We don't have textual data in any of the feature so it is not needed for our project"
      ]
    },
    {
      "cell_type": "markdown",
      "metadata": {
        "id": "41IPyCR-xpcX"
      },
      "source": [
        "#### 6. Rephrase Text"
      ]
    },
    {
      "cell_type": "code",
      "execution_count": null,
      "metadata": {
        "id": "n0PAaZlLxpcX"
      },
      "outputs": [],
      "source": [
        "# Rephrase Text\n",
        "## We don't have textual data in any of the feature so it is not needed for our project"
      ]
    },
    {
      "cell_type": "markdown",
      "metadata": {
        "id": "PQp0lsC2xpcX"
      },
      "source": [
        "#### 7. Tokenization"
      ]
    },
    {
      "cell_type": "code",
      "execution_count": null,
      "metadata": {
        "id": "DvHxD98-xpcX"
      },
      "outputs": [],
      "source": [
        "# Tokenization\n",
        "## We don't have textual data in any of the feature so it is not needed for our project"
      ]
    },
    {
      "cell_type": "markdown",
      "metadata": {
        "id": "bKklJ7JBxpcY"
      },
      "source": [
        "#### 8. Text Normalization"
      ]
    },
    {
      "cell_type": "code",
      "execution_count": null,
      "metadata": {
        "id": "SxdLfvSmxpcY"
      },
      "outputs": [],
      "source": [
        "# Normalizing Text (i.e., Stemming, Lemmatization etc.)\n",
        "## We don't have textual data in any of the feature so it is not needed for our project"
      ]
    },
    {
      "cell_type": "markdown",
      "metadata": {
        "id": "-6gVpMIUxpcY"
      },
      "source": [
        "##### Which text normalization technique have you used and why?"
      ]
    },
    {
      "cell_type": "markdown",
      "metadata": {
        "id": "WMOd2hUnxpcY"
      },
      "source": [
        "Answer Here."
      ]
    },
    {
      "cell_type": "markdown",
      "metadata": {
        "id": "Ty9ujbDwxpcY"
      },
      "source": [
        "#### 9. Part of speech tagging"
      ]
    },
    {
      "cell_type": "code",
      "execution_count": null,
      "metadata": {
        "id": "GpqaJQS1xpcZ"
      },
      "outputs": [],
      "source": [
        "# POS Taging\n",
        "## We don't have textual data in any of the feature so it is not needed for our project"
      ]
    },
    {
      "cell_type": "markdown",
      "metadata": {
        "id": "Sytnq5_YxpcZ"
      },
      "source": [
        "#### 10. Text Vectorization"
      ]
    },
    {
      "cell_type": "code",
      "execution_count": null,
      "metadata": {
        "id": "qG_243UOxpcZ"
      },
      "outputs": [],
      "source": [
        "# Vectorizing Text\n",
        "## We don't have textual data in any of the feature so it is not needed for our project"
      ]
    },
    {
      "cell_type": "markdown",
      "metadata": {
        "id": "0CcxjucixpcZ"
      },
      "source": [
        "##### Which text vectorization technique have you used and why?"
      ]
    },
    {
      "cell_type": "markdown",
      "metadata": {
        "id": "Qp4odc6IxpcZ"
      },
      "source": [
        "Answer Here."
      ]
    },
    {
      "cell_type": "markdown",
      "metadata": {
        "id": "T7c0IejhxpcZ"
      },
      "source": [
        "### 4. Feature Manipulation & Selection"
      ]
    },
    {
      "cell_type": "markdown",
      "metadata": {
        "id": "e4PZaE_MxpcZ"
      },
      "source": [
        "#### 1. Feature Manipulation"
      ]
    },
    {
      "cell_type": "code",
      "execution_count": null,
      "metadata": {
        "id": "_hHYTcuHfLWN"
      },
      "outputs": [],
      "source": [
        "# Manipulate Features to minimize feature correlation and create new \n",
        "# Checking the first five observation of the dataset we have to deal with.\n",
        "df_new.head()"
      ]
    },
    {
      "cell_type": "code",
      "execution_count": null,
      "metadata": {
        "id": "fY_SpkFajH5P"
      },
      "outputs": [],
      "source": [
        "# Extracting date, month and year from Date feature\n",
        "df_new[\"Day\"]= df_new[\"Date\"].dt.day\n",
        "df_new[\"Month\"]= df_new[\"Date\"].dt.month\n",
        "df_new[\"Year\"]= df_new[\"Date\"].dt.year\n",
        "df_new[\"Week\"]= df_new[\"Date\"].dt.week"
      ]
    },
    {
      "cell_type": "code",
      "execution_count": null,
      "metadata": {
        "id": "mRae2ZVVXdK4"
      },
      "outputs": [],
      "source": [
        "#checking first 5 observations\n",
        "df_new.head()"
      ]
    },
    {
      "cell_type": "code",
      "execution_count": null,
      "metadata": {
        "id": "-b7Ol1H4kfag"
      },
      "outputs": [],
      "source": [
        "# deriving 2 new features:\n",
        "# 1. \"CompetitionDuration -> Duration from which two stores are competiting\"\n",
        "# 2. \"PromoDuration -> Duration from which the store is involved in promotion\"\n",
        "##    Final values are in Months.\n",
        "df_new[\"CompetitionDuration\"]= (df_new[\"Year\"]-df_new[\"CompetitionOpenSinceYear\"])*12 + (df_new[\"Month\"]-df_new[\"CompetitionOpenSinceMonth\"])\n",
        "df_new[\"CompetitionDuration\"] = df_new[\"CompetitionDuration\"].map(lambda x: int(0) if x < 0 else int(x)).fillna(0)\n",
        "\n",
        "# Creating PromoDuration feature\n",
        "df_new[\"PromoDuration\"]= (df_new[\"Year\"]-df_new[\"Promo2SinceYear\"])*12 + (df_new[\"Week\"]-df_new[\"Promo2SinceWeek\"])*7/30.5\n",
        "df_new[\"PromoDuration\"] = df_new[\"PromoDuration\"].map(lambda x: int(0) if x < 0 else int(x)).fillna(0) * df[\"Promo2\"]"
      ]
    },
    {
      "cell_type": "code",
      "execution_count": null,
      "metadata": {
        "id": "zSGs1XJNr6zS"
      },
      "outputs": [],
      "source": [
        "# checking first 5 observations after feature extraction\n",
        "df_new.head()"
      ]
    },
    {
      "cell_type": "markdown",
      "metadata": {
        "id": "qS1HwCAvxpcb"
      },
      "source": [
        "#### 2. Feature Selection"
      ]
    },
    {
      "cell_type": "code",
      "execution_count": null,
      "metadata": {
        "id": "q6x-S5n3wWZF"
      },
      "outputs": [],
      "source": [
        "# Let's see how sales and other features are related\n",
        "for col in df_new.describe().columns.tolist():\n",
        "    fig = plt.figure(figsize=(9, 6))\n",
        "    ax = fig.gca()\n",
        "    feature = df_new[col]\n",
        "    label = df_new['Sales']\n",
        "    correlation = feature.corr(label)\n",
        "    sns.scatterplot(x=feature, y=label, color=\"gray\")\n",
        "    plt.xlabel(col)\n",
        "    plt.ylabel('Sales')\n",
        "    ax.set_title('Sales vs ' + col + '- correlation: ' + str(correlation))\n",
        "    z = np.polyfit(df_new[col], df_new['Sales'], 1)\n",
        "    y_hat = np.poly1d(z)(df_new[col])\n",
        "    plt.plot(df_new[col], y_hat, \"r--\", lw=1)\n",
        "    plt.show()"
      ]
    },
    {
      "cell_type": "code",
      "execution_count": null,
      "metadata": {
        "id": "10Ilgz83xpcc"
      },
      "outputs": [],
      "source": [
        "# Select your features wisely to avoid overfitting\n",
        "plt.figure(figsize=(20,15))\n",
        "sns.heatmap(abs(round(df_new.corr(),3)), annot=True, cmap=plt.cm.CMRmap)"
      ]
    },
    {
      "cell_type": "markdown",
      "metadata": {
        "id": "eXqnzEbzxpcc"
      },
      "source": [
        "Let's include only those features in our final dataframe that are highly impacting on the dependent variable i.e Sales. For this we are using Variance Inflation Factor technique to determine multicolinearity."
      ]
    },
    {
      "cell_type": "code",
      "execution_count": null,
      "metadata": {
        "id": "fYcpNvtm0AVT"
      },
      "outputs": [],
      "source": [
        "# Defining a function for variance_inflation_factor\n",
        "from statsmodels.stats.outliers_influence import variance_inflation_factor\n",
        "def calc_vif(X):\n",
        "\n",
        "    # Calculating VIF\n",
        "    vif = pd.DataFrame()\n",
        "    vif[\"variables\"] = X.columns\n",
        "    vif[\"VIF\"] = [variance_inflation_factor(X.values, i) for i in range(X.shape[1])]\n",
        "\n",
        "    return(vif)"
      ]
    },
    {
      "cell_type": "markdown",
      "metadata": {
        "id": "ZswrQ_jwV3nq"
      },
      "source": [
        "Calculating VIF(Variance Inflation Factor) by excluding:\n",
        "1. \"Sales\" -> As it is target variable\n",
        "2. \"Store\" -> As it is StoreID and not giving any information"
      ]
    },
    {
      "cell_type": "markdown",
      "metadata": {
        "id": "ITCxtY-Rxpcd"
      },
      "source": [
        "We have extracted new features \"CompetitionDuration\" and \"PromoDuration\" from features \"Promo2SinceWeek\", \"Promo2SinceYear\", \"CompetitionOpenSinceMonth\", \"CompetitionOpenSinceYear\", \"Month\", \"Year\", \"Week\". So we can exclude them while calculating VIF."
      ]
    },
    {
      "cell_type": "code",
      "execution_count": null,
      "metadata": {
        "id": "anl7uVWE0Fj_"
      },
      "outputs": [],
      "source": [
        "# calculating the vif by excluding some features which are not giving any information\n",
        "calc_vif(df_new[[i for i in df_new.describe().columns if i not in [\"Store\", \"Sales\", \"Promo2SinceWeek\", \"Promo2SinceYear\", \"CompetitionOpenSinceMonth\", \"CompetitionOpenSinceYear\",\"Month\", \"Year\", \"Week\"]]])"
      ]
    },
    {
      "cell_type": "markdown",
      "metadata": {
        "id": "eSnTrYaqxpcd"
      },
      "source": [
        "Since, \"Promo2\",\"PromoInterval_Jan,Apr,Jul,Oct\", \"PromoInterval_Feb,May,Aug,Nov\", \"PromoInterval_Mar,Jun,Sept,Dec\" are having high VIF values and \"PromoInterval_Jan,Apr,Jul,Oct\" is having least corelation with \"Sales\". So, let's exclude \"PromoInterval_Jan,Apr,Jul,Oct\""
      ]
    },
    {
      "cell_type": "code",
      "execution_count": null,
      "metadata": {
        "id": "Z4Pbl5xlIx6n"
      },
      "outputs": [],
      "source": [
        "# calculating the vif by excluding some features\n",
        "calc_vif(df_new[[i for i in df_new.describe().columns if i not in [\"Store\", \"Sales\", \"Promo2SinceWeek\", \"Promo2SinceYear\", \"CompetitionOpenSinceMonth\", \"CompetitionOpenSinceYear\", \"Month\", \"Year\",\"Week\", \"PromoInterval_Jan,Apr,Jul,Oct\"]]])"
      ]
    },
    {
      "cell_type": "markdown",
      "metadata": {
        "id": "G5Mydqq5xpce"
      },
      "source": [
        "Since \"Assortment_b\" and \"Store_type_b\" are also showing high corelation i.e 0.72 so we are gaining same information from both the features. Its better to exclude the feature \"Assortment_b\" which is having less corelation with Sales(0.047). "
      ]
    },
    {
      "cell_type": "code",
      "execution_count": null,
      "metadata": {
        "id": "K_islv2nxpce"
      },
      "outputs": [],
      "source": [
        "# calculating the vif by excluding some features\n",
        "calc_vif(df_new[[i for i in df_new.describe().columns if i not in [\"Store\", \"Sales\", \"Promo2SinceWeek\", \"Promo2SinceYear\", \"CompetitionOpenSinceMonth\", \"CompetitionOpenSinceYear\", \"Month\", \"Year\",\"Week\", \"PromoInterval_Jan,Apr,Jul,Oct\",\"Assortment_b\"]]])"
      ]
    },
    {
      "cell_type": "markdown",
      "metadata": {
        "id": "aI174-QBxpce"
      },
      "source": [
        "Since \"Promo2\" and \"PromoDuration\" are highly correlated having correlation 0.69 and \"PromoDuration\" is least correlated with \"Sales\". So, let's exclude \"PromoDuration\" from VIF."
      ]
    },
    {
      "cell_type": "code",
      "execution_count": null,
      "metadata": {
        "id": "SgduD8p_xpce"
      },
      "outputs": [],
      "source": [
        "# calculating the vif by excluding some features\n",
        "calc_vif(df_new[[i for i in df_new.describe().columns if i not in [\"Store\", \"Sales\", \"Promo2SinceWeek\", \"Promo2SinceYear\", \"CompetitionOpenSinceMonth\", \"CompetitionOpenSinceYear\", \"Month\",\"Week\", \"Year\", \"PromoInterval_Jan,Apr,Jul,Oct\",\"Assortment_b\",\"PromoDuration\"]]])"
      ]
    },
    {
      "cell_type": "markdown",
      "metadata": {
        "id": "b0d_xFCXQHpx"
      },
      "source": [
        "Great !!! We are getting very good VIF's (Less then 10). Now let's move forward and store the selected features in a new dataframe."
      ]
    },
    {
      "cell_type": "code",
      "execution_count": null,
      "metadata": {
        "id": "tqL-xBm2RDct"
      },
      "outputs": [],
      "source": [
        "# New Dataframe which will be our final dataframe\n",
        "final_df = df_new[[\"DayOfWeek\", \"Customers\",\"Promo\",\"StateHoliday\",\"SchoolHoliday\",\"CompetitionDistance\",\"Promo2\",\"StoreType_b\",\"StoreType_c\",\"StoreType_d\",\"Assortment_c\",\"PromoInterval_Feb,May,Aug,Nov\",\"PromoInterval_Mar,Jun,Sept,Dec\",\"Day\",\"CompetitionDuration\",\"Sales\"]]"
      ]
    },
    {
      "cell_type": "code",
      "execution_count": null,
      "metadata": {
        "id": "TJ2AAAEYUWyx"
      },
      "outputs": [],
      "source": [
        "# Checking info of our final dataframe\n",
        "final_df.info()"
      ]
    },
    {
      "cell_type": "markdown",
      "metadata": {
        "id": "qhIgU3n7xpcf"
      },
      "source": [
        "##### What all feature selection methods have you used  and why?"
      ]
    },
    {
      "cell_type": "markdown",
      "metadata": {
        "id": "awR0wIEzxpcf"
      },
      "source": [
        "We have plotted the seaborn's scatterplot and seaborn's heatmap to see the relationship of each of the feature with target variable and observed the following correlations:\n",
        "1. **Positive Corelation**- Customers, Open, Promo, SchoolHoliday, CompetitionOpenSinceYear, Assortment_b, Assortment_c, Month, Year, Week, PromoDuration.\n",
        "2. **Negative Corelation**- DayOfWeek, StateHoliday, ComptitionDistance, CompetitionOpenSinceMonth, Promo2, Promo2SinceWeek,Promo2SinceYear, 'PromoInterval_Feb,May,Aug,Nov, 'PromoInterval_Jan,Apr,Jul,Oct, PromoInterval_Mar,Jun,Sept,Dec, Day, CompetitionDuration.\n",
        "3. **No Corelation**- Store, StoreType_c, StoreType_d\n",
        "\n",
        "We have used **Filter method** with correlation heatmap and VIF(various inflation factor) and excluded some of the features that were creating noise while model implimentation.Also, we have removed multicolinearity and selected features that are highly dependant on our target variable."
      ]
    },
    {
      "cell_type": "markdown",
      "metadata": {
        "id": "-NlLuSmSxpcf"
      },
      "source": [
        "##### Which all features you found important and why?"
      ]
    },
    {
      "cell_type": "markdown",
      "metadata": {
        "id": "jfNI9Cq2xpcf"
      },
      "source": [
        "We have selected \"DayOfWeek\",\"Customers\",\"Promo\",\"StateHoliday\",\"SchoolHoliday\",\"CompetitionDistance\",\"Promo2\",\"StoreType_b\",\"StoreType_c\",\"StoreType_d\",\"Assortment_c\",\"PromoInterval_Feb,May,Aug,Nov\",\"PromoInterval_Mar,Jun,Sept,Dec\",\"Day\",\"CompetitionDuration\" as our final features as they are highly corelated with the target variable (Sales) and no two features are providing the same information."
      ]
    },
    {
      "cell_type": "markdown",
      "metadata": {
        "id": "-LbTCGwGxpcf"
      },
      "source": [
        "### 5. Data Transformation"
      ]
    },
    {
      "cell_type": "markdown",
      "metadata": {
        "id": "CtAoKdV6xpcf"
      },
      "source": [
        "#### Do you think that your data needs to be transformed? If yes, which transformation have you used. Explain Why?"
      ]
    },
    {
      "cell_type": "code",
      "execution_count": null,
      "metadata": {
        "id": "LvD5r4-rxpcg"
      },
      "outputs": [],
      "source": [
        "# checking which of the variables are continous in nature\n",
        "for i in final_df.columns:\n",
        "  print(f\"The number of unique counts in feature {i} is: {final_df[i].nunique()}\")"
      ]
    },
    {
      "cell_type": "code",
      "execution_count": null,
      "metadata": {
        "id": "uz8JKoGhU444"
      },
      "outputs": [],
      "source": [
        "# Storing the continous variables(number of unique counts >40) in a separate list and treating them in order to make gaussian distribution\n",
        "cont_variables= [\"Sales\", \"Customers\", \"CompetitionDistance\", \"CompetitionDuration\"]"
      ]
    },
    {
      "cell_type": "code",
      "execution_count": null,
      "metadata": {
        "id": "d5XgK4L6VLc0"
      },
      "outputs": [],
      "source": [
        "# Checking the distribution of each continous variable from our final dataframe\n",
        "plt.figure(figsize=(20,5))\n",
        "print(\"Before Applying Transformation\")\n",
        "for n,col in enumerate(cont_variables):\n",
        "  plt.subplot(1,5,n+1)\n",
        "  sns.distplot(final_df[col])\n",
        "  plt.title(f'Distribution of {col}')\n",
        "  plt.tight_layout()"
      ]
    },
    {
      "cell_type": "markdown",
      "metadata": {
        "id": "e-3TC6mtxpch"
      },
      "source": [
        "It is clear from above distribution plots that they are not perfectly normally distributed. So we will apply some transformation techniques to get the normally disrtibuted data as it is one of the prior underlying assumption for the linear models such as Linear Regression. "
      ]
    },
    {
      "cell_type": "code",
      "execution_count": null,
      "metadata": {
        "id": "6nBbP1VOftrW"
      },
      "outputs": [],
      "source": [
        "import matplotlib.pyplot as plt\n",
        "import scipy.stats as stat\n",
        "import pylab \n",
        "#### If you want to check whether feature is guassian or normal distributed\n",
        "#### Q-Q plot\n",
        "def plot_data(df,feature):\n",
        "    stat.probplot(df[feature],dist='norm',plot=pylab)"
      ]
    },
    {
      "cell_type": "code",
      "execution_count": null,
      "metadata": {
        "id": "vL1WSz_EftmM"
      },
      "outputs": [],
      "source": [
        "plt.figure(figsize=(20,5))\n",
        "for num,column in enumerate(cont_variables):\n",
        "  plt.subplot(1,5,num+1)\n",
        "  print(f\"Q-Q Plot for variable: {column}\")\n",
        "  plot_data(final_df,column)\n",
        "plt.show()"
      ]
    },
    {
      "cell_type": "markdown",
      "metadata": {
        "id": "KVpR_fnhxpci"
      },
      "source": [
        "As it is clear from above plots that our continous numeric features are not following perfectly normal distribution trend. So, now we will try various transformations techniques to get gaussian distributed curve."
      ]
    },
    {
      "cell_type": "markdown",
      "metadata": {
        "id": "xwlOvODgxpci"
      },
      "source": [
        "Let's create different copies and check which transformation is best for each feature"
      ]
    },
    {
      "cell_type": "code",
      "execution_count": null,
      "metadata": {
        "id": "azB0t31Sp8Hv"
      },
      "outputs": [],
      "source": [
        "# Creating 5 different copies to check the distribution of each of the variable\n",
        "test_df1=final_df.copy()\n",
        "test_df2=final_df.copy()\n",
        "test_df3=final_df.copy()\n",
        "test_df4=final_df.copy()\n",
        "test_df5=final_df.copy()"
      ]
    },
    {
      "cell_type": "markdown",
      "metadata": {
        "id": "SDt_IYuFKpBh"
      },
      "source": [
        "Logarithmic Transformation"
      ]
    },
    {
      "cell_type": "code",
      "execution_count": null,
      "metadata": {
        "id": "f76Tsqfefthv"
      },
      "outputs": [],
      "source": [
        "# Applying transformation on the above considered columns\n",
        "test_df1['Sales']=np.log(test_df1['Sales']+1)\n",
        "test_df1['Customers']=np.log(test_df1['Customers']+1)\n",
        "test_df1['CompetitionDistance']=np.log(test_df1['CompetitionDistance']+1)\n",
        "test_df1['CompetitionDuration']=np.log(test_df1['CompetitionDuration']+1)\n",
        "\n",
        "# Checking the distribution of each continous variable by excluding 0 from our final dataframe\n",
        "plt.figure(figsize=(20,5))\n",
        "print(\"After Applying Transformation\")\n",
        "for n,col in enumerate(cont_variables):\n",
        "  plt.subplot(1,5,n+1)\n",
        "  sns.distplot(test_df1[col])\n",
        "  plt.title(f'Distribution of {col}')\n",
        "  plt.tight_layout()"
      ]
    },
    {
      "cell_type": "code",
      "execution_count": null,
      "metadata": {
        "id": "ZE7arQM5QeMJ"
      },
      "outputs": [],
      "source": [
        "plt.figure(figsize=(20,5))\n",
        "for num,column in enumerate(cont_variables):\n",
        "  plt.subplot(1,5,num+1)\n",
        "  print(f\"Q-Q Plot for variable: {column}\")\n",
        "  plot_data(test_df1,column)\n",
        "plt.show()"
      ]
    },
    {
      "cell_type": "markdown",
      "metadata": {
        "id": "dBw5FwQpKuaW"
      },
      "source": [
        "Reciprocal Trnasformation"
      ]
    },
    {
      "cell_type": "code",
      "execution_count": null,
      "metadata": {
        "id": "FYV2G-uvftcQ"
      },
      "outputs": [],
      "source": [
        "# Applying transformation on the above considered columns\n",
        "test_df2['Sales']=1/(test_df2['Sales']+1)\n",
        "test_df2['Customers']=1/(test_df2['Customers']+1)\n",
        "test_df2['CompetitionDistance']=1/(test_df2['CompetitionDistance']+1)\n",
        "test_df2['CompetitionDuration']=1/(test_df2['CompetitionDuration']+1)\n",
        "\n",
        "\n",
        "# Checking the distribution of each continous variable by excluding 0 from our final dataframe\n",
        "plt.figure(figsize=(20,5))\n",
        "print(\"After Applying Transformation\")\n",
        "for n,col in enumerate(cont_variables):\n",
        "  plt.subplot(1,5,n+1)\n",
        "  sns.distplot(test_df2[col])\n",
        "  plt.title(f'Distribution of {col}')\n",
        "  plt.tight_layout()"
      ]
    },
    {
      "cell_type": "code",
      "execution_count": null,
      "metadata": {
        "id": "hi_O6XslRVaX"
      },
      "outputs": [],
      "source": [
        "plt.figure(figsize=(20,5))\n",
        "for num,column in enumerate(cont_variables):\n",
        "  plt.subplot(1,5,num+1)\n",
        "  print(f\"Q-Q Plot for variable: {column}\")\n",
        "  plot_data(test_df2,column)\n",
        "plt.show()"
      ]
    },
    {
      "cell_type": "markdown",
      "metadata": {
        "id": "cONtCYJfL3pK"
      },
      "source": [
        "Square Root Transformation"
      ]
    },
    {
      "cell_type": "code",
      "execution_count": null,
      "metadata": {
        "id": "UGG5lxOBL7Ds"
      },
      "outputs": [],
      "source": [
        "# Applying transformation on the above considered columns\n",
        "test_df3['Sales']=(test_df3['Sales'])**(1/2)\n",
        "test_df3['Customers']=(test_df3['Customers'])**(1/2)\n",
        "test_df3['CompetitionDistance']=(test_df3['CompetitionDistance'])**(1/2)\n",
        "test_df3['CompetitionDuration']=(test_df3['CompetitionDuration'])**(1/2)\n",
        "\n",
        "# Checking the distribution of each continous variable by excluding 0 from our final dataframe\n",
        "plt.figure(figsize=(20,5))\n",
        "print(\"After Applying Transformation\")\n",
        "for n,col in enumerate(cont_variables):\n",
        "  plt.subplot(1,5,n+1)\n",
        "  sns.distplot(test_df3[col])\n",
        "  plt.title(f'Distribution of {col}')\n",
        "  plt.tight_layout()"
      ]
    },
    {
      "cell_type": "code",
      "execution_count": null,
      "metadata": {
        "id": "SuPANogeRd9B"
      },
      "outputs": [],
      "source": [
        "plt.figure(figsize=(20,5))\n",
        "for num,column in enumerate(cont_variables):\n",
        "  plt.subplot(1,5,num+1)\n",
        "  print(f\"Q-Q Plot for variable: {column}\")\n",
        "  plot_data(test_df3,column)\n",
        "plt.show()"
      ]
    },
    {
      "cell_type": "markdown",
      "metadata": {
        "id": "idbn3TZINmxC"
      },
      "source": [
        "Exponential Transformation"
      ]
    },
    {
      "cell_type": "code",
      "execution_count": null,
      "metadata": {
        "id": "mwMJvVA0L6_u"
      },
      "outputs": [],
      "source": [
        "# Applying transformation on the above considered columns\n",
        "test_df4['Sales']=(test_df4['Sales'])**(1/1.2)\n",
        "test_df4['Customers']=(test_df4['Customers'])**(1/1.2)\n",
        "test_df4['CompetitionDistance']=(test_df4['CompetitionDistance'])**(1/1.2)\n",
        "test_df4['CompetitionDuration']=(test_df4['CompetitionDuration'])**(1/1.2)\n",
        "\n",
        "# Checking the distribution of each continous variable by excluding 0 from our final dataframe\n",
        "plt.figure(figsize=(20,5))\n",
        "print(\"After Applying Transformation\")\n",
        "for n,col in enumerate(cont_variables):\n",
        "  plt.subplot(1,5,n+1)\n",
        "  sns.distplot(test_df4[col])\n",
        "  plt.title(f'Distribution of {col}')\n",
        "  plt.tight_layout()"
      ]
    },
    {
      "cell_type": "code",
      "execution_count": null,
      "metadata": {
        "id": "WuRKLIOLD5qi"
      },
      "outputs": [],
      "source": [
        "plt.figure(figsize=(20,5))\n",
        "for num,column in enumerate(cont_variables):\n",
        "  plt.subplot(1,5,num+1)\n",
        "  print(f\"Q-Q Plot for variable: {column}\")\n",
        "  plot_data(test_df4,column)\n",
        "plt.show()"
      ]
    },
    {
      "cell_type": "markdown",
      "metadata": {
        "id": "mC4lzsQqtfvX"
      },
      "source": [
        "From the above plots it is clear that:\n",
        "1. Feature \"Sales\" needs square root transformation\n",
        "2. Feature \"Customers\" needs square root transformation\n",
        "3. Feature \"CompetitionDistance\" needs square root transformation\n",
        "4. Feature \"CompetitionDuration\" no transformation needed"
      ]
    },
    {
      "cell_type": "code",
      "execution_count": null,
      "metadata": {
        "id": "bg67RvJIEN0m"
      },
      "outputs": [],
      "source": [
        "# Applying transformation on the above considered columns\n",
        "## Square root transformation\n",
        "final_df['Sales']=(final_df['Sales'])**(1/2)\n",
        "final_df['Customers']=(final_df['Customers'])**(1/2)\n",
        "final_df['CompetitionDistance']=(final_df['CompetitionDistance'])**(1/2)"
      ]
    },
    {
      "cell_type": "markdown",
      "metadata": {
        "id": "ZlQHmIxNxpcr"
      },
      "source": [
        "Now we have normally distributed data for all of the continous variables."
      ]
    },
    {
      "cell_type": "markdown",
      "metadata": {
        "id": "sMOKb6v9xpcr"
      },
      "source": [
        "### 6. Data Scaling"
      ]
    },
    {
      "cell_type": "markdown",
      "metadata": {
        "id": "rySt5CI4ETYj"
      },
      "source": [
        "Before scaling our data let's just seperate our \"x\" and \"y\" variables as we do not have to scale our y variable (Target variable)."
      ]
    },
    {
      "cell_type": "code",
      "execution_count": null,
      "metadata": {
        "id": "TRbjX-I5EqAe"
      },
      "outputs": [],
      "source": [
        "# Separating \"x\" and \"y\" variables\n",
        "x= final_df[[\"DayOfWeek\", \"Customers\",\"Promo\",\"StateHoliday\",\"SchoolHoliday\",\"CompetitionDistance\",\"Promo2\",\"StoreType_b\",\"StoreType_c\",\"StoreType_d\",\"Assortment_c\",\"PromoInterval_Feb,May,Aug,Nov\",\"PromoInterval_Mar,Jun,Sept,Dec\",\"Day\",\"CompetitionDuration\"]]\n",
        "y= final_df[['Sales']]\n",
        "print(x.shape)\n",
        "print(y.shape)"
      ]
    },
    {
      "cell_type": "code",
      "execution_count": null,
      "metadata": {
        "id": "Fy5R2Qfzxpcs"
      },
      "outputs": [],
      "source": [
        "# Scaling your data\n",
        "# Importing StandardScaler library\n",
        "from sklearn.preprocessing import StandardScaler"
      ]
    },
    {
      "cell_type": "code",
      "execution_count": null,
      "metadata": {
        "id": "DwR6U6a8CtrI"
      },
      "outputs": [],
      "source": [
        "# Creating object\n",
        "std_regressor= StandardScaler()"
      ]
    },
    {
      "cell_type": "code",
      "execution_count": null,
      "metadata": {
        "id": "g9moZvVLC26g"
      },
      "outputs": [],
      "source": [
        "# Fit and Transform\n",
        "x= std_regressor.fit_transform(x)"
      ]
    },
    {
      "cell_type": "markdown",
      "metadata": {
        "id": "R2Xa0Y_Bxpct"
      },
      "source": [
        "##### Which method have you used to scale you data and why?"
      ]
    },
    {
      "cell_type": "markdown",
      "metadata": {
        "id": "wo23bXec2Brn"
      },
      "source": [
        "We have used StandardScaler of sklearn library to scale our data.  This is important for us, as features on different scales can lead to poor performance or slow convergence. Standardizing the features also makes it easier to compare different features or observe the effect of a feature on the target variable(\"Sales\") by comparing the magnitude of its coefficient. Additionally, we are going to apply linear regression model for which having normally distributed data is the statistical assumption of the model, which standardization can help enforce."
      ]
    },
    {
      "cell_type": "markdown",
      "metadata": {
        "id": "KwX-f9HDxpcu"
      },
      "source": [
        "### 7. Dimesionality Reduction"
      ]
    },
    {
      "cell_type": "markdown",
      "metadata": {
        "id": "xvORg_TVxpcu"
      },
      "source": [
        "##### Do you think that dimensionality reduction is needed? Explain Why?"
      ]
    },
    {
      "cell_type": "code",
      "execution_count": null,
      "metadata": {
        "id": "yYU1RQFjxpcu"
      },
      "outputs": [],
      "source": [
        "# DImensionality Reduction (If needed)\n",
        "## Not needed for now"
      ]
    },
    {
      "cell_type": "markdown",
      "metadata": {
        "id": "OeGaBjEuxpcu"
      },
      "source": [
        "##### Which dimensionality reduction technique have you used and why? (If dimensionality reduction done on dataset.)"
      ]
    },
    {
      "cell_type": "code",
      "execution_count": null,
      "metadata": {
        "id": "oTkOZSinxpcv"
      },
      "outputs": [],
      "source": [
        "# DImensionality Reduction (If needed)\n",
        "## Not needed for now"
      ]
    },
    {
      "cell_type": "markdown",
      "metadata": {
        "id": "lGH_ZlmVxpcv"
      },
      "source": [
        "### 8. Data Splitting"
      ]
    },
    {
      "cell_type": "code",
      "execution_count": null,
      "metadata": {
        "id": "XnNnsEIaxpcv"
      },
      "outputs": [],
      "source": [
        "# Split your data to train and test. Choose Splitting ratio wisely.\n",
        "# Importing train_test_split from sklearn\n",
        "from sklearn.model_selection import train_test_split"
      ]
    },
    {
      "cell_type": "code",
      "execution_count": null,
      "metadata": {
        "id": "bjRMKb7RLWuI"
      },
      "outputs": [],
      "source": [
        "# Spliting the dataset\n",
        "x_train, x_test, y_train, y_test = train_test_split(x, y, test_size=0.2, random_state=0)"
      ]
    },
    {
      "cell_type": "code",
      "execution_count": null,
      "metadata": {
        "id": "nMo-HZohLnLJ"
      },
      "outputs": [],
      "source": [
        "# Checking the shape after spliting\n",
        "x_train.shape, x_test.shape, y_train.shape, y_test.shape"
      ]
    },
    {
      "cell_type": "markdown",
      "metadata": {
        "id": "s15s6LN4xpcw"
      },
      "source": [
        "##### What data splitting ratio have you used and why? "
      ]
    },
    {
      "cell_type": "markdown",
      "metadata": {
        "id": "0zYfhWkNxpcx"
      },
      "source": [
        "Since our dataset is huge and have nearly 10lakh obsevations. So, We have assigned 80% data into train set and 20% into the test set with random_state=0 so that we do not get different observations in every split."
      ]
    },
    {
      "cell_type": "markdown",
      "metadata": {
        "id": "x0j-UozExpcx"
      },
      "source": [
        "### 9. Handling Imbalanced Dataset"
      ]
    },
    {
      "cell_type": "markdown",
      "metadata": {
        "id": "StBPCRUBxpcx"
      },
      "source": [
        "##### Do you think the dataset is imbalanced? Explain Why."
      ]
    },
    {
      "cell_type": "code",
      "execution_count": null,
      "metadata": {
        "id": "8-5tUZqIxpcx"
      },
      "outputs": [],
      "source": [
        "# Handling Imbalanced Dataset (If needed)\n",
        "# We have alreay excluded the closed stores for which the sales are 0. So, we do not have any imabalanced data with us."
      ]
    },
    {
      "cell_type": "markdown",
      "metadata": {
        "id": "SOru1W9bxpcy"
      },
      "source": [
        "##### What technique did you use to handle the imbalance dataset and why? (If needed to be balanced)"
      ]
    },
    {
      "cell_type": "markdown",
      "metadata": {
        "id": "mP_-UAChxpcy"
      },
      "source": [
        "Not needed"
      ]
    },
    {
      "cell_type": "markdown",
      "metadata": {
        "id": "VfCC591jGiD4"
      },
      "source": [
        "## ***7. ML Model Implementation***"
      ]
    },
    {
      "cell_type": "code",
      "execution_count": null,
      "metadata": {
        "id": "wPskYeS3WQn1"
      },
      "outputs": [],
      "source": [
        "# Importing essential libraries to check the accuracy\n",
        "from sklearn.metrics import mean_absolute_error\n",
        "from sklearn.metrics import mean_squared_error\n",
        "from sklearn.metrics import r2_score\n",
        "from sklearn.metrics import mean_absolute_percentage_error"
      ]
    },
    {
      "cell_type": "code",
      "execution_count": null,
      "metadata": {
        "id": "hOyghmkfWQn1"
      },
      "outputs": [],
      "source": [
        "# Defining the function that calculated regression metrics\n",
        "def regression_metrics(y_train_actual,y_train_pred,y_test_actual,y_test_pred):\n",
        "  print(\"-\"*50)\n",
        "  ## mean_absolute_error\n",
        "  MAE_train= mean_absolute_error(y_train,y_train_pred)\n",
        "  print(\"MAE on train is:\" ,MAE_train)\n",
        "  MAE_test= mean_absolute_error(y_test,y_test_pred)\n",
        "  print(\"MAE on test is:\" ,MAE_test)\n",
        "\n",
        "  print(\"-\"*50)\n",
        "\n",
        "  ## mean_squared_error\n",
        "  MSE_train= mean_squared_error(y_train, y_train_pred)\n",
        "  print(\"MSE on train is:\" ,MSE_train)\n",
        "  MSE_test  = mean_squared_error(y_test, y_test_pred)\n",
        "  print(\"MSE on test is:\" ,MSE_test)\n",
        "\n",
        "  print(\"-\"*50)\n",
        "\n",
        "  ## root_mean_squared_error\n",
        "  RMSE_train = np.sqrt(MSE_train)\n",
        "  print(\"RMSE on train is:\" ,RMSE_train)\n",
        "  RMSE_test = np.sqrt(MSE_test)\n",
        "  print(\"RMSE on test is:\" ,RMSE_test)\n",
        "\n",
        "  print(\"-\"*50)\n",
        "\n",
        "  ## mean_absolute_percentage_error\n",
        "  MAPE_train = mean_absolute_percentage_error(y_train, y_train_pred)*100\n",
        "  print(\"MAPE on train is:\" ,MAPE_train, \" %\")\n",
        "  MAPE_test = mean_absolute_percentage_error(y_test, y_test_pred)*100\n",
        "  print(\"MAPE on test is:\" ,MAPE_test, \" %\")\n",
        "\n",
        "  print(\"-\"*50)\n",
        "\n",
        "  ## r2_score\n",
        "  R2_train= r2_score(y_train,y_train_pred)\n",
        "  print(\"R2 on train is:\" ,R2_train)  \n",
        "  R2_test= r2_score(y_test,y_test_pred)\n",
        "  print(\"R2 on test is:\" ,R2_test)\n",
        "\n",
        "  print(\"-\"*50)\n",
        "\n",
        "  Accuracy_train= 100- MAPE_train\n",
        "  print(\"Accuracy of train is:\" ,Accuracy_train, \" %\")\n",
        "  Accuracy_test= 100- MAPE_test\n",
        "  print(\"Accuracy of test is:\" ,Accuracy_test, \" %\")\n",
        "\n",
        "  print(\"-\"*50)"
      ]
    },
    {
      "cell_type": "markdown",
      "metadata": {
        "id": "OB4l2ZhMeS1U"
      },
      "source": [
        "### ML Model - 1 - **Linear Regression**"
      ]
    },
    {
      "cell_type": "code",
      "execution_count": null,
      "metadata": {
        "id": "NhvGqJe2WQn2"
      },
      "outputs": [],
      "source": [
        "# Importing LinearRegression from sklearn\n",
        "from sklearn.linear_model import LinearRegression"
      ]
    },
    {
      "cell_type": "code",
      "execution_count": null,
      "metadata": {
        "id": "7ebyywQieS1U"
      },
      "outputs": [],
      "source": [
        "# ML Model - 1 Implementation\n",
        "linear_regressor= LinearRegression()\n",
        "\n",
        "# Fit the Algorithm\n",
        "linear_regressor.fit(x_train,y_train)\n",
        "\n",
        "# Predict the model\n",
        "y_train_regression_pred= linear_regressor.predict(x_train)\n",
        "y_test_regression_pred= linear_regressor.predict(x_test)"
      ]
    },
    {
      "cell_type": "code",
      "execution_count": null,
      "metadata": {
        "id": "unqlZ5hJWQn2"
      },
      "outputs": [],
      "source": [
        "# Checking the coefficients\n",
        "linear_regressor.coef_"
      ]
    },
    {
      "cell_type": "code",
      "execution_count": null,
      "metadata": {
        "id": "37rBLXrxWQn2"
      },
      "outputs": [],
      "source": [
        "# Checking the intercept\n",
        "linear_regressor.intercept_"
      ]
    },
    {
      "cell_type": "markdown",
      "metadata": {
        "id": "ArJBuiUVfxKd"
      },
      "source": [
        "#### 1. Explain the ML Model used and it's performance using Evaluation metric Score Chart."
      ]
    },
    {
      "cell_type": "code",
      "execution_count": null,
      "metadata": {
        "id": "REIA1ZCrWQn3"
      },
      "outputs": [],
      "source": [
        "# Calculating the regression metrics\n",
        "regression_metrics(y_train,y_train_regression_pred,y_test,y_test_regression_pred)"
      ]
    },
    {
      "cell_type": "code",
      "execution_count": null,
      "metadata": {
        "id": "rqD5ZohzfxKe"
      },
      "outputs": [],
      "source": [
        "# Visualizing evaluation Metric Score chart\n",
        "# Calculating residuals\n",
        "residuals = y_test - y_test_regression_pred\n",
        "Mean= round(np.mean(residuals),2)\n",
        "Median= round(np.median(residuals),2)\n",
        "\n",
        "# Plot residuals\n",
        "plt.figure(figsize=(15,8))\n",
        "plt.scatter(y_test, residuals, c=\"dodgerblue\")\n",
        "plt.title(\"Residual Plot for Metric Evaluation\")\n",
        "plt.xlabel('Predicted Sales')\n",
        "plt.ylabel('Residual Error')\n",
        "\n",
        "# Add horizontal line at mean value of y\n",
        "plt.axhline(y=np.nanmean(residuals), color='red', linestyle='--', label=Mean[0])\n",
        "plt.axhline(y=np.nanmedian(residuals), color='green', linestyle='--', label=Median)\n",
        "plt.legend()\n",
        "\n",
        "plt.show()"
      ]
    },
    {
      "cell_type": "markdown",
      "metadata": {
        "id": "zlwVnSOAZmRJ"
      },
      "source": [
        "We have started with the most basic and simple ML model i.e Linear Regression. We have tried to evaluate the most important regression metrics on both the train and test datesets so that we can conclude our ML model. Here for Linear Regression, we can observe that both the r2 scores for train and test datasets are pretty close which explains that on test dataset our model is following the correct way. \n",
        "\n",
        "\n",
        "We can comprehend that 'dependent' and 'independent' variables are not much following direct linear relationship with each other thats why we got 0.75 maximum r2 score in LR model implementation.\n",
        "\n",
        "Also we are getting the Mean=0.03 and Median=-0.27 in our residual plot that resembles our predictions are closely following Normal Distribution (Mean=Median=0) because of this our accuracy (100-MAPE) is pretty good in simple linear model.\n",
        "\n",
        "In order to fetch good and more accurate results, we shall go for cross- Validation & Hyperparameter Tuning of 'Lasso', 'Ridge' and 'Elastic Net' models."
      ]
    },
    {
      "cell_type": "markdown",
      "metadata": {
        "id": "4qY1EAkEfxKe"
      },
      "source": [
        "#### 2. Cross- Validation & Hyperparameter Tuning"
      ]
    },
    {
      "cell_type": "markdown",
      "metadata": {
        "id": "uX_nx7oRWQn4"
      },
      "source": [
        "Rigde Regression"
      ]
    },
    {
      "cell_type": "code",
      "execution_count": null,
      "metadata": {
        "id": "TUtozDj-WQn4"
      },
      "outputs": [],
      "source": [
        "# import ridge regression from sklearn library\n",
        "from sklearn.linear_model import Ridge\n",
        "from sklearn.model_selection import GridSearchCV\n",
        "\n",
        "# Creating Ridge instance\n",
        "ridge= Ridge()\n",
        "\n",
        "# Defining parameters\n",
        "parameters = {\"alpha\": [1e-1,1,5,7,10,11,14,15,16,17], \"max_iter\":[1,2,3]}\n",
        "\n",
        "# Train the model\n",
        "ridgeR = GridSearchCV(ridge, parameters, scoring='neg_mean_squared_error', cv=3)\n",
        "ridgeR.fit(x_train,y_train)\n",
        "\n",
        "# Predict the output\n",
        "y_train_ridge_pred = ridgeR.predict(x_train)\n",
        "y_test_ridge_pred = ridgeR.predict(x_test)\n",
        "\n",
        "# Printing the best parameters obtained by GridSearchCV\n",
        "print(f\"The best alpha value found out to be: {ridgeR.best_params_}\")\n",
        "print(f\"Negative mean square error is: {ridgeR.best_score_}\")"
      ]
    },
    {
      "cell_type": "code",
      "execution_count": null,
      "metadata": {
        "id": "EdmgLEwVWQn4"
      },
      "outputs": [],
      "source": [
        "# Calculating regression metrics for Ridge\n",
        "regression_metrics(y_train,y_train_ridge_pred,y_test,y_test_ridge_pred)"
      ]
    },
    {
      "cell_type": "markdown",
      "metadata": {
        "id": "ThrJ9pGEWQn4"
      },
      "source": [
        "Lasso Regression"
      ]
    },
    {
      "cell_type": "code",
      "execution_count": null,
      "metadata": {
        "id": "CGZlrBaIWQn4"
      },
      "outputs": [],
      "source": [
        "# import lasso regression from sklearn library\n",
        "from sklearn.linear_model import Lasso\n",
        "from sklearn.model_selection import GridSearchCV\n",
        "\n",
        "# Creating Ridge instance\n",
        "lasso= Lasso()\n",
        "\n",
        "# Defining parameters\n",
        "parameters_lasso = {\"alpha\": [1e-5,1e-4,1e-3,1e-2,1e-1,1,5], \"max_iter\":[7,8,9,10]}\n",
        "\n",
        "# Train the model\n",
        "lassoR = GridSearchCV(lasso, parameters_lasso, scoring='neg_mean_squared_error', cv=5)\n",
        "lassoR.fit(x_train,y_train)\n",
        "\n",
        "# Predict the output\n",
        "y_train_lasso_pred = lassoR.predict(x_train)\n",
        "y_test_lasso_pred = lassoR.predict(x_test)\n",
        "\n",
        "# Printing the best parameters obtained by GridSearchCV\n",
        "print(f\"The best alpha value found out to be: {lassoR.best_params_}\")\n",
        "print(f\"Negative mean square error is: {lassoR.best_score_}\")"
      ]
    },
    {
      "cell_type": "code",
      "execution_count": null,
      "metadata": {
        "id": "a-dUSnniWQn5"
      },
      "outputs": [],
      "source": [
        "# Calculating regression metrics for Lasso\n",
        "regression_metrics(y_train,y_train_lasso_pred,y_test,y_test_lasso_pred)"
      ]
    },
    {
      "cell_type": "markdown",
      "metadata": {
        "id": "aoZ05BbhWQn5"
      },
      "source": [
        "Elastic Net Regression"
      ]
    },
    {
      "cell_type": "code",
      "execution_count": null,
      "metadata": {
        "id": "T9mmh28iWQn5"
      },
      "outputs": [],
      "source": [
        "# import elastic net regression from sklearn library\n",
        "from sklearn.linear_model import ElasticNet\n",
        "from sklearn.model_selection import GridSearchCV\n",
        "\n",
        "# Creating e_net instance\n",
        "e_net= ElasticNet()\n",
        "\n",
        "# Defining hyperparameters\n",
        "parameters_e_net = {\"alpha\": [1e-5,1e-4,1e-3,1e-2,1,5], \"max_iter\":[12,13,14,15]}\n",
        "\n",
        "# Train the model\n",
        "e_netR = GridSearchCV(e_net, parameters_e_net, scoring='neg_mean_squared_error', cv=5)\n",
        "e_netR.fit(x_train,y_train)\n",
        "\n",
        "# Predict the output\n",
        "y_train_e_net_pred = e_netR.predict(x_train)\n",
        "y_test_e_net_pred = e_netR.predict(x_test)\n",
        "\n",
        "# Printing the best parameters obtained by GridSearchCV\n",
        "print(f\"The best alpha value found out to be: {e_netR.best_params_}\")\n",
        "print(f\"Negative mean square error is: {e_netR.best_score_}\")"
      ]
    },
    {
      "cell_type": "code",
      "execution_count": null,
      "metadata": {
        "id": "XhzFP9rSWQn5"
      },
      "outputs": [],
      "source": [
        "# Calculating regression metrics for Elastic Net\n",
        "regression_metrics(y_train,y_train_e_net_pred,y_test,y_test_e_net_pred)"
      ]
    },
    {
      "cell_type": "markdown",
      "metadata": {
        "id": "PiV4Ypx8fxKe"
      },
      "source": [
        "##### Which hyperparameter optimization technique have you used and why?"
      ]
    },
    {
      "cell_type": "markdown",
      "metadata": {
        "id": "negyGRa7fxKf"
      },
      "source": [
        "We have used GridSearchCV as the hyperparameter optimization technique as it uses all possible combinations of hyperparameters and their values. It then calculates the performance for each combination and selects the best value for the hyperparameters. This offers the most accurate tuning method."
      ]
    },
    {
      "cell_type": "markdown",
      "metadata": {
        "id": "TfvqoZmBfxKf"
      },
      "source": [
        "##### Have you seen any improvement? Note down the improvement with updates Evaluation metric Score Chart."
      ]
    },
    {
      "cell_type": "markdown",
      "metadata": {
        "id": "OaLui8CcfxKf"
      },
      "source": [
        "Despite using Lasso, Ridge and Elastic net models, we couldn't see any significant improvement in the r2 score, MSE and on MAPE as well. This provoked us to go for higher and more complex ML models like Decision trees, Random Forest, XGBoost Regression and LightGBM Regression."
      ]
    },
    {
      "cell_type": "markdown",
      "metadata": {
        "id": "dJ2tPlVmpsJ0"
      },
      "source": [
        "### ML Model - 2 - **Decision Trees**"
      ]
    },
    {
      "cell_type": "markdown",
      "metadata": {
        "id": "slrlTtyZWQn7"
      },
      "source": [
        "Decision Tree"
      ]
    },
    {
      "cell_type": "code",
      "execution_count": null,
      "metadata": {
        "id": "4axEfv8DWQn7"
      },
      "outputs": [],
      "source": [
        "# import the regressor\n",
        "from sklearn.tree import DecisionTreeRegressor \n",
        "  \n",
        "# create a regressor object\n",
        "TreeR = DecisionTreeRegressor(max_depth=16) \n",
        "  \n",
        "# fit the regressor with X and Y data\n",
        "TreeR.fit(x_train, y_train)\n",
        "\n",
        "# predict the model\n",
        "y_train_tree_pred= TreeR.predict(x_train)\n",
        "y_test_tree_pred= TreeR.predict(x_test)"
      ]
    },
    {
      "cell_type": "code",
      "execution_count": null,
      "metadata": {
        "id": "OodaNvNxWQn7"
      },
      "outputs": [],
      "source": [
        "# Calculating Regression Metrics\n",
        "regression_metrics(y_train,y_train_tree_pred,y_test,y_test_tree_pred)"
      ]
    },
    {
      "cell_type": "code",
      "execution_count": null,
      "metadata": {
        "id": "YCh34kkGWQn8"
      },
      "outputs": [],
      "source": [
        "# Importing libraries for visualizing decison tree\n",
        "from sklearn.tree import DecisionTreeClassifier, export_graphviz\n",
        "from sklearn import tree\n",
        "from IPython.display import SVG\n",
        "from graphviz import Source\n",
        "from IPython.display import display"
      ]
    },
    {
      "cell_type": "code",
      "execution_count": null,
      "metadata": {
        "id": "kgcIGaCJWQn8"
      },
      "outputs": [],
      "source": [
        "# # Visualizing the Decision tree\n",
        "# plt.figure(figsize=(5,50))\n",
        "# graph = Source(tree.export_graphviz(TreeR, out_file=None, feature_names=final_df.columns[:-1], class_names=['0', '1'] , filled = True))\n",
        "# display(SVG(graph.pipe(format='svg')))"
      ]
    },
    {
      "cell_type": "markdown",
      "metadata": {
        "id": "JWYfwnehpsJ1"
      },
      "source": [
        "#### 1. Explain the ML Model used and it's performance using Evaluation metric Score Chart."
      ]
    },
    {
      "cell_type": "code",
      "execution_count": null,
      "metadata": {
        "id": "yEl-hgQWpsJ1"
      },
      "outputs": [],
      "source": [
        "# Visualizing evaluation Metric Score chart\n",
        "# Calculating residuals\n",
        "y_test_tree_pred= y_test_tree_pred.reshape(-1,1)\n",
        "residuals_DT = y_test - y_test_tree_pred\n",
        "Mean= round(np.mean(residuals_DT),2)\n",
        "Median= round(np.median(residuals_DT),2)\n",
        "\n",
        "# Plot residuals\n",
        "plt.figure(figsize=(15,8))\n",
        "plt.scatter(y_test, residuals_DT, c=\"lightgreen\")\n",
        "plt.title(\"Residual Plot for Metric Evaluation\")\n",
        "plt.xlabel('Predicted Sales')\n",
        "plt.ylabel('Residual Error')\n",
        "\n",
        "# Add horizontal line at mean value of y\n",
        "plt.axhline(y=np.nanmean(residuals_DT), color='red', linestyle='--', label=Mean[0])\n",
        "plt.axhline(y=np.nanmedian(residuals_DT), color='green', linestyle='--', label=Median)\n",
        "plt.legend()\n",
        "\n",
        "plt.show()"
      ]
    },
    {
      "cell_type": "markdown",
      "metadata": {
        "id": "CI1jFORMZ8ed"
      },
      "source": [
        "After simple LR models, we tried 'Decision Tree' and we saw a good increment in the r2 score from 0.75 to 0.90 that means \"90% Variance of our test dataset is captured by our trained model\" which is excellent. On the other side our RMSE also decreased and shifted below 5(=4.7) which is very good.Also accuracy increased from 93% to 95%. On the other hand from the residual plot our values of mean and median are shifting towards 0 that means our model is improving. But, in the quest of more accurate and real predictions, we decided to further tune the hyperparameters and check the results."
      ]
    },
    {
      "cell_type": "markdown",
      "metadata": {
        "id": "-jK_YjpMpsJ2"
      },
      "source": [
        "#### 2. Cross- Validation & Hyperparameter Tuning"
      ]
    },
    {
      "cell_type": "markdown",
      "metadata": {
        "id": "HAOPuoOUWQn9"
      },
      "source": [
        "Decision Tree with GridSearchCV"
      ]
    },
    {
      "cell_type": "code",
      "execution_count": null,
      "metadata": {
        "id": "sOXG1PMPWQn-"
      },
      "outputs": [],
      "source": [
        "# import ridge regression from sklearn library\n",
        "from sklearn.tree import DecisionTreeRegressor\n",
        "from sklearn.model_selection import GridSearchCV\n",
        "\n",
        "# Creating Ridge instance\n",
        "decision_tree= DecisionTreeRegressor()\n",
        "\n",
        "# Defining parameters\n",
        "parameters= {'max_depth': [16,17,18], 'min_samples_leaf': [6,7,8], 'min_samples_split': [1,2,4]}\n",
        "\n",
        "# Train the model\n",
        "decision_treeR = GridSearchCV(decision_tree, parameters, scoring='neg_mean_squared_error', cv=3)\n",
        "decision_treeR.fit(x_train,y_train)\n",
        "\n",
        "# Predict the output\n",
        "y_train_grid_Dtree_pred = decision_treeR.predict(x_train)\n",
        "y_test_grid_Dtree_pred = decision_treeR.predict(x_test)\n",
        "\n",
        "# Printing the best parameters obtained by GridSearchCV\n",
        "print(f\"The best alpha value found out to be: {decision_treeR.best_params_}\")\n",
        "print(f\"Negative mean square error is: {decision_treeR.best_score_}\")"
      ]
    },
    {
      "cell_type": "code",
      "execution_count": null,
      "metadata": {
        "id": "MRlM8W_3WQn-"
      },
      "outputs": [],
      "source": [
        "# Calculating Regression Metrics\n",
        "regression_metrics(y_train,y_train_grid_Dtree_pred,y_test,y_test_grid_Dtree_pred)"
      ]
    },
    {
      "cell_type": "markdown",
      "metadata": {
        "id": "HAih1iBOpsJ2"
      },
      "source": [
        "##### Which hyperparameter optimization technique have you used and why?"
      ]
    },
    {
      "cell_type": "markdown",
      "metadata": {
        "id": "9kBgjYcdpsJ2"
      },
      "source": [
        "We have used GridSearchCV as the hyperparameter optimization technique as it uses all possible combinations of hyperparameters and provides the more accurate results. It then calculates the performance for each combination and selects the best value for the hyperparameters. This offers the most accurate tuning method."
      ]
    },
    {
      "cell_type": "markdown",
      "metadata": {
        "id": "zVGeBEFhpsJ2"
      },
      "source": [
        "##### Have you seen any improvement? Note down the improvement with updates Evaluation metric Score Chart."
      ]
    },
    {
      "cell_type": "markdown",
      "metadata": {
        "id": "74yRdG6UpsJ3"
      },
      "source": [
        "We have used different combinations of parameters to get the best value of r2 score and least MAPE for our case. The best combination was found out to be  {'max_depth': 18, 'min_samples_leaf': 7, 'min_samples_split': 4} which resulted into the improvement in the MSE from 22% to 19% on the test set. Also MAPE is further reduced from 4% to 3% and capturing variance 1% more i.e 91% of the test dataset. At this point of time we have achieved above 95% (=96.30%) accuracy by hyperparameter tuning of Decision trees."
      ]
    },
    {
      "cell_type": "markdown",
      "metadata": {
        "id": "bmKjuQ-FpsJ3"
      },
      "source": [
        "#### 3. Explain each evaluation metric's indication towards business and the business impact pf the ML model used."
      ]
    },
    {
      "cell_type": "markdown",
      "metadata": {
        "id": "BDKtOrBQpsJ3"
      },
      "source": [
        "In order to minimise the errors between actual and predicted values, we evaluate our ML model using different metrics. All these metrics try to give us an indication on how close we are with the real/expected output. In our case, each evaluation metric is showing not much difference on the train and test data which shows that our model is predicting a closer expected value. So the sales, the dependent variable, which impacts the business is getting accurately predicted to the extent of ~96% and ~3% far from the mean of actual absolute values."
      ]
    },
    {
      "cell_type": "markdown",
      "metadata": {
        "id": "Fze-IPXLpx6K"
      },
      "source": [
        "### ML Model - 3 - **Random Forest Regression**"
      ]
    },
    {
      "cell_type": "markdown",
      "metadata": {
        "id": "JnTsQwgtWQoB"
      },
      "source": [
        "Random Forest"
      ]
    },
    {
      "cell_type": "code",
      "execution_count": null,
      "metadata": {
        "id": "NBpH7fhHWQoB"
      },
      "outputs": [],
      "source": [
        "# import the regressor\n",
        "from sklearn.ensemble import RandomForestRegressor \n",
        "  \n",
        "# create a regressor object\n",
        "RF_TreeR = RandomForestRegressor(n_estimators=100, max_depth=18) \n",
        "  \n",
        "# fit the regressor with X and Y data\n",
        "RF_TreeR.fit(x_train, y_train)\n",
        "\n",
        "# predict the model\n",
        "y_train_RFtree_pred= RF_TreeR.predict(x_train)\n",
        "y_test_RFtree_pred= RF_TreeR.predict(x_test)"
      ]
    },
    {
      "cell_type": "code",
      "execution_count": null,
      "metadata": {
        "id": "4r814f34WQoB"
      },
      "outputs": [],
      "source": [
        "# Calculating Regression Metrics using RandomForestRegressor\n",
        "regression_metrics(y_train,y_train_RFtree_pred,y_test,y_test_RFtree_pred)"
      ]
    },
    {
      "cell_type": "markdown",
      "metadata": {
        "id": "7AN1z2sKpx6M"
      },
      "source": [
        "#### 1. Explain the ML Model used and it's performance using Evaluation metric Score Chart."
      ]
    },
    {
      "cell_type": "code",
      "execution_count": null,
      "metadata": {
        "id": "xIY4lxxGpx6M"
      },
      "outputs": [],
      "source": [
        "# Visualizing evaluation Metric Score chart\n",
        "# Calculating residuals\n",
        "y_test_RFtree_pred= y_test_RFtree_pred.reshape(-1,1)\n",
        "residuals_RF = y_test - y_test_RFtree_pred\n",
        "Mean= round(np.mean(residuals_RF),2)\n",
        "Median= round(np.median(residuals_RF),2)\n",
        "\n",
        "# Plot residuals\n",
        "plt.figure(figsize=(15,8))\n",
        "plt.scatter(y_test, residuals_DT, c=\"tomato\")\n",
        "plt.title(\"Residual Plot for Metric Evaluation\")\n",
        "plt.xlabel('Predicted Sales')\n",
        "plt.ylabel('Residual Error')\n",
        "\n",
        "# Add horizontal line at mean value of y\n",
        "plt.axhline(y=np.nanmean(residuals_RF), color='red', linestyle='--', label=Mean[0])\n",
        "plt.axhline(y=np.nanmedian(residuals_RF), color='green', linestyle='--', label=Median)\n",
        "plt.legend()\n",
        "\n",
        "plt.show()"
      ]
    },
    {
      "cell_type": "markdown",
      "metadata": {
        "id": "hFT1lLrvaa0o"
      },
      "source": [
        "By implimenting using our third model i.e Random Forest we have achieved the r2 score of 0.95 on training and 0.93 on test dataset that is very good and MSE also reduced from 19 to 17 and that means our model is moving towards optimal model. Apart from this our MAPE is also reducing gradually as we are using ensemble of Decision trees that is Bootstrap Aggregation(Bagging) so it is giving equal preference each of the feature while spliting.\n",
        "\n",
        "We got the Mean=0.02 and Median=-0.09 this shows that as our accuracy increases, our mean and median are shifting towards 0 and the residual error is tending toward gaussian distribution.\n",
        "\n",
        "In order to get the higher accuracy let's perform hyperparameter tuning for the same model and see if we are getting significant results."
      ]
    },
    {
      "cell_type": "markdown",
      "metadata": {
        "id": "9PIHJqyupx6M"
      },
      "source": [
        "#### 2. Cross- Validation & Hyperparameter Tuning"
      ]
    },
    {
      "cell_type": "markdown",
      "metadata": {
        "id": "KmgTeOtdWQoC"
      },
      "source": [
        "Random Forest with RandomizedSearchCV"
      ]
    },
    {
      "cell_type": "code",
      "execution_count": null,
      "metadata": {
        "id": "ELBvRUPTWQoC"
      },
      "outputs": [],
      "source": [
        "# import ridge regression from sklearn library\n",
        "from sklearn.ensemble import RandomForestRegressor\n",
        "from sklearn.model_selection import RandomizedSearchCV\n",
        "\n",
        "# Creating Ridge instance\n",
        "RF_tree= RandomForestRegressor()\n",
        "\n",
        "# Defining parameters\n",
        "parameters= {'n_estimators':[100], 'max_depth': [17,19,20], 'min_samples_leaf': [1, 2]}\n",
        "\n",
        "# Train the model\n",
        "RF_treeR = RandomizedSearchCV(RF_tree, parameters, n_iter=5, n_jobs=-1, scoring='neg_mean_squared_error', cv=3,  verbose=3)\n",
        "RF_treeR.fit(x_train,y_train)\n",
        "\n",
        "# Predict the output\n",
        "y_train_grid_RFtree_pred = RF_treeR.predict(x_train)\n",
        "y_test_grid_RFtree_pred = RF_treeR.predict(x_test)\n",
        "\n",
        "# Printing the best parameters obtained by GridSearchCV\n",
        "print(f\"The best alpha value found out to be: {RF_treeR.best_params_}\")\n",
        "print(f\"Negative mean square error is: {RF_treeR.best_score_}\")"
      ]
    },
    {
      "cell_type": "code",
      "execution_count": null,
      "metadata": {
        "id": "9sUSdw-iWQoD"
      },
      "outputs": [],
      "source": [
        "# Calculating Regression Metrics using GridSearchCV in RandomForestRegressor\n",
        "regression_metrics(y_train,y_train_grid_RFtree_pred,y_test,y_test_grid_RFtree_pred)"
      ]
    },
    {
      "cell_type": "markdown",
      "metadata": {
        "id": "_-qAgymDpx6N"
      },
      "source": [
        "##### Which hyperparameter optimization technique have you used and why?"
      ]
    },
    {
      "cell_type": "markdown",
      "metadata": {
        "id": "lQMffxkwpx6N"
      },
      "source": [
        "We have used RandomizedSearchCV in Random Forest since we have huge dataset and it is good for huge and complex models where we just want to select random parameters from the bag of parameters. It reduces the processing and training time by taking the random subsets of the provided parameters wihout compromising the accuracy of the model."
      ]
    },
    {
      "cell_type": "markdown",
      "metadata": {
        "id": "Z-hykwinpx6N"
      },
      "source": [
        "##### Have you seen any improvement? Note down the improvement with updates Evaluation metric Score Chart."
      ]
    },
    {
      "cell_type": "markdown",
      "metadata": {
        "id": "MzVzZC6opx6N"
      },
      "source": [
        "After using RandomizedSearchCV with different hyperparameters we saw that their is not much significant improvement observed. Although MSE on test dataset has been reduced from 14 to 13."
      ]
    },
    {
      "cell_type": "markdown",
      "metadata": {
        "id": "sjrnsZusWQoE"
      },
      "source": [
        "### ML Model - 4 - **LightGBM Regression**"
      ]
    },
    {
      "cell_type": "markdown",
      "metadata": {
        "id": "Jv63aETpWQoF"
      },
      "source": [
        "LightGBM Regression"
      ]
    },
    {
      "cell_type": "code",
      "execution_count": null,
      "metadata": {
        "id": "ADSC9MGcWQoF"
      },
      "outputs": [],
      "source": [
        "# import the regressor\n",
        "from lightgbm import LGBMRegressor\n",
        "  \n",
        "# create a regressor object\n",
        "lgbmR = LGBMRegressor(boosting_type='gbdt', max_depth=120, learning_rate=0.1, n_estimators=500,  n_jobs=-1) \n",
        "  \n",
        "# fit the regressor with X and Y data\n",
        "lgbmR.fit(x_train, y_train)\n",
        "\n",
        "# predict the model\n",
        "y_train_lgbmR_pred= lgbmR.predict(x_train)\n",
        "y_test_lgbmrR_pred= lgbmR.predict(x_test)"
      ]
    },
    {
      "cell_type": "code",
      "execution_count": null,
      "metadata": {
        "id": "STMmtNmHWQoF"
      },
      "outputs": [],
      "source": [
        "# Calculating Regression Metrics using RandomForestRegressor\n",
        "regression_metrics(y_train, y_train_lgbmR_pred, y_test, y_test_lgbmrR_pred)"
      ]
    },
    {
      "cell_type": "markdown",
      "metadata": {
        "id": "FQFQTTmXWQoF"
      },
      "source": [
        "#### 1. Explain the ML Model used and it's performance using Evaluation metric Score Chart."
      ]
    },
    {
      "cell_type": "code",
      "execution_count": null,
      "metadata": {
        "id": "SX8kEd6TWQoG"
      },
      "outputs": [],
      "source": [
        "# Visualizing evaluation Metric Score chart\n",
        "# Calculating residuals\n",
        "y_test_lgbmrR_pred= y_test_lgbmrR_pred.reshape(-1,1)\n",
        "residuals_LGBM = y_test - y_test_lgbmrR_pred\n",
        "Mean= round(np.mean(residuals_LGBM),2)\n",
        "Median= round(np.median(residuals_LGBM),2)\n",
        "\n",
        "# Plot residuals\n",
        "plt.figure(figsize=(15,8))\n",
        "plt.scatter(y_test, residuals_DT, c=\"gold\")\n",
        "plt.title(\"Residual Plot for Metric Evaluation\")\n",
        "plt.xlabel('Predicted Sales')\n",
        "plt.ylabel('Residual Error')\n",
        "\n",
        "# Add horizontal line at mean value of y\n",
        "plt.axhline(y=np.nanmean(residuals_LGBM), color='red', linestyle='--', label=Mean[0])\n",
        "plt.axhline(y=np.nanmedian(residuals_LGBM), color='green', linestyle='--', label=Median)\n",
        "plt.legend()\n",
        "\n",
        "plt.show()"
      ]
    },
    {
      "cell_type": "markdown",
      "metadata": {
        "id": "9rO0OX43a8Gf"
      },
      "source": [
        "LightGBM is the lighter version of GBM. It has more faster and accurate than other popular gradient boosting libraries such as XGBoost on several datasets. We want to check if our accuracy score can be improved further, so we have tried implimenting LightGBM in order to achieve more accurate results.\n",
        "\n",
        "We saw that with the help of LightGBM we are able to capture 92% of the Variance of the dependent varibale with the help of independent variables(r2 score) for testing dataset and achieved 96% accuracy. Also we are getting MAPE of 3% which is similar as Random Forest.\n",
        "\n",
        "By plotting the residual plot we are getting Mean=0.02 and Median=-0.12 and it denotes that residuals are close to normal distribution.\n",
        "\n",
        "We have further checked the performance metrics by hyperparameter tuning of LightGBM."
      ]
    },
    {
      "cell_type": "markdown",
      "metadata": {
        "id": "9ZmBNoqDWQoG"
      },
      "source": [
        "#### 2. Cross- Validation & Hyperparameter Tuning"
      ]
    },
    {
      "cell_type": "markdown",
      "metadata": {
        "id": "Xpw5U-nMWQoH"
      },
      "source": [
        "LightGBM with RandomizedSearchCV"
      ]
    },
    {
      "cell_type": "code",
      "execution_count": null,
      "metadata": {
        "id": "0_adkavtWQoH"
      },
      "outputs": [],
      "source": [
        "# import RandomizedSearchCV from sklearn library \n",
        "from sklearn.model_selection import RandomizedSearchCV\n",
        "\n",
        "# Creating XGBoost instance\n",
        "lgbm= LGBMRegressor()\n",
        "\n",
        "# Defining parameters\n",
        "parameters={\"learning_rate\":[0.01,0.1],\"max_depth\":[120,125,150],\"n_estimators\":[500,600]}\n",
        "\n",
        "# Train the model\n",
        "lgbm_rand_R= RandomizedSearchCV(lgbm,parameters,scoring='neg_mean_squared_error',n_jobs=-1,cv=3,verbose=3)\n",
        "lgbm_rand_R.fit(x_train,y_train)\n",
        "\n",
        "# Predict the output\n",
        "y_train_rand_lgbm_pred = lgbm_rand_R.predict(x_train)\n",
        "y_test_rand_lgbm_pred = lgbm_rand_R.predict(x_test)\n",
        "\n",
        "# Printing the best parameters obtained by GridSearchCV\n",
        "print(f\"The best alpha value found out to be: {lgbm_rand_R.best_params_}\")\n",
        "print(f\"Negative mean square error is: {lgbm_rand_R.best_score_}\")"
      ]
    },
    {
      "cell_type": "code",
      "execution_count": null,
      "metadata": {
        "id": "q5OuNHONWQoH"
      },
      "outputs": [],
      "source": [
        "# Calculating Regression Metrics using RandomizedSearchCV \n",
        "regression_metrics(y_train,y_train_rand_lgbm_pred,y_test,y_test_rand_lgbm_pred)"
      ]
    },
    {
      "cell_type": "markdown",
      "metadata": {
        "id": "tDF62XQdWQoI"
      },
      "source": [
        "##### Which hyperparameter optimization technique have you used and why?"
      ]
    },
    {
      "cell_type": "markdown",
      "metadata": {
        "id": "WqweME8CWQoI"
      },
      "source": [
        "RandomizedSearchCV was still the better option since it is taking very less processing time without compromising the accuracy. So we have mutually decided to use that hyperparameter optimization technique."
      ]
    },
    {
      "cell_type": "markdown",
      "metadata": {
        "id": "pXg9GhK2WQoI"
      },
      "source": [
        "##### Have you seen any improvement? Note down the improvement with updates Evaluation metric Score Chart."
      ]
    },
    {
      "cell_type": "markdown",
      "metadata": {
        "id": "Ef7NsWVhWQoI"
      },
      "source": [
        "We have tried different parameters for tuning of our LightGBM model and achieved 0.92 r2 score on training dataset, 0.92 on testing set as well that means our model is optimized and not falling under the underfitting or overfitting side. Also, our MAPE is reduced from 7% to 6% after hyperparameter optimization which is fair enough and improved. The best parameters obtained by the optimatization is {'n_estimators': 600, 'max_depth': 150, 'learning_rate': 0.1}."
      ]
    },
    {
      "cell_type": "markdown",
      "metadata": {
        "id": "03yrvCAJWQoJ"
      },
      "source": [
        "### ML Model - 5 - **XGBoost Regression**"
      ]
    },
    {
      "cell_type": "markdown",
      "metadata": {
        "id": "Y0tQ_l-NWQoJ"
      },
      "source": [
        "XGBoost Regression"
      ]
    },
    {
      "cell_type": "code",
      "execution_count": null,
      "metadata": {
        "id": "dGO9JpKOWQoJ"
      },
      "outputs": [],
      "source": [
        "# import the regressor\n",
        "from xgboost import XGBRegressor\n",
        "  \n",
        "# create a regressor object\n",
        "xgbR = XGBRegressor(learning_rate=0.2, max_depth=10) \n",
        "  \n",
        "# fit the regressor with X and Y data\n",
        "xgbR.fit(x_train, y_train)\n",
        "\n",
        "# predict the model\n",
        "y_train_xgbR_pred= xgbR.predict(x_train)\n",
        "y_test_xgbR_pred= xgbR.predict(x_test)"
      ]
    },
    {
      "cell_type": "code",
      "execution_count": null,
      "metadata": {
        "id": "pcMZ1jQxWQoJ"
      },
      "outputs": [],
      "source": [
        "# Calculating Regression Metrics using RandomForestRegressor\n",
        "regression_metrics(y_train,y_train_xgbR_pred,y_test,y_test_xgbR_pred)"
      ]
    },
    {
      "cell_type": "markdown",
      "metadata": {
        "id": "Saly7Wv4WQoJ"
      },
      "source": [
        "#### 1. Explain the ML Model used and it's performance using Evaluation metric Score Chart."
      ]
    },
    {
      "cell_type": "code",
      "execution_count": null,
      "metadata": {
        "id": "jT_OSvsYWQoK"
      },
      "outputs": [],
      "source": [
        "# Visualizing evaluation Metric Score chart\n",
        "# Calculating residuals\n",
        "y_test_xgbR_pred= y_test_xgbR_pred.reshape(-1,1)\n",
        "residuals_XG = y_test - y_test_xgbR_pred\n",
        "Mean= round(np.mean(residuals_XG),2)\n",
        "Median= round(np.median(residuals_XG),2)\n",
        "\n",
        "# Plot residuals\n",
        "plt.figure(figsize=(15,8))\n",
        "plt.scatter(y_test, residuals_DT, c=\"mediumslateblue\")\n",
        "plt.title(\"Residual Plot for Metric Evaluation\")\n",
        "plt.xlabel('Predicted Sales')\n",
        "plt.ylabel('Residual Error')\n",
        "\n",
        "# Add horizontal line at mean value of y\n",
        "plt.axhline(y=np.nanmean(residuals_XG), color='red', linestyle='--', label=Mean[0])\n",
        "plt.axhline(y=np.nanmedian(residuals_XG), color='green', linestyle='--', label=Median)\n",
        "plt.legend()\n",
        "\n",
        "plt.show()"
      ]
    },
    {
      "cell_type": "markdown",
      "metadata": {
        "id": "sKAT24xZarWO"
      },
      "source": [
        "XGBoost (eXtreme Gradient Boosting) is a Gradiant boosting algorithm and very popular for achieving good accuracies. We have used XGBoost in order to shift the MAPE towards 0 (minimize the error).\n",
        "\n",
        "We got the Mean=0.0 and Median=-0.09 which also super close to 0 that means our residuals are perfectly following normal distribution against Sales.\n",
        "\n",
        "We got the MAPE of 3% and r2 score of 0.94 for testing dataset which is which is excelent and improved as well. At this point of time slightly improvement in MAPE can lead to huge profit to stakeholders and we were very curious and excited at this point of time to further improve the efficiency of our model and for this we have again decided to tune the various hyperparameters of xgboost."
      ]
    },
    {
      "cell_type": "markdown",
      "metadata": {
        "id": "X1AU9AnHWQoL"
      },
      "source": [
        "#### 2. Cross- Validation & Hyperparameter Tuning"
      ]
    },
    {
      "cell_type": "markdown",
      "metadata": {
        "id": "lS8-JLN6WQoL"
      },
      "source": [
        "XGBoost with GridSearchCV"
      ]
    },
    {
      "cell_type": "code",
      "execution_count": null,
      "metadata": {
        "id": "TR1eA8HyWQoL"
      },
      "outputs": [],
      "source": [
        "# XGBoost with GridSearchCV\n",
        "from sklearn.model_selection import GridSearchCV\n",
        "\n",
        "# Creating XGBoost instance\n",
        "xgb= XGBRegressor()\n",
        "\n",
        "# Defining parameters\n",
        "parameters={\"learning_rate\":[0.01, 0.1],\"max_depth\":[12,13]}\n",
        "\n",
        "# Train the model\n",
        "xgb_Rand_R= GridSearchCV(xgb,parameters,scoring='neg_mean_squared_error',n_jobs=-1,cv=3,verbose=3)\n",
        "xgb_Rand_R.fit(x_train,y_train)\n",
        "\n",
        "# Predict the output\n",
        "y_train_rand_xgbR_pred = xgb_Rand_R.predict(x_train)\n",
        "y_test_rand_xgbR_pred = xgb_Rand_R.predict(x_test)\n",
        "\n",
        "# Printing the best parameters obtained by GridSearchCV\n",
        "print(f\"The best alpha value found out to be: {xgb_Rand_R.best_params_}\")\n",
        "print(f\"Negative mean square error is: {xgb_Rand_R.best_score_}\")"
      ]
    },
    {
      "cell_type": "code",
      "execution_count": null,
      "metadata": {
        "id": "QorUpEQWWQoL"
      },
      "outputs": [],
      "source": [
        "# Calculating Regression Metrics using GridSearchCV in XGBoost\n",
        "regression_metrics(y_train,y_train_rand_xgbR_pred,y_test,y_test_rand_xgbR_pred)"
      ]
    },
    {
      "cell_type": "markdown",
      "metadata": {
        "id": "14Y07Y6iWQoL"
      },
      "source": [
        "##### Which hyperparameter optimization technique have you used and why?"
      ]
    },
    {
      "cell_type": "markdown",
      "metadata": {
        "id": "-o8dM4nEWQoL"
      },
      "source": [
        "XGboost is a heavy algorithm and takes much processing time with GridSearchCV. So, tuning of hyperparameter with GridSearchCV was a bit complicated task for us. RandomizedSearchCV is excellent hyperparameter optimization technique for this senario. It can take variety of parameters and take the random possible combinations of hyperparameters. So we have used RandomizedSearchCV for hyperparameter tuning."
      ]
    },
    {
      "cell_type": "markdown",
      "metadata": {
        "id": "i9Mo312pWQoL"
      },
      "source": [
        "##### Have you seen any improvement? Note down the improvement with updates Evaluation metric Score Chart."
      ]
    },
    {
      "cell_type": "markdown",
      "metadata": {
        "id": "MzpN3IhNWQoM"
      },
      "source": [
        "Minor improvement in regresson metrics are also significant now as we are moving towards model perfection. With the help of RandomizedSearchCV we got the r2 score of 0.94 (Now 94% of the variance of test set our model is capturing) for test dataset which is 1% higher than without RandomizedSearchCV and the best parameters found out to be{'learning_rate': 0.1, 'max_depth': 13}.\n",
        "Also we have noticed that our MAPE is further reduced and falling under 3% (Minimum error among all models) and on the other hand MSE is also reduced to 12%. We have also seen that on further increasing the max_depth of tree our model is overfitting so above values of parameters are the best combinations."
      ]
    },
    {
      "cell_type": "markdown",
      "metadata": {
        "id": "h_CCil-SKHpo"
      },
      "source": [
        "### 1. Which Evaluation metrics did you consider for a positive business impact and why?"
      ]
    },
    {
      "cell_type": "markdown",
      "metadata": {
        "id": "jHVz9hHDKFms"
      },
      "source": [
        "Since predicting sales over a period of time falls under the category of \"Time series data\" and there are following regression metrics that are required as per our goal of analysis (Predicting future Sales):\n",
        "\n",
        "1. MAE(Mean Absolute Error): This metric calculates the average magnitude of the errors in the predictions, without considering their direction. It has the inverse relation with the accuracy of the model. In regression analysis our aim is to minimise the MAE and ultimately this will create positive business impact.\n",
        "\n",
        "2. RMSE(Root Mean Squared Error): It is the square root of MSE and this is the most widely use regression metric since it has the same units as the original data so it is easy to interpret the magnitude of error.\n",
        "\n",
        "3. R2_Score: R2 score(coefficient of determination) is a metric that is widely used in regression analysis because it measures the proportion of the variance in the dependent variable that is explained by the independent variables. R2 score allows analysts to quickly and easily evaluate the goodness of fit of a model and compare different models. It also provides a clear measure of how well the model is explaining the variance in the dependent variable, which can aid in making decisions about model selection and further analysis.\n",
        "\n",
        "4. MAPE(Mean Absolute Percentage Error): It is calculated by taking the average of the absolute percentage differences between the predicted values and the actual values. This metric is particularly useful when working with time series data(as in our case), as it allows for easy comparison of forecast accuracy across different scales. With the help of MAPE an analyst can easily explain the percentage error to the stakeholders. This metric is considered as one of the most important regression metric in time series data for a positive business impact.\n",
        "\n",
        "5. Accuracy: In time series data(predicting Sales, Customers, Stock prices, etc) the best metric to calculate the accuracy is 100-MAPE, which is the average of the absolute percentage differences between the predicted values and the actual values. A lower value for 100-MAPE indicates a more accurate model."
      ]
    },
    {
      "cell_type": "markdown",
      "metadata": {
        "id": "cBFFvTBNJzUa"
      },
      "source": [
        "### 2. Which ML model did you choose from the above created models as your final prediction model and why?"
      ]
    },
    {
      "cell_type": "markdown",
      "metadata": {
        "id": "6ksF5Q1LKTVm"
      },
      "source": [
        "We have achieved the following test set accuracies in the different models:\n",
        "1. Linear Regression: 93.14%\n",
        "  *   Lasso: 93.14%\n",
        "  *   Ridge: 93.14%\n",
        "  *   Elastic Net: 93.14%\n",
        "2. Decision Tree:\n",
        "  *   Without hyperparameter tuning: 95.95%\n",
        "  *   With hyperparameter tuning: 96.31%\n",
        "3. Random Forest:\n",
        "  *   Without hyperparameter tuning: 96.76%\n",
        "  *   With hyperparameter tuning: 96.96%\n",
        "4. LightGBM:\n",
        "  *   Without hyperparameter tuning: 96.30%\n",
        "  *   With hyperparameter tuning: 96.43%\n",
        "5. XGboost:\n",
        "  *   Without hyperparameter tuning:  96.93%\n",
        "  *   With hyperparameter tuning: 97%\n",
        "\n",
        "We have chosen **XGboost** as our final prediction model with hyperparameters {'learning_rate': 0.1, 'max_depth': 13}. Since it has given the highest accuracy (97%), least MAPE (3%) and decent r2 score(0.94) on the testing dataset among all other models.\n",
        "\n",
        "\n"
      ]
    },
    {
      "cell_type": "markdown",
      "metadata": {
        "id": "p0xQFb2k7jaI"
      },
      "source": [
        "### 3. Explain the model which you have used and the feature importance using any model explainability tool?"
      ]
    },
    {
      "cell_type": "markdown",
      "metadata": {
        "id": "6799xvebTtou"
      },
      "source": [
        "XGBoost (eXtreme Gradient Boosting) provides an efficient implementation of the gradient boosting framework. It is designed for both linear and tree-based models, and it is useful for large datasets. The basic idea behind XGBoost is to train a sequence of simple models, such as decision trees, and combine their predictions to create a more powerful model. Each tree is trained to correct the errors made by the previous trees in the sequence and this known as boosting.\n",
        "\n",
        "XGBoost uses a technique called gradient boosting to optimize the parameters of the trees. It minimizes the loss function by adjusting the parameters of the trees in a way that reduces the error of the overall model. XGBoost also includes a number of other features, such as regularization, which helps to prevent overfitting, and parallel processing, which allows for faster training times.\n",
        "\n",
        "Although tree based algorithm gives most accurate results but they have less explanability. With the help of some explanabilty tools like LIME and SHAP we can explain our model to the stakeholders."
      ]
    },
    {
      "cell_type": "markdown",
      "metadata": {
        "id": "1xXlzo5C0eR1"
      },
      "source": [
        "### Model Explainablity"
      ]
    },
    {
      "cell_type": "markdown",
      "metadata": {
        "id": "DsSgNyFrCbqk"
      },
      "source": [
        "We can approach Model explainablity by two methods \n",
        "1. Globally - how features in the data collectively affect the result. eg. **Linear regression**.\n",
        "\n",
        "2. Locally- It tells us how features individually affect results eg. **Shap, LIME**"
      ]
    },
    {
      "cell_type": "markdown",
      "metadata": {
        "id": "9KTETz04TAYv"
      },
      "source": [
        "#### Global Explainability"
      ]
    },
    {
      "cell_type": "code",
      "execution_count": null,
      "metadata": {
        "id": "yI1YuzH4C2Ih"
      },
      "outputs": [],
      "source": [
        "# Plotting the barplot to determine which feature is contributing the most\n",
        "features = final_df.columns\n",
        "importances = xgbR.feature_importances_\n",
        "indices = np.argsort(importances)\n",
        "plt.figure(figsize=(8,10))\n",
        "plt.grid(zorder=0)\n",
        "plt.title('Feature Importances', fontsize=20)\n",
        "plt.barh(range(len(indices)), importances[indices], align='center')\n",
        "plt.yticks(range(len(indices)), features[indices])\n",
        "plt.xlabel('Relative Importance')"
      ]
    },
    {
      "cell_type": "code",
      "execution_count": null,
      "metadata": {
        "id": "LCmw_-adLFzg"
      },
      "outputs": [],
      "source": [
        "# Checking the percentage of feature importance\n",
        "feature_imp = pd.DataFrame(columns = ['Variable','Importance'])\n",
        "feature_imp.Variable = features[:-1]\n",
        "feature_imp.Importance = importances*100\n",
        "feature_imp.sort_values(by=\"Importance\",axis=0,ascending=False)"
      ]
    },
    {
      "cell_type": "markdown",
      "metadata": {
        "id": "L6DDxfquTwZf"
      },
      "source": [
        "As we have considered XGboost as our final optimal model with very good accuracies but still this model is considered as black box model since we don't know actually what is happening inside the algorithm. In order to gain the trust of stakeholders we have to explain the model and under which conditions the model is predicting that particular result with a valid and senseful reason. So, in order to increase the explainability we have plotted the bar plot for decresing sequence of feature importance.\n",
        "\n",
        "From the above plot it is clear that for XGboost model \"StoreType_d\" is contributing maximum i.e 34% in the final outcome, \"Customers\" is contributing 24% and followed by \"StoreType_b\", \"Promo\" and \"Promo2\"."
      ]
    },
    {
      "cell_type": "markdown",
      "metadata": {
        "id": "mfduqOUtyyN2"
      },
      "source": [
        "We have achieved accuracy of 85% with the help of linear regression but to attain more accuracy and eventually scale up your business we have done this with the help of random forest, Xgboost, decision tree but they are black box models(cant explain) so we use **MODEL EXPLAINABLITY** tool **SHAP**.  "
      ]
    },
    {
      "cell_type": "markdown",
      "metadata": {
        "id": "V_HeOwszWQoO"
      },
      "source": [
        "####Explanability using SHAP"
      ]
    },
    {
      "cell_type": "markdown",
      "metadata": {
        "id": "oZUS7JK2AQvq"
      },
      "source": [
        "SHAP (**Shapley Additive exPlanations**) It is used to calculate the impact of each feature of the model on the final result."
      ]
    },
    {
      "cell_type": "markdown",
      "metadata": {
        "id": "aTiNZ_riEpn9"
      },
      "source": [
        " Here we are using TreeExplainer (for the analysis of decision trees_"
      ]
    },
    {
      "cell_type": "code",
      "execution_count": null,
      "metadata": {
        "id": "8ro2yaU3WQoO"
      },
      "outputs": [],
      "source": [
        "!pip install shap"
      ]
    },
    {
      "cell_type": "markdown",
      "metadata": {
        "id": "6p1wEAjT0LEz"
      },
      "source": [
        "Explaining decision tree with **ForcePlot**"
      ]
    },
    {
      "cell_type": "code",
      "execution_count": null,
      "metadata": {
        "id": "2G4Mnuu9WQoP"
      },
      "outputs": [],
      "source": [
        "# Storing our features into new variable\n",
        "feature = final_df.columns[:-1]"
      ]
    },
    {
      "cell_type": "code",
      "execution_count": null,
      "metadata": {
        "id": "wDMoU-gDWQoP"
      },
      "outputs": [],
      "source": [
        "#checking the values in the list\n",
        "feature"
      ]
    },
    {
      "cell_type": "code",
      "execution_count": null,
      "metadata": {
        "id": "x9dnDyYbWQoP"
      },
      "outputs": [],
      "source": [
        "# Checking the first observation\n",
        "x_test[0:1]"
      ]
    },
    {
      "cell_type": "code",
      "execution_count": null,
      "metadata": {
        "id": "Iod4pVw9WQoQ"
      },
      "outputs": [],
      "source": [
        "import shap \n",
        "#create an explainer for a tree-based model, i.e., random forest (rf) \n",
        "explainer = shap.TreeExplainer(TreeR) \n",
        "shap_values = explainer.shap_values(x_test[0:1])  #pass the first test sample"
      ]
    },
    {
      "cell_type": "code",
      "execution_count": null,
      "metadata": {
        "id": "Pr65DIlGWQoQ"
      },
      "outputs": [],
      "source": [
        "shap.initjs() #initialize the JavaScript visualization in the notebook environment \n",
        "shap.force_plot(explainer.expected_value[0], shap_values=shap_values[0], features = feature)"
      ]
    },
    {
      "cell_type": "code",
      "execution_count": null,
      "metadata": {
        "id": "Hz8WUN1SR2-_"
      },
      "outputs": [],
      "source": [
        "y_test_tree_pred[0:1]"
      ]
    },
    {
      "cell_type": "code",
      "execution_count": null,
      "metadata": {
        "id": "XJInbNqgWQoR"
      },
      "outputs": [],
      "source": [
        "y_test[0:1]"
      ]
    },
    {
      "cell_type": "code",
      "execution_count": null,
      "metadata": {
        "id": "Tgn9hwT0Bh43"
      },
      "outputs": [],
      "source": [
        "x_test[0:1]"
      ]
    },
    {
      "cell_type": "markdown",
      "metadata": {
        "id": "ppBd0_Hh6jcq"
      },
      "source": [
        "Now the first value in the index is **DayOfWeek** so we will explain our model prediction on the basis of this.\n",
        "1. We can see that the base line value is **80.22** and our function is predicting **91.07** which is quite good.\n",
        "2. **customers** and **storeType_d** are mainly responsible for that Right shift And From the opposite direction Promo and Day ofWeek acts on it to partially balance it out.\n",
        "\n",
        "\n",
        "\n",
        "\n"
      ]
    },
    {
      "cell_type": "code",
      "execution_count": null,
      "metadata": {
        "id": "wgTYmWGVWQoR"
      },
      "outputs": [],
      "source": [
        "#pass the second test sample\n",
        "shap_values = explainer.shap_values(x_test[1:2])"
      ]
    },
    {
      "cell_type": "code",
      "execution_count": null,
      "metadata": {
        "id": "MfgyBxnpWQoR"
      },
      "outputs": [],
      "source": [
        "#initialize the JavaScript visualization in the notebook environment \n",
        "shap.initjs() \n",
        "shap.force_plot(explainer.expected_value[0], shap_values=shap_values[0], features = feature)"
      ]
    },
    {
      "cell_type": "markdown",
      "metadata": {
        "id": "rycPK0W07Xr8"
      },
      "source": [
        "Now we are taking the second index value to justify our model which is **Customers**, How far average prediction(**Base value**) away from prediction done by customer feature and which are all those factors which are responsible for this prediction. The Base value is **80.22** and the predicted value is around **73.15** "
      ]
    },
    {
      "cell_type": "code",
      "execution_count": null,
      "metadata": {
        "id": "clYMEmEdWQoR"
      },
      "outputs": [],
      "source": [
        "#pass the third test sample\n",
        "shap_values = explainer.shap_values(x_test[2:3])"
      ]
    },
    {
      "cell_type": "code",
      "execution_count": null,
      "metadata": {
        "id": "l29IonQ9WQoR"
      },
      "outputs": [],
      "source": [
        "#initialize the JavaScript visualization in the notebook environment \n",
        "shap.initjs()\n",
        "shap.force_plot(explainer.expected_value[0], shap_values=shap_values[0], features = feature)"
      ]
    },
    {
      "cell_type": "markdown",
      "metadata": {
        "id": "EyNgTHvd2WFk"
      },
      "source": [
        "## ***8.*** ***Future Work (Optional)***"
      ]
    },
    {
      "cell_type": "markdown",
      "metadata": {
        "id": "lnIdIfDMRPiR"
      },
      "source": [
        "To store our final model(object) such that we can use that in future we will use pikle module. Pickle module implements binary protocols for serializing and de-serializing a Python object structure. “Pickling” is the process where a Python object hierarchy is converted into a byte stream, and “unpickling” is the inverse operation, where a byte stream (from a binary file or bytes-like object) is converted back into an object hierarchy. Pickling (and unpickling) is alternatively known as “serialization”, “marshalling,” 1 or “flattening”; however, to avoid confusion, the terms used here are “pickling” and “unpickling”.\n",
        "\n",
        "Pickle in Python is primarily used in serializing and deserializing a Python object structure. In other words, it's the process of converting a Python object into a byte stream to store it in a file/database, maintain program state across sessions, or transport data over the network"
      ]
    },
    {
      "cell_type": "markdown",
      "metadata": {
        "id": "KH5McJBi2d8v"
      },
      "source": [
        "### 1. Save the best performing ml model in a pickle file or joblib file format for deployment process.\n"
      ]
    },
    {
      "cell_type": "code",
      "execution_count": null,
      "metadata": {
        "id": "6vT5rCh7SuV4"
      },
      "outputs": [],
      "source": [
        "# Importing pickle module\n",
        "import pickle"
      ]
    },
    {
      "cell_type": "code",
      "execution_count": null,
      "metadata": {
        "id": "bQIANRl32f4J"
      },
      "outputs": [],
      "source": [
        "# Save the File\n",
        "filename='Rossmann_regression.pkl'\n",
        "\n",
        "# serialize process (wb=write byte)\n",
        "pickle.dump(xgbR,open(filename,'wb'))"
      ]
    },
    {
      "cell_type": "markdown",
      "metadata": {
        "id": "iW_Lq9qf2h6X"
      },
      "source": [
        "### 2. Again Load the saved model file and try to predict unseen data for a sanity check.\n"
      ]
    },
    {
      "cell_type": "code",
      "execution_count": null,
      "metadata": {
        "id": "oEXk9ydD2nVC"
      },
      "outputs": [],
      "source": [
        "# Load the File and predict unseen data.\n",
        "\n",
        "# unserialize process (rb=read byte)\n",
        "Regression_model= pickle.load(open(filename,'rb'))\n",
        "\n",
        "# Predicting the unseen data(test set)\n",
        "Regression_model.predict(x_test)"
      ]
    },
    {
      "cell_type": "code",
      "source": [
        "# Checking if we are getting the same predicted values\n",
        "y_test_xgbR_pred"
      ],
      "metadata": {
        "id": "T4S8mY8xEpPM"
      },
      "execution_count": null,
      "outputs": []
    },
    {
      "cell_type": "markdown",
      "metadata": {
        "id": "-Kee-DAl2viO"
      },
      "source": [
        "### ***Congrats! Your model is successfully created and ready for deployment on a live server for a real user interaction !!!***"
      ]
    },
    {
      "cell_type": "markdown",
      "metadata": {
        "id": "H3urwUSI5eiG"
      },
      "source": [
        "# **Conclusion**"
      ]
    },
    {
      "cell_type": "markdown",
      "metadata": {
        "id": "bF9wftxPyjwS"
      },
      "source": [
        "##**Conclusions drawn from EDA**"
      ]
    },
    {
      "cell_type": "markdown",
      "metadata": {
        "id": "Khvn9gF-5eiG"
      },
      "source": [
        "Exploratory Data Analysis (EDA) is an important step because it allows for the initial investigation of a dataset. It helps to identify patterns, anomalies, and relationships in the data, as well as to detect any potential issues such as missing values or outliers. EDA also helps to generate hypotheses and inform the development of more advanced modeling techniques, such as machine learning. Additionally, it is a good way to understand the data, which is crucial for good decision making. EDA also helps to provide a deeper understanding of the data and helps to guide the direction of further analysis. After performing EDA we have drawn the following conclusions:\n",
        "\n",
        "* Sales vs Customers graph shows positive correlation between 'Sales' and \n",
        "'Customers'. As the number of customers increases, the sales also tend to increase.\n",
        "* December being a festive month attracts more sale than the rest of the months. Also, November has slightly more sales than other months. This could be due to the 'Black Friday' sale which is very popular across the globe. As Rossmann Stores deals in health and beauty products, it can be guessed that November and December sales are due to the celebratory nature of people who love to buy beauty/health products leading to the sudden increase in sales.\n",
        "* Day 1 and day 7 witness the highest sale indicating they are probably days falling on the weekend. Day 2 to day 6 generate medium to low sales indicating they are probably weekdays where customer footfall is low.\n",
        "* As stores are getting promoted, more sales are getting generated.\n",
        "* Plot between StateHolidays and sales shows that during Easter and Christmas holiday sales are actually high but for other holiday such as public ,sales are comparatively low.\n",
        "* Sales for the store type b is the highest . Store type B might be located in a more affluent or high-traffic area, which would increase the number of potential customers. Store type B may have a more favorable layout, which makes it more attractive to customers and makes it easier for them to find the products they want, resulting in more sales.\n",
        "* Sales are highest for the assortment b . This assortment may have a good mix of products that are in high demand or that are unique to the store, which would result in more sales.\n",
        "* We observed that mostly the competitor stores weren't that far from each other and the stores densely located near each other saw more sales.\n",
        "* We can conclude that Sales are high during the year 1900, as there are very few store were operated of Rossmann so there is less competition and sales are high. But as year pass on number of stores increased that means competition also increased and this leads to decline in the sales.\n",
        "* From plot sales and competition Open Since Month shows sales go increasing from Novemmber and highest in month December. This may be due to Christmas eve and New Year.\n",
        "* We can conclude from sales vs promo2 graph that customers are slightly less responsive to the stores(i.e sales) that are running consecutive promotions. One possibility could be customers might have already taken advantage of a similar promotion earlier. Another reason could be store might not have invested enough in promoting the promotion to customers, resulting in lower awareness and fewer sales. Also, if the store is running same promotion again and again, it could have resulted into lower customer footfal and ultimately leadind to fewer sales.\n",
        "* Sales vs Promo2SinceYear barplot explains that sales were still the highest when the store wasn't running any consecutive promotional events. But in 2014, the sales were really shoot up and they are recorded as 2nd highest. Good quality products, better deals, shutdown of competitions etc could be the reasons.\n",
        "* We can see the promo interval Jan, Apr, Jul, Oct records the 2nd highest sales as it marks the festive season. However, the other intervals are recording sales that are close to the 1st interval."
      ]
    },
    {
      "cell_type": "markdown",
      "metadata": {
        "id": "uZxyzFJdyzxV"
      },
      "source": [
        "##**Conclusions drawn from ML Model Implementation**"
      ]
    },
    {
      "cell_type": "markdown",
      "metadata": {
        "id": "W58G1QiTy-oo"
      },
      "source": [
        "Close predictions of any ML model highly impacts the business growth. Before going to further model deployment one should have to check how accurately the model is predicting and performing with the real life data.\n",
        "\n",
        "Conclusions drawn from any model are very helpful to identify wheather the model is fully baked and good to go for deployment process or needs further refinement. In this section first we will talk about some general points that are essential for every ML model and then will talk about the project oriented conclusions we made:\n",
        "\n",
        "**General conclusions**:\n",
        "\n",
        "\n",
        "*   The implementation of an ML model can greatly \n",
        "improve the performance and accuracy of a system or application.\n",
        "*   It is important to carefully select and preprocess the data used for training and testing the model.\n",
        "*   Regular evaluation and tuning of the model is necessary to ensure optimal performance.\n",
        "*   The use of appropriate evaluation metrics can help to measure the performance of the model.\n",
        "*   The integration of the model into the system or application should be done in a way that allows for easy maintenance and updates.\n",
        "*   The ethical and legal considerations of the model's use should also be taken into account.\n",
        "\n",
        "**Project conclusions**:\n",
        "\n",
        "We have implemented various regression model started with Linear Regression and then we have tried other non linear models too. For each of the model we have tried to tune the hyperparameters as well in order to minimize the errors and drawn following conclusions\n",
        "*   In Linear Regression we got the accuracy of ~93% and the model is capturing 75% of variance even after using regularization techniques that means our data is not perfectly  linearly dependent with target variable(Sales).\n",
        "*   For Decsion Tree we have achieved ~96.3% accuracy with maximum depth of 18 and on increasing the depth over it we are falling towards overfitting and MAPE of 3.6% which ultimately increases the mean absolute percentage error.\n",
        "*   Giving preference to each of the variable always results in better accuracy as small subsets can provide significant accuracy percentage. Ensemble technique i.e Random Forest has given the accuray of ~96.96% with total trees of 100 in the forest with hyperparameter tuning.\n",
        "*   We have also tried gradiant boosting technique with LightGBM although we got the similar results as Random Forest(~96.4%) but we got the more fast results as it has used all the cores and decrease processing time. While training the large dataset one should try LightGBM for good results in less time.\n",
        "*   At last we have implemented our final model i.e XGboost and achieved the accuracy of 97% with mean absolute percentage error of only 2%. Also we got the mean and median of residuals at 0.09 which is indicating towards excellent residual plot. \n",
        "\n",
        "Since, a good residual plot have the following characteristics:\n",
        "> 1. It should contains high density of points close to the origin and a low density of points away from the origin.\n",
        "> 2. It is symmetric about the origin.\n",
        "\n",
        "The residual plot obtained from XGboost of fulfilling both the characteristics and from the above experiments and identifications we have choosen the XGboost as our final optimal model for deployment."
      ]
    }
  ]
}